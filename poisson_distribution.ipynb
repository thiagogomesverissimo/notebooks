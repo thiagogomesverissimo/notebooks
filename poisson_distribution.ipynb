{
 "cells": [
  {
   "cell_type": "markdown",
   "metadata": {},
   "source": [
    "A distribuição de poisson indica a probabilidade do número de sucessos em uma exposição contínua, sendo:\n",
    "\n",
    "- k = quantidade de sucessos\n",
    "- $\\lambda$ = taxa de sucessos média conhecida historicamente\n",
    "- P(X=x) = probabilidade de sucessos na exposição\n",
    "\n",
    "$ P(X=k) = \\frac{e^{-\\lambda}\\lambda^k}{k!} $"
   ]
  },
  {
   "cell_type": "code",
   "execution_count": 14,
   "metadata": {},
   "outputs": [
    {
     "name": "stdout",
     "output_type": "stream",
     "text": [
      "0.2706705664732254\n",
      "0.2706705664732254\n",
      "0.18044704431548356\n",
      "0.1353352832366127\n",
      "0.03608940886309672\n"
     ]
    }
   ],
   "source": [
    "# 1) Um dentista notou que a taxa média de pacientes inadimplentes é de 2/ano, supondo uma distribuição de poisson:\n",
    "taxa = 2\n",
    "\n",
    "# a) qual a probabilidade de que 1 inadimplente em um ano?\n",
    "from math import factorial\n",
    "from numpy import exp\n",
    "k=1\n",
    "print((exp(-taxa)*taxa**k)/factorial(k))\n",
    "\n",
    "# usando a biblioteca do scipy: poisson.pmf(k, mu)\n",
    "from scipy.stats import poisson\n",
    "print(poisson.pmf(k, taxa))\n",
    "\n",
    "# b) qual a probabilidade de que 3 inadimplentes em um ano?\n",
    "print(poisson.pmf(3, taxa))\n",
    "\n",
    "# c) qual a probabilidade de que nenhum inadimplente em um ano?\n",
    "print(poisson.pmf(0, taxa))\n",
    "\n",
    "# d) qual a probabilidade de que 10 inadimplentes em dois ano?\n",
    "print(poisson.pmf(5, taxa))"
   ]
  },
  {
   "cell_type": "code",
   "execution_count": 16,
   "metadata": {},
   "outputs": [
    {
     "data": {
      "text/plain": [
       "<matplotlib.axes._subplots.AxesSubplot at 0x7f9755e1e320>"
      ]
     },
     "execution_count": 16,
     "metadata": {},
     "output_type": "execute_result"
    },
    {
     "data": {
      "image/png": "[encoded data removed]",
      "text/plain": [
       "<Figure size 432x288 with 1 Axes>"
      ]
     },
     "metadata": {
      "needs_background": "light"
     },
     "output_type": "display_data"
    }
   ],
   "source": [
    "# É interessante observar como a probabilidade muda em função dos casos de inadimplentes\n",
    "import seaborn as sns\n",
    "k = range(0,20)\n",
    "probabilidade = poisson.pmf(k, taxa)\n",
    "sns.scatterplot(x=k, y=probabilidade)"
   ]
  },
  {
   "cell_type": "code",
   "execution_count": 21,
   "metadata": {},
   "outputs": [
    {
     "data": {
      "text/plain": [
       "<matplotlib.axes._subplots.AxesSubplot at 0x7f97534e8b38>"
      ]
     },
     "execution_count": 21,
     "metadata": {},
     "output_type": "execute_result"
    },
    {
     "data": {
      "image/png": "[encoded data removed]",
      "text/plain": [
       "<Figure size 432x288 with 1 Axes>"
      ]
     },
     "metadata": {
      "needs_background": "light"
     },
     "output_type": "display_data"
    }
   ],
   "source": [
    "# Aumentando a taxa\n",
    "taxa = 10\n",
    "k = range(0,20)\n",
    "probabilidade = poisson.pmf(k, taxa)\n",
    "sns.scatterplot(x=k, y=probabilidade)"
   ]
  },
  {
   "cell_type": "code",
   "execution_count": null,
   "metadata": {},
   "outputs": [],
   "source": []
  }
 ],
 "metadata": {
  "kernelspec": {
   "display_name": "Python 3",
   "language": "python",
   "name": "python3"
  },
  "language_info": {
   "codemirror_mode": {
    "name": "ipython",
    "version": 3
   },
   "file_extension": ".py",
   "mimetype": "text/x-python",
   "name": "python",
   "nbconvert_exporter": "python",
   "pygments_lexer": "ipython3",
   "version": "3.7.3"
  }
 },
 "nbformat": 4,
 "nbformat_minor": 2
}
