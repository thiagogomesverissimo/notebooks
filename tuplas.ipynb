{
 "cells": [
  {
   "cell_type": "markdown",
   "metadata": {},
   "source": [
    "## unpacking tuplas\n",
    "Desampacotando uma tupla, podemos eventualmente não querer todos elmentos da mesma, jogando-os numa lista *resto"
   ]
  },
  {
   "cell_type": "code",
   "execution_count": 3,
   "metadata": {},
   "outputs": [
    {
     "name": "stdout",
     "output_type": "stream",
     "text": [
      "maria\n",
      "pedro\n",
      "['resto não importa', 3, 4]\n"
     ]
    }
   ],
   "source": [
    "tupla = ('maria','pedro','resto não importa',3,4)\n",
    "nome1, nome2, *resto = tupla\n",
    "print(nome1)\n",
    "print(nome2)\n",
    "print(resto)"
   ]
  }
 ],
 "metadata": {
  "kernelspec": {
   "display_name": "Python 3",
   "language": "python",
   "name": "python3"
  },
  "language_info": {
   "codemirror_mode": {
    "name": "ipython",
    "version": 3
   },
   "file_extension": ".py",
   "mimetype": "text/x-python",
   "name": "python",
   "nbconvert_exporter": "python",
   "pygments_lexer": "ipython3",
   "version": "3.7.3"
  }
 },
 "nbformat": 4,
 "nbformat_minor": 2
}
