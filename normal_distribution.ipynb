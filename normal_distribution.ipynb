{
 "cells": [
  {
   "cell_type": "markdown",
   "metadata": {},
   "source": [
    "Nos últimos meses, foram feitas medições do tempo decorrido entre o início e finalização de uma das etapas do processo de produção de certo produto. O tempo médio foi calculado em 26,5 minutos e o desvio padrão foi de 4,0 minutos. Sabendo que tal variável segue uma distribuição normal, identifique as seguintes informações:"
   ]
  },
  {
   "cell_type": "code",
   "execution_count": 1,
   "metadata": {},
   "outputs": [
    {
     "name": "stdout",
     "output_type": "stream",
     "text": [
      "0.004332448363012609\n",
      "0.05208127941521953\n",
      "0.5158752495359149\n"
     ]
    }
   ],
   "source": [
    "from scipy.stats import norm\n",
    "media = 26.5\n",
    "desvio = 4\n",
    "# pdf: probability density function\n",
    "# cdf: cumulative density function\n",
    "\n",
    "# a) P(X>37)\n",
    "z=(37-media)/desvio\n",
    "print(1-norm.cdf(z))\n",
    "\n",
    "# b) P(X<20)\n",
    "z=(20-media)/desvio\n",
    "print(norm.cdf(z))\n",
    "\n",
    "# c) P(22<X<28)\n",
    "z1=(22-media)/desvio\n",
    "z2=(28-media)/desvio\n",
    "print(norm.cdf(z2)-norm.cdf(z1))"
   ]
  },
  {
   "cell_type": "code",
   "execution_count": 15,
   "metadata": {},
   "outputs": [
    {
     "data": {
      "text/plain": [
       "8.311667067112081"
      ]
     },
     "execution_count": 15,
     "metadata": {},
     "output_type": "execute_result"
    }
   ],
   "source": [
    "import random\n",
    "import seaborn as sns\n",
    "import numpy as np\n",
    "\n",
    "mu = 5\n",
    "sigma = 2\n",
    "random.normalvariate(mu, sigma)"
   ]
  },
  {
   "cell_type": "code",
   "execution_count": 16,
   "metadata": {},
   "outputs": [
    {
     "data": {
      "image/png": "[encoded data removed]",
      "text/plain": [
       "<Figure size 360x360 with 1 Axes>"
      ]
     },
     "metadata": {
      "needs_background": "light"
     },
     "output_type": "display_data"
    }
   ],
   "source": [
    "populacao = [random.normalvariate(mu, sigma) for _ in range(10000)]\n",
    "sns.displot(valores);"
   ]
  },
  {
   "cell_type": "code",
   "execution_count": 19,
   "metadata": {},
   "outputs": [
    {
     "data": {
      "text/plain": [
       "5.091521813627626"
      ]
     },
     "execution_count": 19,
     "metadata": {},
     "output_type": "execute_result"
    }
   ],
   "source": [
    "sampleA = random.sample(populacao,100)\n",
    "np.mean(sampleA)"
   ]
  },
  {
   "cell_type": "code",
   "execution_count": 21,
   "metadata": {},
   "outputs": [
    {
     "data": {
      "text/plain": [
       "4.932905834885556"
      ]
     },
     "execution_count": 21,
     "metadata": {},
     "output_type": "execute_result"
    }
   ],
   "source": [
    "# criação 100 amostras com 50 observações cada. Tiramos a média de cada amostra\n",
    "# e depois tiramos a média das médias\n",
    "medias = [np.mean(random.sample(populacao, 50)) for _ in range(100)]\n",
    "np.mean(medias)"
   ]
  },
  {
   "cell_type": "code",
   "execution_count": null,
   "metadata": {},
   "outputs": [],
   "source": []
  },
  {
   "cell_type": "code",
   "execution_count": null,
   "metadata": {},
   "outputs": [],
   "source": []
  }
 ],
 "metadata": {
  "kernelspec": {
   "display_name": "Python 3 (ipykernel)",
   "language": "python",
   "name": "python3"
  },
  "language_info": {
   "codemirror_mode": {
    "name": "ipython",
    "version": 3
   },
   "file_extension": ".py",
   "mimetype": "text/x-python",
   "name": "python",
   "nbconvert_exporter": "python",
   "pygments_lexer": "ipython3",
   "version": "3.8.10"
  }
 },
 "nbformat": 4,
 "nbformat_minor": 2
}
