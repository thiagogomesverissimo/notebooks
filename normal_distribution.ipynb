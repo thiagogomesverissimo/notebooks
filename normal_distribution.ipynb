{
 "cells": [
  {
   "cell_type": "markdown",
   "metadata": {},
   "source": [
    "Nos últimos meses, foram feitas medições do tempo decorrido entre o início e finalização de uma das etapas do processo de produção de certo produto. O tempo médio foi calculado em 26,5 minutos e o desvio padrão foi de 4,0 minutos. Sabendo que tal variável segue uma distribuição normal, identifique as seguintes informações:"
   ]
  },
  {
   "cell_type": "code",
   "execution_count": 6,
   "metadata": {},
   "outputs": [
    {
     "name": "stdout",
     "output_type": "stream",
     "text": [
      "0.004332448363012609\n",
      "0.05208127941521953\n",
      "0.5158752495359149\n"
     ]
    }
   ],
   "source": [
    "from scipy.stats import norm\n",
    "media = 26.5\n",
    "desvio = 4\n",
    "# pdf: probability density function\n",
    "# cdf: cumulative density function\n",
    "\n",
    "# a) P(X>37)\n",
    "z=(37-media)/desvio\n",
    "print(1-norm.cdf(z))\n",
    "\n",
    "# b) P(X<20)\n",
    "z=(20-media)/desvio\n",
    "print(norm.cdf(z))\n",
    "\n",
    "# c) P(22<X<28)\n",
    "z1=(22-media)/desvio\n",
    "z2=(28-media)/desvio\n",
    "print(norm.cdf(z2)-norm.cdf(z1))"
   ]
  },
  {
   "cell_type": "code",
   "execution_count": null,
   "metadata": {},
   "outputs": [],
   "source": []
  }
 ],
 "metadata": {
  "kernelspec": {
   "display_name": "Python 3",
   "language": "python",
   "name": "python3"
  },
  "language_info": {
   "codemirror_mode": {
    "name": "ipython",
    "version": 3
   },
   "file_extension": ".py",
   "mimetype": "text/x-python",
   "name": "python",
   "nbconvert_exporter": "python",
   "pygments_lexer": "ipython3",
   "version": "3.7.3"
  }
 },
 "nbformat": 4,
 "nbformat_minor": 2
}
