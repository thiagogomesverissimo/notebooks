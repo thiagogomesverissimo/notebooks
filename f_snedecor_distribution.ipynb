{
 "cells": [
  {
   "cell_type": "code",
   "execution_count": 3,
   "metadata": {},
   "outputs": [
    {
     "name": "stdout",
     "output_type": "stream",
     "text": [
      "0.16605717926271168\n",
      "0.5142237972801845\n",
      "0.04549975118639882\n",
      "2.003037329633825\n"
     ]
    }
   ],
   "source": [
    "# Uma variável x segue a distribuição F de Snedecor e apresenta 17\n",
    "# graus de liberdade no numerador e 28 graus de liberdade no \n",
    "# denominador:\n",
    "\n",
    "from scipy.stats import f # ppf(x, dfn, dfd)\n",
    "\n",
    "# a) probabilidade de X > 1,5\n",
    "print(1-f.cdf(1.5,17,28))\n",
    "\n",
    "# b) probabilidade de X < 1\n",
    "print(f.cdf(1,17,28))\n",
    "\n",
    "# c) probabilidade de X > 2 e X < 3\n",
    "print(f.cdf(3,17,28)-f.cdf(2,17,28))\n",
    "\n",
    "# d) Valor de X para que P(X>x) seja 5%\n",
    "print(f.ppf(1-0.05,17,28))"
   ]
  },
  {
   "cell_type": "code",
   "execution_count": null,
   "metadata": {},
   "outputs": [],
   "source": []
  }
 ],
 "metadata": {
  "kernelspec": {
   "display_name": "Python 3",
   "language": "python",
   "name": "python3"
  },
  "language_info": {
   "codemirror_mode": {
    "name": "ipython",
    "version": 3
   },
   "file_extension": ".py",
   "mimetype": "text/x-python",
   "name": "python",
   "nbconvert_exporter": "python",
   "pygments_lexer": "ipython3",
   "version": "3.7.3"
  }
 },
 "nbformat": 4,
 "nbformat_minor": 2
}
