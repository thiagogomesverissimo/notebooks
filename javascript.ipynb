{
 "cells": [
  {
   "cell_type": "code",
   "execution_count": 21,
   "metadata": {},
   "outputs": [
    {
     "data": {
      "application/javascript": [
       "\n",
       "// criando e iterando sobre um objeto\n",
       "var pessoas = {\n",
       "    'pedro' : 25,\n",
       "    'maria' : 41,\n",
       "    'jose'  : 15\n",
       "};\n",
       "\n",
       "for (var pessoa in pessoas) {\n",
       "    console.log(pessoa + \" tem \" + pessoas[pessoa] + \" anos\");\n",
       "}\n"
      ],
      "text/plain": [
       "<IPython.core.display.Javascript object>"
      ]
     },
     "metadata": {},
     "output_type": "display_data"
    }
   ],
   "source": [
    "%%javascript\n",
    "\n",
    "// criando e iterando sobre um objeto\n",
    "var pessoas = {\n",
    "    'pedro' : 25,\n",
    "    'maria' : 41,\n",
    "    'jose'  : 15\n",
    "};\n",
    "\n",
    "for (var pessoa in pessoas) {\n",
    "    console.log(pessoa + \" tem \" + pessoas[pessoa] + \" anos\");\n",
    "}\n"
   ]
  },
  {
   "cell_type": "code",
   "execution_count": null,
   "metadata": {},
   "outputs": [],
   "source": []
  }
 ],
 "metadata": {
  "kernelspec": {
   "display_name": "Python 3",
   "language": "python",
   "name": "python3"
  },
  "language_info": {
   "codemirror_mode": {
    "name": "ipython",
    "version": 3
   },
   "file_extension": ".py",
   "mimetype": "text/x-python",
   "name": "python",
   "nbconvert_exporter": "python",
   "pygments_lexer": "ipython3",
   "version": "3.7.3"
  }
 },
 "nbformat": 4,
 "nbformat_minor": 2
}
