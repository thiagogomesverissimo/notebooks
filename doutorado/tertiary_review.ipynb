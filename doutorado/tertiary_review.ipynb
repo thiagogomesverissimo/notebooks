{
 "cells": [
  {
   "cell_type": "code",
   "execution_count": 2,
   "id": "c8aba42d-5ccb-40a6-b692-3288004a1abe",
   "metadata": {},
   "outputs": [],
   "source": [
    "import bibtexparser\n",
    "import pandas as pd\n",
    "import matplotlib.pyplot as plt\n",
    "\n",
    "from pathlib import Path\n",
    "from pybtex.database import parse_file"
   ]
  },
  {
   "cell_type": "markdown",
   "id": "d504aa84-41f9-40b0-babf-126acec94091",
   "metadata": {},
   "source": [
    "Bases de dados consultadas para exportação dos arquivos bibtex:\n",
    "\n",
    "- OpenAlex - https://openalex.org/\n",
    "- ACM Digital Library - http://dl.acm.org\n",
    "- Elsevier Science Direct - https://www.sciencedirect.com/search/entry\n",
    "- Engineering Village El Compendex - https://www.engineeringvillage.com\n",
    "- IEEE Xplore Digital Library - https://ieeexplore.ieee.org\n",
    "- Scopus - https://www.scopus.com/search/form.uri\n",
    "- Web of Science - https://www.webofscience.com/wos/woscc/united-search\n",
    "\n",
    "Todos bibtext foram exportados na data: xx/xx/2024\n",
    "\n",
    "String de busca aplicado somente no título e no resumo: \"Dashboard\" AND \"Learning Analytics\" AND (\"Systematic Literature Review\" OR \"Systematic Review\")\n",
    "\n",
    "Problemas encontrados na exportação para bibtex de cada plataforma:\n",
    "\n",
    "<br><b>OpenAlex:</b> <br>\n",
    "\n",
    "Só exporta no formato ris. Com a biblioteca pybtexris convertemos para bibtex com o comando <code>pybtex-convert openalex.ris openalex.bib</code>. Por conta da duplicação das chaves no arquivos ris: \n",
    "<code>\n",
    "WARNING: repeated bibliograhpy entry: Schwendimann2016                                                                                  \n",
    "WARNING: repeated bibliograhpy entry: Kaliisa2023\n",
    "</code>\n",
    "\n",
    "Editei manualmente o arquivo ris, dupliquei a linha do autor (AU) de umas das entradas e criei uma linha com ID único:\n",
    "<code>\n",
    "AU  - Schwendimann, Beat\n",
    "ID  - Schwendimann1 ---> Nova linha\n",
    "...\n",
    "AU  - Kaliisa, Rogers\n",
    "ID  - Kaliisa1 ---> Nova linha\n",
    "</code>\n",
    "\n",
    "Com essas alterações o comando <code>pybtex-convert openalex.ris openalex.bib</code> foi rodado com sucesso.\n",
    "\n",
    "<br><b>ACM Digital Library:</b><br>\n",
    "\n",
    "descrever problema\n",
    "\n",
    "<br><b>Elsevier Science Direct:</b><br>\n",
    "\n",
    "descrever problema\n",
    "\n",
    "\n",
    "<br><b>Engineering Village El Compendex:</b><br>\n",
    "\n",
    "Tive que remover manualmente \"copyright = {Compendex},\" no arquivo engineering_village.bib\n",
    "<code>sed -i 's/copyright = {Compendex},//g' engineering_village.bib</code>\n",
    "\n",
    "<br><b>IEEE Xplore Digital Library:</b> <br>\n",
    "escrever problema\n",
    "\n",
    "\n",
    "<br><b>Scopus:</b><br>\n",
    "\n",
    "Foi necessário corrigir o bibtex na mão, pois tinham dois com a mesma chave: @ARTICLE{2020}\n",
    "\n",
    "<br><b>Web of Science:</b><br>\n",
    "\n",
    "descrever problema\n"
   ]
  },
  {
   "cell_type": "code",
   "execution_count": 32,
   "id": "4f331c28-6477-4c93-b722-a512e57c9eb3",
   "metadata": {},
   "outputs": [],
   "source": [
    "# Vamos colocar todos artigos em um único dataframe para extrais as métricas desejadas.\n",
    "\n",
    "df = pd.DataFrame(columns=['database','identifier','title','year'])\n",
    "def insert_references_on_dataframe(database,filepath,df):\n",
    "    \"\"\" Função que lê as entradas em bibtex de cada database e devolve os campos que queremos em um dataframe \"\"\"\n",
    "    text = Path(filepath).read_text()\n",
    "    text_library = bibtexparser.parse_string(text)\n",
    "    references = []\n",
    "    for entry in text_library.entries:\n",
    "        new_dict = {}\n",
    "        new_dict['database'] = [database]\n",
    "        new_dict['identifier'] = entry.key\n",
    "        for key, value in entry.items():\n",
    "            #print(key,': ', value)\n",
    "            if key in ['title','year']:\n",
    "                new_dict[key] = [value]\n",
    "        new_line = pd.DataFrame(new_dict)\n",
    "        df = pd.concat([df, new_line], ignore_index = True)\n",
    "    return df"
   ]
  },
  {
   "cell_type": "code",
   "execution_count": 33,
   "id": "5201e290-61cc-496f-aba5-dbdb697f23be",
   "metadata": {},
   "outputs": [],
   "source": [
    "data_path = '../data/doutorado/tertiary_review/bibtex-files-2023-12-06/'\n",
    "\n",
    "# OpenAlex\n",
    "df = insert_references_on_dataframe('openalex', data_path + 'openalex.bib',df)\n",
    "\n",
    "# ACM Digital Library\n",
    "df = insert_references_on_dataframe('acm', data_path + 'acm.bib',df)\n",
    "\n",
    "# Elsevier Science Direct\n",
    "df = insert_references_on_dataframe('science direct', data_path + 'science_direct.bib',df)\n",
    "\n",
    "# Engineering Village El Compendex\n",
    "\n",
    "df = insert_references_on_dataframe('engineering village',data_path +'engineering_village.bib',df)\n",
    "\n",
    "# IEEE Xplore Digital Library\n",
    "df = insert_references_on_dataframe('ieee',data_path +'ieee.bib',df)\n",
    "\n",
    "# Scopus\n",
    "df = insert_references_on_dataframe('scopus',data_path +'scopus.bib',df)\n",
    "\n",
    "# Web of Science\n",
    "df = insert_references_on_dataframe('web of science',data_path +'web_of_science.bib',df)"
   ]
  },
  {
   "cell_type": "code",
   "execution_count": 34,
   "id": "b26c87a4-b99d-4b0c-9791-fb90d07f85d2",
   "metadata": {},
   "outputs": [],
   "source": [
    "# removendo os dois artigos de 2024, pois nem são de RS em LAD\n",
    "#df = df[df['year'] != '2024']"
   ]
  },
  {
   "cell_type": "code",
   "execution_count": 35,
   "id": "a0c659c1-99ef-4794-ba7a-85be46f84690",
   "metadata": {},
   "outputs": [
    {
     "data": {
      "text/plain": [
       "Text(0, 0.5, 'Quantidade de publicações')"
      ]
     },
     "execution_count": 35,
     "metadata": {},
     "output_type": "execute_result"
    },
    {
     "data": {
      "image/png": "[encoded data removed]",
      "text/plain": [
       "<Figure size 640x480 with 1 Axes>"
      ]
     },
     "metadata": {},
     "output_type": "display_data"
    }
   ],
   "source": [
    "# Agrupando por ano\n",
    "df_yearly = df.groupby('year').size()\n",
    "ax = df_yearly.plot.bar()\n",
    "ax.set_xlabel(\"Ano\")\n",
    "ax.set_ylabel(\"Quantidade de publicações\")\n",
    "#plt.savefig('../outputs/tertiary_review_yearly_barplot.pdf')"
   ]
  },
  {
   "cell_type": "code",
   "execution_count": null,
   "id": "e0908494-0e8c-4692-bdda-dfe61c753daf",
   "metadata": {},
   "outputs": [],
   "source": [
    "# a english version\n",
    "df_yearly = df.groupby('year').size()\n",
    "ax = df_yearly.plot.bar(title='LAD Systemtic Review Publications', figsize=(5, 5))\n",
    "ax.set_xlabel(\"Year\")\n",
    "\n",
    "# rotacionando os anos\n",
    "ax.set_xticklabels(df_yearly.index,rotation=20)\n",
    "\n",
    "ax.set_ylabel(\"Publications\")\n",
    "plt.savefig('../outputs/tertiary_review_yearly_barplot_en.pdf')"
   ]
  },
  {
   "cell_type": "code",
   "execution_count": 94,
   "id": "8133b3ca-a433-4982-b03a-a21a05e086b9",
   "metadata": {},
   "outputs": [
    {
     "data": {
      "text/html": [
       "<div>\n",
       "<style scoped>\n",
       "    .dataframe tbody tr th:only-of-type {\n",
       "        vertical-align: middle;\n",
       "    }\n",
       "\n",
       "    .dataframe tbody tr th {\n",
       "        vertical-align: top;\n",
       "    }\n",
       "\n",
       "    .dataframe thead th {\n",
       "        text-align: right;\n",
       "    }\n",
       "</style>\n",
       "<table border=\"1\" class=\"dataframe\">\n",
       "  <thead>\n",
       "    <tr style=\"text-align: right;\">\n",
       "      <th></th>\n",
       "      <th>Bases Selecionadas</th>\n",
       "      <th>Quantidade de publicações</th>\n",
       "    </tr>\n",
       "  </thead>\n",
       "  <tbody>\n",
       "    <tr>\n",
       "      <th>0</th>\n",
       "      <td>acm</td>\n",
       "      <td>64</td>\n",
       "    </tr>\n",
       "    <tr>\n",
       "      <th>1</th>\n",
       "      <td>engineering village</td>\n",
       "      <td>13</td>\n",
       "    </tr>\n",
       "    <tr>\n",
       "      <th>2</th>\n",
       "      <td>ieee</td>\n",
       "      <td>1</td>\n",
       "    </tr>\n",
       "    <tr>\n",
       "      <th>3</th>\n",
       "      <td>science direct</td>\n",
       "      <td>70</td>\n",
       "    </tr>\n",
       "    <tr>\n",
       "      <th>4</th>\n",
       "      <td>scopus</td>\n",
       "      <td>26</td>\n",
       "    </tr>\n",
       "    <tr>\n",
       "      <th>5</th>\n",
       "      <td>web of science</td>\n",
       "      <td>13</td>\n",
       "    </tr>\n",
       "    <tr>\n",
       "      <th>6</th>\n",
       "      <td>Soma</td>\n",
       "      <td>187</td>\n",
       "    </tr>\n",
       "  </tbody>\n",
       "</table>\n",
       "</div>"
      ],
      "text/plain": [
       "    Bases Selecionadas  Quantidade de publicações\n",
       "0                  acm                         64\n",
       "1  engineering village                         13\n",
       "2                 ieee                          1\n",
       "3       science direct                         70\n",
       "4               scopus                         26\n",
       "5       web of science                         13\n",
       "6                 Soma                        187"
      ]
     },
     "execution_count": 94,
     "metadata": {},
     "output_type": "execute_result"
    }
   ],
   "source": [
    "# Salvando tabela em .tex\n",
    "tertiary_review_databases = df.groupby('database').size() \n",
    "tertiary_review_databases = pd.DataFrame(tertiary_review_databases)\n",
    "tertiary_review_databases.reset_index(inplace=True)\n",
    "tertiary_review_databases.columns = ['Bases Selecionadas','Quantidade de publicações']\n",
    "\n",
    "# soma\n",
    "soma = tertiary_review_databases['Quantidade de publicações'].sum()\n",
    "new_row = pd.DataFrame({'Bases Selecionadas': ['Soma'], 'Quantidade de publicações':[soma]})\n",
    "tertiary_review_databases = pd.concat([tertiary_review_databases, new_row], axis=0, ignore_index=True)\n",
    "tertiary_review_databases"
   ]
  },
  {
   "cell_type": "code",
   "execution_count": 96,
   "id": "0c7fc3e0-2ac4-4a48-89d0-adb3bf283a6f",
   "metadata": {},
   "outputs": [],
   "source": [
    "# Salvando tabela em .tex\n",
    "latex_code = pd.DataFrame(tertiary_review_databases).style.hide().to_latex(\n",
    "    column_format=\"c|c\", \n",
    "    position=\"H\",\n",
    "    label=\"table:tertiary_review_databases\", \n",
    "    caption=\"Quantidade de publicações selecionadas em cada base\",\n",
    "    hrules=True, # necessita de \\usepackage{booktabs},\n",
    "    convert_css=True\n",
    ") \n",
    "\n",
    "# manobra para colocar um linha horizontal antes da soma\n",
    "latex_code_lines = latex_code.splitlines()\n",
    "last_row_index = len(latex_code_lines) - 4\n",
    "latex_code_lines.insert(last_row_index, '    \\\\hline')\n",
    "modified_latex_code = '\\n'.join(latex_code_lines)\n",
    "\n",
    "with open('../outputs/tertiary_review_databases.tex', 'w') as the_file:\n",
    "    the_file.write(modified_latex_code)"
   ]
  },
  {
   "cell_type": "code",
   "execution_count": null,
   "id": "e94fd416-0c30-43f0-8828-4f64df13395d",
   "metadata": {},
   "outputs": [],
   "source": []
  },
  {
   "cell_type": "code",
   "execution_count": null,
   "id": "ea83f193-9629-4f8d-9bce-3910d9ee0ec8",
   "metadata": {},
   "outputs": [],
   "source": []
  }
 ],
 "metadata": {
  "kernelspec": {
   "display_name": "Python 3 (ipykernel)",
   "language": "python",
   "name": "python3"
  },
  "language_info": {
   "codemirror_mode": {
    "name": "ipython",
    "version": 3
   },
   "file_extension": ".py",
   "mimetype": "text/x-python",
   "name": "python",
   "nbconvert_exporter": "python",
   "pygments_lexer": "ipython3",
   "version": "3.10.9"
  }
 },
 "nbformat": 4,
 "nbformat_minor": 5
}
