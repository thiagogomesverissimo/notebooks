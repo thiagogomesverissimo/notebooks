{
 "cells": [
  {
   "cell_type": "code",
   "execution_count": 20,
   "id": "c8aba42d-5ccb-40a6-b692-3288004a1abe",
   "metadata": {},
   "outputs": [],
   "source": [
    "import bibtexparser\n",
    "import pandas as pd\n",
    "import matplotlib.pyplot as plt\n",
    "\n",
    "from pathlib import Path\n",
    "from pybtex.database import parse_file"
   ]
  },
  {
   "cell_type": "markdown",
   "id": "d504aa84-41f9-40b0-babf-126acec94091",
   "metadata": {},
   "source": [
    "### 1. Planejamento: Definição da Questão de Pesquisa\n",
    "\n",
    "### 2. Planejamento: Desenvolvimento do Protocolo de Revisão\n",
    "\n",
    "Bases de dados consultadas para exportação dos arquivos bibtex:\n",
    "\n",
    "- OpenAlex - https://openalex.org/\n",
    "- ACM Digital Library - http://dl.acm.org\n",
    "- Elsevier Science Direct - https://www.sciencedirect.com/search/entry\n",
    "- Engineering Village El Compendex - https://www.engineeringvillage.com\n",
    "- IEEE Xplore Digital Library - https://ieeexplore.ieee.org\n",
    "- Scopus - https://www.scopus.com/search/form.uri\n",
    "- Web of Science - https://www.webofscience.com/wos/woscc/united-search\n",
    "- ProQuest - https://www.proquest.com/\n",
    "- Eric - https://eric.ed.gov/\n",
    "- wiley - https://onlinelibrary.wiley.com/\n",
    "- ebsco - https://www.ebsco.com/\n",
    "\n",
    "Vale a pena incluir?\n",
    "\n",
    "- https://doaj.org/\n",
    "\n",
    "Bases não consultadas pois percebemos que os artigos começaram a se repetir:\n",
    "\n",
    "- Taylor & Francis: https://www.tandfonline.com (só exporta para .csv)\n",
    "- Springer: https://link.springer.com/ (só exporta para .csv)\n",
    "\n",
    "Todos bibtext foram exportados na data: xx/xx/2024\n",
    "\n",
    "String de busca aplicado somente no título e no resumo: <code>\"Dashboard\" AND \"Learning Analytics\" AND (\"Systematic Literature Review\" OR \"Systematic Review\")</code>\n",
    "\n",
    "Aplicada somente no título e resumo\n",
    "\n",
    "Problemas encontrados na exportação para bibtex de cada plataforma:\n",
    "\n",
    "<br><b>OpenAlex:</b> <br>\n",
    "\n",
    "Só exporta no formato ris. Com a biblioteca pybtexris convertemos para bibtex com o comando <code>pybtex-convert openalex.ris openalex.bib</code>. Por conta da duplicação das chaves no arquivos ris: \n",
    "<code>\n",
    "WARNING: repeated bibliograhpy entry: Schwendimann2016                                                                                  \n",
    "WARNING: repeated bibliograhpy entry: Kaliisa2023\n",
    "</code>\n",
    "\n",
    "Editei manualmente o arquivo ris, dupliquei a linha do autor (AU) de umas das entradas e criei uma linha com ID único:\n",
    "<code>\n",
    "AU  - Schwendimann, Beat\n",
    "ID  - Schwendimann1 ---> Nova linha\n",
    "...\n",
    "AU  - Kaliisa, Rogers\n",
    "ID  - Kaliisa1 ---> Nova linha\n",
    "</code>\n",
    "\n",
    "Com essas alterações o comando <code>pybtex-convert openalex.ris openalex.bib</code> foi rodado com sucesso.\n",
    "\n",
    "<br><b>ACM Digital Library:</b><br>\n",
    "\n",
    "descrever problema\n",
    "\n",
    "<br><b>Elsevier Science Direct:</b><br>\n",
    "\n",
    "Na Elsevier usamos a string de busca: <code>Dashboard AND Learning Analytics AND Review</code>\n",
    "\n",
    "\n",
    "<br><b>Engineering Village El Compendex:</b><br>\n",
    "\n",
    "Tive que remover manualmente \"copyright = {Compendex},\" no arquivo engineering_village.bib\n",
    "<code>sed -i 's/copyright = {Compendex},//g' engineering_village.bib</code>\n",
    "\n",
    "<br><b>IEEE Xplore Digital Library:</b> <br>\n",
    "escrever problema\n",
    "\n",
    "\n",
    "<br><b>Scopus:</b><br>\n",
    "\n",
    "Na scopus há itens com a chave duplicada no bibtex, que foram identificados com o comando:\n",
    "<code>cat scopus.bib | grep ^@ | cut -d'{' -f2 | sort | uniq --count | sort</code>\n",
    "\n",
    "Foi necessário corrigir o bibtex na mão os itens com a chave 2020 e 2024\n",
    "\n",
    "<br><b>Web of Science:</b><br>\n",
    "\n",
    "descrever problema\n",
    "\n",
    "<br><b>ProQuest:</b><br>\n",
    "\n",
    "Só exporta no formato ris. Com a biblioteca pybtexris convertemos para bibtex com o comando <code>pybtex-convert proquest.ris proquest.bib</code>. Por conta da duplicação das chaves no arquivos ris: \n",
    "\n",
    "WARNING: repeated bibliograhpy entry: Kaliisa2023\n",
    "\n",
    "<code>\n",
    "AU  - Kaliisa, Rogers\n",
    "ID  - Kaliisa1novo ---> Nova linha\n",
    "</code>\n",
    "\n",
    "<br><b>Eric:</b><br>\n",
    "\n",
    "Apesar da documentação do pybtexnbib dizer que é possível converter <code>pybtex-convert eric.nbib eric.bib</code>, não funcionou de forma alguma. Usei um truque de carregar o arquivo .nbib no Zotero e depois exportar as referências em bibtex.\n",
    "\n",
    "<br><b>wiley:</b><br>\n",
    "\n",
    "Na wiley usamos a string de busca: <code>Dashboard AND Learning Analytics AND Review</code> aplicada somente no abstract"
   ]
  },
  {
   "cell_type": "code",
   "execution_count": 21,
   "id": "4f331c28-6477-4c93-b722-a512e57c9eb3",
   "metadata": {},
   "outputs": [],
   "source": [
    "# Vamos colocar todos artigos em um único dataframe para extrais as métricas desejadas.\n",
    "\n",
    "colunas = ['ID','doi','title','year','journal','author', 'issn']\n",
    "def insert_references_on_dataframe(database,filepath,df):\n",
    "    \"\"\" Função que lê as entradas em bibtex de cada database e devolve os campos que queremos em um dataframe \"\"\"\n",
    "    text = Path(filepath).read_text()\n",
    "    text_library = bibtexparser.parse_string(text)\n",
    "    references = []\n",
    "    for entry in text_library.entries:\n",
    "        new_dict = {}\n",
    "        new_dict['database'] = [database]\n",
    "        new_dict['identifier'] = entry.key\n",
    "        for key, value in entry.items():\n",
    "            #print(key,': ', value)\n",
    "            if key.lower().strip() in colunas:\n",
    "                # removendo quebras de linhas\n",
    "                #value = value.replace(\"\\n\", \"\")\n",
    "                value = ' '.join(value.strip().split())\n",
    "                new_dict[key.lower().strip()] = [value]\n",
    "        new_line = pd.DataFrame(new_dict)\n",
    "        df = pd.concat([df, new_line], ignore_index = True)\n",
    "    return df"
   ]
  },
  {
   "cell_type": "code",
   "execution_count": 22,
   "id": "5201e290-61cc-496f-aba5-dbdb697f23be",
   "metadata": {},
   "outputs": [],
   "source": [
    "df = pd.DataFrame(columns=['database','identifier','title','year'])\n",
    "data_path = '../data/doutorado/tertiary_review/bibtex/'\n",
    "\n",
    "# OpenAlex\n",
    "df = insert_references_on_dataframe('openalex', data_path + 'openalex.bib',df)\n",
    "\n",
    "# ACM Digital Library\n",
    "df = insert_references_on_dataframe('acm', data_path + 'acm.bib',df)\n",
    "\n",
    "# Elsevier Science Direct\n",
    "df = insert_references_on_dataframe('science direct', data_path + 'science_direct.bib',df)\n",
    "\n",
    "# Engineering Village El Compendex\n",
    "df = insert_references_on_dataframe('engineering village',data_path + 'engineering_village.bib',df)\n",
    "\n",
    "# IEEE Xplore Digital Library\n",
    "df = insert_references_on_dataframe('ieee',data_path + 'ieee.bib',df)\n",
    "\n",
    "# Scopus\n",
    "df = insert_references_on_dataframe('scopus',data_path + 'scopus.bib',df)\n",
    "\n",
    "# Web of Science\n",
    "df = insert_references_on_dataframe('web of science',data_path + 'web_of_science.bib',df)\n",
    "\n",
    "# proquest\n",
    "df = insert_references_on_dataframe('proquest',data_path + 'proquest.bib',df)\n",
    "\n",
    "# eric\n",
    "df = insert_references_on_dataframe('eric',data_path + 'eric.bib',df)\n",
    "\n",
    "# wiley\n",
    "df = insert_references_on_dataframe('wiley',data_path + 'wiley.bib',df)\n",
    "\n",
    "# wiley\n",
    "df = insert_references_on_dataframe('ebsco',data_path + 'ebsco.bib',df)\n",
    "\n",
    "df['id_generico'] = df.reset_index().index"
   ]
  },
  {
   "cell_type": "code",
   "execution_count": 23,
   "id": "a0c659c1-99ef-4794-ba7a-85be46f84690",
   "metadata": {},
   "outputs": [
    {
     "data": {
      "image/png": "[encoded data removed]",
      "text/plain": [
       "<Figure size 640x480 with 1 Axes>"
      ]
     },
     "metadata": {},
     "output_type": "display_data"
    }
   ],
   "source": [
    "# Agrupando por ano\n",
    "df_yearly = df.groupby('year').size()\n",
    "ax = df_yearly.plot.bar()\n",
    "ax.set_xlabel(\"Ano\")\n",
    "ax.set_ylabel(\"Quantidade de publicações\")\n",
    "plt.savefig('/tmp/tertiary_review_yearly_barplot.pdf')"
   ]
  },
  {
   "cell_type": "code",
   "execution_count": 24,
   "id": "e0908494-0e8c-4692-bdda-dfe61c753daf",
   "metadata": {},
   "outputs": [
    {
     "data": {
      "image/png": "[encoded data removed]",
      "text/plain": [
       "<Figure size 500x500 with 1 Axes>"
      ]
     },
     "metadata": {},
     "output_type": "display_data"
    }
   ],
   "source": [
    "# a english version\n",
    "df_yearly = df.groupby('year').size()\n",
    "ax = df_yearly.plot.bar(title='LAD Systemtic Review Publications', figsize=(5, 5))\n",
    "ax.set_xlabel(\"Year\")\n",
    "\n",
    "# rotacionando os anos\n",
    "ax.set_xticklabels(df_yearly.index,rotation=20)\n",
    "\n",
    "ax.set_ylabel(\"Publications\")\n",
    "plt.savefig('/tmp/tertiary_review_yearly_barplot_en.pdf')"
   ]
  },
  {
   "cell_type": "code",
   "execution_count": 25,
   "id": "8133b3ca-a433-4982-b03a-a21a05e086b9",
   "metadata": {},
   "outputs": [
    {
     "data": {
      "text/html": [
       "<div>\n",
       "<style scoped>\n",
       "    .dataframe tbody tr th:only-of-type {\n",
       "        vertical-align: middle;\n",
       "    }\n",
       "\n",
       "    .dataframe tbody tr th {\n",
       "        vertical-align: top;\n",
       "    }\n",
       "\n",
       "    .dataframe thead th {\n",
       "        text-align: right;\n",
       "    }\n",
       "</style>\n",
       "<table border=\"1\" class=\"dataframe\">\n",
       "  <thead>\n",
       "    <tr style=\"text-align: right;\">\n",
       "      <th></th>\n",
       "      <th>Bases Selecionadas</th>\n",
       "      <th>Quantidade de publicações</th>\n",
       "    </tr>\n",
       "  </thead>\n",
       "  <tbody>\n",
       "    <tr>\n",
       "      <th>0</th>\n",
       "      <td>scopus</td>\n",
       "      <td>40</td>\n",
       "    </tr>\n",
       "    <tr>\n",
       "      <th>1</th>\n",
       "      <td>openalex</td>\n",
       "      <td>33</td>\n",
       "    </tr>\n",
       "    <tr>\n",
       "      <th>2</th>\n",
       "      <td>engineering village</td>\n",
       "      <td>22</td>\n",
       "    </tr>\n",
       "    <tr>\n",
       "      <th>3</th>\n",
       "      <td>web of science</td>\n",
       "      <td>18</td>\n",
       "    </tr>\n",
       "    <tr>\n",
       "      <th>4</th>\n",
       "      <td>eric</td>\n",
       "      <td>8</td>\n",
       "    </tr>\n",
       "    <tr>\n",
       "      <th>5</th>\n",
       "      <td>proquest</td>\n",
       "      <td>7</td>\n",
       "    </tr>\n",
       "    <tr>\n",
       "      <th>6</th>\n",
       "      <td>ieee</td>\n",
       "      <td>4</td>\n",
       "    </tr>\n",
       "    <tr>\n",
       "      <th>7</th>\n",
       "      <td>science direct</td>\n",
       "      <td>4</td>\n",
       "    </tr>\n",
       "    <tr>\n",
       "      <th>8</th>\n",
       "      <td>acm</td>\n",
       "      <td>3</td>\n",
       "    </tr>\n",
       "    <tr>\n",
       "      <th>9</th>\n",
       "      <td>wiley</td>\n",
       "      <td>3</td>\n",
       "    </tr>\n",
       "    <tr>\n",
       "      <th>10</th>\n",
       "      <td>ebsco</td>\n",
       "      <td>2</td>\n",
       "    </tr>\n",
       "    <tr>\n",
       "      <th>11</th>\n",
       "      <td>Soma</td>\n",
       "      <td>144</td>\n",
       "    </tr>\n",
       "  </tbody>\n",
       "</table>\n",
       "</div>"
      ],
      "text/plain": [
       "     Bases Selecionadas  Quantidade de publicações\n",
       "0                scopus                         40\n",
       "1              openalex                         33\n",
       "2   engineering village                         22\n",
       "3        web of science                         18\n",
       "4                  eric                          8\n",
       "5              proquest                          7\n",
       "6                  ieee                          4\n",
       "7        science direct                          4\n",
       "8                   acm                          3\n",
       "9                 wiley                          3\n",
       "10                ebsco                          2\n",
       "11                 Soma                        144"
      ]
     },
     "execution_count": 25,
     "metadata": {},
     "output_type": "execute_result"
    }
   ],
   "source": [
    "# Salvando tabela em .tex\n",
    "tertiary_review_databases = df.groupby('database').size().sort_values(ascending=False)\n",
    "tertiary_review_databases = pd.DataFrame(tertiary_review_databases)\n",
    "tertiary_review_databases.reset_index(inplace=True)\n",
    "tertiary_review_databases.columns = ['Bases Selecionadas','Quantidade de publicações']\n",
    "\n",
    "# soma\n",
    "soma = tertiary_review_databases['Quantidade de publicações'].sum()\n",
    "new_row = pd.DataFrame({'Bases Selecionadas': ['Soma'], 'Quantidade de publicações':[soma]})\n",
    "tertiary_review_databases = pd.concat([tertiary_review_databases, new_row], axis=0, ignore_index=True)\n",
    "tertiary_review_databases"
   ]
  },
  {
   "cell_type": "code",
   "execution_count": 26,
   "id": "0c7fc3e0-2ac4-4a48-89d0-adb3bf283a6f",
   "metadata": {},
   "outputs": [],
   "source": [
    "# Salvando tabela em .tex\n",
    "latex_code = pd.DataFrame(tertiary_review_databases).style.hide().to_latex(\n",
    "    column_format=\"c|c\", \n",
    "    position=\"H\",\n",
    "    label=\"table:tertiary_review_databases\", \n",
    "    caption=\"Quantidade de publicações selecionadas em cada base\",\n",
    "    hrules=True, # necessita de \\usepackage{booktabs},\n",
    "    convert_css=True\n",
    ") \n",
    "\n",
    "# manobra para colocar um linha horizontal antes da soma\n",
    "latex_code_lines = latex_code.splitlines()\n",
    "last_row_index = len(latex_code_lines) - 4\n",
    "latex_code_lines.insert(last_row_index, '    \\\\hline')\n",
    "modified_latex_code = '\\n'.join(latex_code_lines)\n",
    "\n",
    "with open('/tmp/tertiary_review_databases.tex', 'w') as the_file:\n",
    "    the_file.write(modified_latex_code)"
   ]
  },
  {
   "cell_type": "code",
   "execution_count": 27,
   "id": "a16b6aee-7516-4ea4-bec4-c9ebabd20133",
   "metadata": {},
   "outputs": [],
   "source": [
    "# parsif.al resultados\n",
    "\n",
    "pl = pd.read_csv('../data/doutorado/tertiary_review/articles_parsifal.csv')\n",
    "for index, row in pl.iterrows():\n",
    "    # limpando os títulos para fazermos uma comparação com bibtex mais suave\n",
    "    pl.iloc[index,1] = ' '.join(pl.iloc[index,1].strip().split())\n",
    "\n",
    "# criando uma coluna chamad identifier \n",
    "pl['id_generico'] = pd.Series(dtype='str')"
   ]
  },
  {
   "cell_type": "code",
   "execution_count": 28,
   "id": "c2ad19bd-88d0-4da6-8364-774620d364f7",
   "metadata": {},
   "outputs": [
    {
     "name": "stdout",
     "output_type": "stream",
     "text": [
      "Quantidade de artigos que estão sem doi no dataframe pl exportados do parsifal? 46\n",
      "Quantidade de artigos que estão sem doi no dataframe df que foi criado a partir dos bibtex? 46\n",
      "Quantidade artigos que estão sem issn no dataframe df que foi criado a partir dos bibtex? 48\n",
      "Quantidade de artigos que estão sem issn no dataframe pl exportados do parsifal? 49\n",
      "Quantidade de artigos que estão sem issn e sem doi no dataframe df que foi criado a partir dos bibtex? 14\n",
      "Quantidade de artigos que estão sem issn e sem doi no dataframe pl exportados do parsifal? 14\n",
      "Quantidade de artigos que os títulos em df não estão em pl 8\n",
      "Quantidade de artigos que os títulos em pl não estão em df 17\n",
      "Quantidade de artigos que os títulos em pl estão em df 127\n",
      "Quantidade de artigos que os títulos em df estão em pl 136\n",
      "Quantidade de artigos que os títulos, doi ou issn em df estão em pl 144\n",
      "Quantidade de artigos que os títulos, doi ou issn em pl estão em df 144\n",
      "Assim percebemos que com título ou doi ou issn podemos juntar todos artigos\n"
     ]
    }
   ],
   "source": [
    "# tentando ver um jeito de juntar o database bibtex com o csv do parsifal\n",
    "\n",
    "n = pl[pl['doi'].isnull()].shape[0]\n",
    "print(\"Quantidade de artigos que estão sem doi no dataframe pl exportados do parsifal?\", n)\n",
    "\n",
    "n = df[df['doi'].isnull()].shape[0]\n",
    "print(\"Quantidade de artigos que estão sem doi no dataframe df que foi criado a partir dos bibtex?\", n)\n",
    "\n",
    "n = df[df['issn'].isnull()].shape[0]\n",
    "print(\"Quantidade artigos que estão sem issn no dataframe df que foi criado a partir dos bibtex?\", n)\n",
    "\n",
    "n = pl[pl['issn'].isnull()].shape[0]\n",
    "print(\"Quantidade de artigos que estão sem issn no dataframe pl exportados do parsifal?\", n)\n",
    "\n",
    "n = df[ df['issn'].isnull() & df['doi'].isnull() ].shape[0]\n",
    "print(\"Quantidade de artigos que estão sem issn e sem doi no dataframe df que foi criado a partir dos bibtex?\", n)\n",
    "\n",
    "n = pl[ pl['issn'].isnull() & pl['doi'].isnull() ].shape[0]\n",
    "print(\"Quantidade de artigos que estão sem issn e sem doi no dataframe pl exportados do parsifal?\",n)\n",
    "\n",
    "n = sum(df[\"title\"].isin(pl['title']) == False)\n",
    "print(\"Quantidade de artigos que os títulos em df não estão em pl\",n)\n",
    "\n",
    "n = sum(pl[\"title\"].isin(df['title']) == False)\n",
    "print(\"Quantidade de artigos que os títulos em pl não estão em df\",n)\n",
    "\n",
    "n = sum(pl[\"title\"].isin(df['title'])  )\n",
    "print(\"Quantidade de artigos que os títulos em pl estão em df\",n)\n",
    "\n",
    "n = sum(df[\"title\"].isin(pl['title']))\n",
    "print(\"Quantidade de artigos que os títulos em df estão em pl\",n)\n",
    "\n",
    "n = sum(df[\"title\"].isin(pl['title']) | df[\"doi\"].isin(pl['doi']) | df[\"issn\"].isin(pl['issn']))\n",
    "print(\"Quantidade de artigos que os títulos, doi ou issn em df estão em pl\",n)\n",
    "\n",
    "n = sum(pl[\"title\"].isin(df['title']) | pl[\"doi\"].isin(df['doi']) | pl[\"issn\"].isin(df['issn']))\n",
    "print(\"Quantidade de artigos que os títulos, doi ou issn em pl estão em df\",n)\n",
    "\n",
    "print(\"Assim percebemos que com título ou doi ou issn podemos juntar todos artigos\")"
   ]
  },
  {
   "cell_type": "code",
   "execution_count": 29,
   "id": "06f729c9-0314-40fb-9a0b-2306810f7bab",
   "metadata": {},
   "outputs": [],
   "source": [
    "# vou copiar a chave identifier para pl para conseguir juntar ambos dataframes\n",
    "for index, row in pl.iterrows():\n",
    "    # procurando em df se tem doi igual no pl\n",
    "    df_row = df[ (df['doi'] == row['doi'])]\n",
    "    if df_row.shape[0] > 0:\n",
    "        pl.iloc[index,26] = df_row.iloc[0,8]\n",
    "    else:\n",
    "        df_row = df[ (df['issn'] == row['issn'])]\n",
    "        if df_row.shape[0] > 0:\n",
    "            pl.iloc[index,26] = df_row.iloc[0,8]\n",
    "        else:\n",
    "            df_row = df[ (df['title'] == row['title'])]\n",
    "            if df_row.shape[0] > 0:\n",
    "                pl.iloc[index,26] = df_row.iloc[0,8]\n",
    "                \n",
    "# criando um novo dataframe com df e pl                \n",
    "mx = pd.merge(df, pl, how = 'inner', on = 'id_generico')"
   ]
  },
  {
   "cell_type": "code",
   "execution_count": 30,
   "id": "6ae4ce49-04ee-48bb-b25a-ab84263998ce",
   "metadata": {},
   "outputs": [
    {
     "data": {
      "text/plain": [
       "selection_criteria\n",
       "Estudo duplicado (descartado pois foi escolhido o texto mais recente e completo)     1\n",
       "Não é um artigo                                                                     10\n",
       "Não é um revisão sistemática, nem um estudo primário sobre LAD                       4\n",
       "É um estudo primário não relacionado a Learning Analytics ou LAD                     1\n",
       "É um estudo primário sobre LA e não sobre LAD                                        2\n",
       "É um estudo primário sobre LAD e não uma revisão sistemática                         3\n",
       "É uma revisão sistemática em LAD, porém com mais de 5 anos                           6\n",
       "É uma revisão sistemática em Learning Analytics, mas não focada apenas em LAD       24\n",
       "É uma revisão sistemática não relacionada a Learning Analytics ou LAD                2\n",
       "dtype: int64"
      ]
     },
     "execution_count": 30,
     "metadata": {},
     "output_type": "execute_result"
    }
   ],
   "source": [
    "# artigos excluídos\n",
    "mx.groupby(['selection_criteria']).size()"
   ]
  },
  {
   "cell_type": "code",
   "execution_count": 31,
   "id": "0a489376-60f5-48a0-a3dc-843229a5fb39",
   "metadata": {},
   "outputs": [
    {
     "data": {
      "text/plain": [
       "0.5208333333333334"
      ]
     },
     "execution_count": 31,
     "metadata": {},
     "output_type": "execute_result"
    }
   ],
   "source": [
    "# vou criar uma coluna só dos duplicados\n",
    "mx['classificação'] = mx['status']\n",
    "mx['status'] = mx['status'].str.replace('Accepted','Não Duplicado')\n",
    "mx['status'] = mx['status'].str.replace('Duplicated','Duplicado')\n",
    "mx['status'] = mx['status'].str.replace('Rejected','Não Duplicado')\n",
    "\n",
    "porcentagem_duplicados = sum(mx['status'] == 'Duplicado')/mx.shape[0]\n",
    "porcentagem_duplicados"
   ]
  },
  {
   "cell_type": "code",
   "execution_count": 32,
   "id": "ad0512b3-d4d7-44c2-a148-8a7fcb779e28",
   "metadata": {},
   "outputs": [
    {
     "data": {
      "image/png": "[encoded data removed]",
      "text/plain": [
       "<Figure size 640x480 with 1 Axes>"
      ]
     },
     "metadata": {},
     "output_type": "display_data"
    }
   ],
   "source": [
    "mx.columns\n",
    "ax = mx.groupby(['year_x', 'status']).size().unstack().plot(kind='bar', stacked=True)\n",
    "ax.set_xlabel(\"Ano\")\n",
    "ax.set_ylabel(\"Quantidade de publicações\")\n",
    "ax.text(0.5, 30, \"Duplicados: {:.2f}%\".format(porcentagem_duplicados) )\n",
    "ax.legend().set_title(\"\")"
   ]
  },
  {
   "cell_type": "code",
   "execution_count": 33,
   "id": "64c58e40-1b88-4d22-810b-af96bbeb7d82",
   "metadata": {},
   "outputs": [],
   "source": [
    "# artigos que desclassifiquei porque são antigos\n"
   ]
  },
  {
   "cell_type": "code",
   "execution_count": null,
   "id": "212b16d3-4452-433c-9d4a-60f2684d5522",
   "metadata": {},
   "outputs": [],
   "source": [
    "# artigos que fiz algum tipo de comentário"
   ]
  },
  {
   "cell_type": "markdown",
   "id": "dd5b8de3-31ba-4c94-bd9b-466276c9a4a9",
   "metadata": {},
   "source": [
    "## 3. Planejamento: Definição dos critérios de inclusão e de exclusão\n",
    "\n",
    "Neste trabalho vamos usar somente critérios de exclusão, que são: \n",
    "\n",
    "- Texto duplicado (indexado em mais de uma bases de dados) - Não usado, pois o parsifal tem a opção \"Duplicated\"\n",
    "- Estudo duplicado (descartado pois foi escolhido o texto mais recente e completo)\n",
    "- É um estudo primário sobre LAD e não uma revisão sistemática\n",
    "- É um estudo primário sobre LA e não sobre LAD\n",
    "- É um estudo primário não relacionado a Learning Analytics ou LAD\n",
    "- É uma revisão sistemática em Learning Analytics, mas não focada apenas em LAD\n",
    "- É uma revisão sistemática não relacionada a Learning Analytics ou LAD\n",
    "- Não temos acesso ao texto completo\n",
    "- Não é um artigo\n",
    "- Não é uma revisão sistemática nem um estudo primário sobre LA ou LAD\n",
    "- É uma revisão sistemática em LAD, porém com mais de 5 anos"
   ]
  },
  {
   "cell_type": "code",
   "execution_count": null,
   "id": "1f905646-337f-4da1-abb5-bffd844ac211",
   "metadata": {},
   "outputs": [],
   "source": []
  },
  {
   "cell_type": "markdown",
   "id": "9aa8c412-b893-41dc-ae5e-2667387dbeef",
   "metadata": {},
   "source": [
    "## 4. Condução Busca Sistemática e Seleção de Estudos\n",
    "\n",
    "\n",
    "\n",
    "    \n",
    "\n",
    "    \n",
    "    \n"
   ]
  },
  {
   "cell_type": "markdown",
   "id": "1b987d5e-c68e-42cd-87f4-698f8896dffd",
   "metadata": {},
   "source": [
    "## 5. Condução: Extração de Dados\n",
    "\n",
    "    \n",
    "- Agentes educacional do LAD: estudantes, docentes, gestores, técnicos e sociedade\n",
    "- Quais bases de dados foram consultadas\n",
    "- Em qual ano os artigos foram coletados para a revisão sistemática?\n",
    "- Qual ferramenta foi utilizada para a revisão sistemática?\n",
    "- Número de artigos inicialmente selecionados?\n",
    "- Número de artigos incluídos na análise final?\n",
    "- Contexto de uso do LAD: Aula presencial usando LMS como suporte, Ensino remoto, MOOC ou Não Especificado.\n",
    "- Tipo do LAD avaliado na revisão: adaptable LADs, adaptive LADs, fundamentos educacionais,\n"
   ]
  },
  {
   "cell_type": "markdown",
   "id": "3cdf4fee-923b-47b6-946b-a55d1c90e8af",
   "metadata": {},
   "source": [
    "## 6. Condução: Síntese e Análise dos Dados\n",
    "\n",
    "- Não foram em nenhum aspecto em particular de LAD: 6\n",
    "- Avalaliaram se houve fundamentos teóricos educacionais na implementação do LAD: 6\n",
    "- Avalaliaram efetividade no ganho educacional com LAD: 2\n",
    "- Avalaliaram LAD implementados com uso de Aprendizado de Máquina: 1\n"
   ]
  },
  {
   "cell_type": "markdown",
   "id": "44464ca1-49e6-4f35-b587-734f97716d3c",
   "metadata": {},
   "source": [
    "## 7. Condução: Avaliação da Qualidade\n",
    "\n",
    "- A metodologia usada na revisão sistemática foi descrita de forma completa e clara?\n",
    "- O artigo fornece informações para torna-lo reprodutível?\n",
    "- O artigo informa se uma ferramenta de suporte foi utilizada na revisão sistemática?\n",
    "- O artigo deixa claro os agentes educacionais alvo do LAD?\n",
    "- O artigo indica o intervalo de tempo considerado para a seleção dos estudos?\n"
   ]
  },
  {
   "cell_type": "markdown",
   "id": "993e88c5-8762-4913-bda4-641c23557443",
   "metadata": {},
   "source": [
    "## 8. Resultados: Interpretação dos Resultados"
   ]
  },
  {
   "cell_type": "markdown",
   "id": "106da7ee-6999-4c82-8597-a7a025413e35",
   "metadata": {},
   "source": [
    "\n",
    "## 9. Resultados: Relato dos Resultados"
   ]
  },
  {
   "cell_type": "code",
   "execution_count": null,
   "id": "ea83f193-9629-4f8d-9bce-3910d9ee0ec8",
   "metadata": {},
   "outputs": [],
   "source": []
  }
 ],
 "metadata": {
  "kernelspec": {
   "display_name": "Python 3 (ipykernel)",
   "language": "python",
   "name": "python3"
  },
  "language_info": {
   "codemirror_mode": {
    "name": "ipython",
    "version": 3
   },
   "file_extension": ".py",
   "mimetype": "text/x-python",
   "name": "python",
   "nbconvert_exporter": "python",
   "pygments_lexer": "ipython3",
   "version": "3.10.9"
  }
 },
 "nbformat": 4,
 "nbformat_minor": 5
}
