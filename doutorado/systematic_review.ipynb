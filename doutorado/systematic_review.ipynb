{
 "cells": [
  {
   "cell_type": "code",
   "execution_count": 22,
   "id": "bb472ef6-bef9-477d-a548-db1e3c6b4c60",
   "metadata": {},
   "outputs": [],
   "source": [
    "import re\n",
    "import pymupdf"
   ]
  },
  {
   "cell_type": "code",
   "execution_count": 24,
   "id": "5bb5534d-793b-424b-bd6b-fb6ead1f0ba6",
   "metadata": {},
   "outputs": [
    {
     "data": {
      "text/plain": [
       "['https://doi.org/10.1016/j.chb.2018.12.004',\n",
       " 'https://github.com/DoubleBlindReviewsHCI/LADA/.',\n",
       " 'http://doi.acm.org/10.1145/2858036.2858498.',\n",
       " 'http://www.jstor.org/stable/26388407.']"
      ]
     },
     "execution_count": 24,
     "metadata": {},
     "output_type": "execute_result"
    }
   ],
   "source": [
    "arquivo='/home/thiago/Downloads/systematic_review/exemplo.pdf'\n",
    "\n",
    "with pymupdf.open(arquivo) as doc:\n",
    "    text = ' '.join([page.get_text() for page in doc])\n",
    "\n",
    "re.findall(r'(https?://\\S+)', text)"
   ]
  },
  {
   "cell_type": "code",
   "execution_count": null,
   "id": "516ba07b-1837-42fb-88fa-972845530778",
   "metadata": {},
   "outputs": [],
   "source": []
  }
 ],
 "metadata": {
  "kernelspec": {
   "display_name": "Python 3 (ipykernel)",
   "language": "python",
   "name": "python3"
  },
  "language_info": {
   "codemirror_mode": {
    "name": "ipython",
    "version": 3
   },
   "file_extension": ".py",
   "mimetype": "text/x-python",
   "name": "python",
   "nbconvert_exporter": "python",
   "pygments_lexer": "ipython3",
   "version": "3.11.2"
  }
 },
 "nbformat": 4,
 "nbformat_minor": 5
}
