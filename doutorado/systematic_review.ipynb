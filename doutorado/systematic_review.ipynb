{
 "cells": [
  {
   "cell_type": "code",
   "execution_count": 4,
   "id": "bb472ef6-bef9-477d-a548-db1e3c6b4c60",
   "metadata": {},
   "outputs": [],
   "source": [
    "# zerando workspace\n",
    "%reset -f\n",
    "\n",
    "import bibtexparser\n",
    "import pandas as pd\n",
    "import matplotlib.pyplot as plt\n",
    "import numpy as np\n",
    "import codecs\n",
    "\n",
    "from pathlib import Path\n",
    "from pybtex.database import parse_file\n"
   ]
  },
  {
   "cell_type": "code",
   "execution_count": 31,
   "id": "5bb5534d-793b-424b-bd6b-fb6ead1f0ba6",
   "metadata": {
    "scrolled": true
   },
   "outputs": [],
   "source": [
    "import rispy\n",
    "from pybtex.database import BibliographyData, Entry, Person\n",
    "import hashlib\n",
    "\n",
    "# Ler o arquivo RIS\n",
    "with open('/home/thiago/Dropbox/LAD FFLCH 28-maio/openalex.ris', 'r', encoding='utf-8') as bibliography_file:\n",
    "    entries = rispy.load(bibliography_file)\n",
    "saida = '/home/thiago/Dropbox/LAD FFLCH 28-maio/openalex.bib'"
   ]
  },
  {
   "cell_type": "code",
   "execution_count": 32,
   "id": "516ba07b-1837-42fb-88fa-972845530778",
   "metadata": {},
   "outputs": [],
   "source": [
    "# Criar dicionário de entradas para o BibTeX\n",
    "bib_entries = {}\n",
    "\n",
    "for idx, entry in enumerate(entries):\n",
    "    # Gerar chave única\n",
    "    title = entry.get('title', f'entry{idx}')\n",
    "    hash_key = hashlib.md5(title.encode('utf-8')).hexdigest()[:6]\n",
    "    key = f'ref{idx}_{hash_key}'\n",
    "\n",
    "    # Mapear campos básicos\n",
    "    fields = {\n",
    "        'title': entry.get('title', ''),\n",
    "        'year': entry.get('year', ''),\n",
    "        'journal': entry.get('journal_name', ''),\n",
    "        'issn': entry.get('issn', ''),\n",
    "        'doi': entry.get('doi', ''),\n",
    "        'abstract': entry.get('abstract', ''),\n",
    "        'url': \", \".join(entry.get('urls', ''))\n",
    "    }\n",
    "\n",
    "    # Montar lista de autores no formato correto\n",
    "    authors = []\n",
    "    for author in entry.get('authors', []):\n",
    "        authors.append(Person(author))\n",
    "\n",
    "    # Criar entrada BibTeX\n",
    "    bib_entry = Entry(\n",
    "        'article',\n",
    "        fields={k: v for k, v in fields.items() if v},\n",
    "        persons={'author': authors}\n",
    "    )\n",
    "\n",
    "    bib_entries[key] = bib_entry\n",
    "\n",
    "# Criar objeto BibliographyData\n",
    "bib_data = BibliographyData(entries=bib_entries)\n",
    "\n",
    "# Salvar no arquivo BibTeX\n",
    "with open(saida, 'w', encoding='utf-8') as bibfile:\n",
    "    bib_data.to_file(bibfile)\n"
   ]
  },
  {
   "cell_type": "code",
   "execution_count": null,
   "id": "9993c8d2-6cb5-4fc7-b04a-d16371b2dc86",
   "metadata": {},
   "outputs": [],
   "source": []
  },
  {
   "cell_type": "code",
   "execution_count": null,
   "id": "6579d02e-7be0-4746-9219-faa6692bfcb0",
   "metadata": {},
   "outputs": [],
   "source": []
  }
 ],
 "metadata": {
  "kernelspec": {
   "display_name": "Python 3 (ipykernel)",
   "language": "python",
   "name": "python3"
  },
  "language_info": {
   "codemirror_mode": {
    "name": "ipython",
    "version": 3
   },
   "file_extension": ".py",
   "mimetype": "text/x-python",
   "name": "python",
   "nbconvert_exporter": "python",
   "pygments_lexer": "ipython3",
   "version": "3.11.1"
  }
 },
 "nbformat": 4,
 "nbformat_minor": 5
}
