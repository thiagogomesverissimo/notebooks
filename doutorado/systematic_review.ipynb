{
 "cells": [
  {
   "cell_type": "code",
   "execution_count": 5,
   "id": "419f45d0-3c43-492e-904d-8de2c4729106",
   "metadata": {},
   "outputs": [],
   "source": [
    "from pypdf import PdfReader\n",
    "import re"
   ]
  },
  {
   "cell_type": "code",
   "execution_count": 3,
   "id": "779b17f0-d2fb-480f-b59e-5ebfb395f4f8",
   "metadata": {},
   "outputs": [
    {
     "name": "stderr",
     "output_type": "stream",
     "text": [
      " impossible to decode XFormObject /Fm0\n",
      " impossible to decode XFormObject /Fm0\n",
      " impossible to decode XFormObject /Fm1\n",
      " impossible to decode XFormObject /Fm0\n",
      " impossible to decode XFormObject /Fm1\n",
      " impossible to decode XFormObject /Fm2\n",
      " impossible to decode XFormObject /Fm0\n",
      " impossible to decode XFormObject /Fm0\n",
      " impossible to decode XFormObject /Fm1\n",
      " impossible to decode XFormObject /Fm0\n",
      " impossible to decode XFormObject /Fm0\n",
      " impossible to decode XFormObject /Fm0\n",
      " impossible to decode XFormObject /Fm2\n",
      " impossible to decode XFormObject /Fm3\n",
      " impossible to decode XFormObject /Fm2\n",
      " impossible to decode XFormObject /Fm3\n",
      " impossible to decode XFormObject /Fm0\n",
      " impossible to decode XFormObject /Fm1\n",
      " impossible to decode XFormObject /Fm2\n",
      " impossible to decode XFormObject /Fm1\n",
      " impossible to decode XFormObject /Fm3\n",
      " impossible to decode XFormObject /Fm4\n",
      " impossible to decode XFormObject /Fm1\n",
      " impossible to decode XFormObject /Fm3\n",
      " impossible to decode XFormObject /Fm2\n",
      " impossible to decode XFormObject /Fm5\n",
      " impossible to decode XFormObject /Fm2\n",
      " impossible to decode XFormObject /Fm6\n",
      " impossible to decode XFormObject /Fm7\n",
      " impossible to decode XFormObject /Fm7\n",
      " impossible to decode XFormObject /Fm5\n",
      " impossible to decode XFormObject /Fm6\n",
      " impossible to decode XFormObject /Fm8\n",
      " impossible to decode XFormObject /Fm1\n",
      " impossible to decode XFormObject /Fm2\n",
      " impossible to decode XFormObject /Fm2\n",
      " impossible to decode XFormObject /Fm3\n",
      " impossible to decode XFormObject /Fm9\n",
      " impossible to decode XFormObject /Fm10\n",
      " impossible to decode XFormObject /Fm11\n",
      " impossible to decode XFormObject /Fm10\n",
      " impossible to decode XFormObject /Fm12\n",
      " impossible to decode XFormObject /Fm9\n",
      " impossible to decode XFormObject /Fm9\n",
      " impossible to decode XFormObject /Fm2\n",
      " impossible to decode XFormObject /Fm13\n",
      " impossible to decode XFormObject /Fm6\n",
      " impossible to decode XFormObject /Fm2\n",
      " impossible to decode XFormObject /Fm14\n",
      " impossible to decode XFormObject /Fm6\n",
      " impossible to decode XFormObject /Fm15\n",
      " impossible to decode XFormObject /Fm2\n",
      " impossible to decode XFormObject /Fm8\n",
      " impossible to decode XFormObject /Fm3\n",
      " impossible to decode XFormObject /Fm2\n",
      " impossible to decode XFormObject /Fm0\n",
      " impossible to decode XFormObject /Fm1\n",
      " impossible to decode XFormObject /Fm0\n",
      " impossible to decode XFormObject /Fm2\n",
      " impossible to decode XFormObject /Fm1\n",
      " impossible to decode XFormObject /Fm0\n",
      " impossible to decode XFormObject /Fm3\n",
      " impossible to decode XFormObject /Fm1\n",
      " impossible to decode XFormObject /Fm4\n",
      " impossible to decode XFormObject /Fm5\n"
     ]
    }
   ],
   "source": [
    "arquivo='/home/thiago/Downloads/systematic_review/exemplo.pdf'\n",
    "\n",
    "reader = PdfReader(arquivo)\n",
    "\n",
    "full_content = \" \".join([reader.pages[page_number].extract_text() for page_number in range(len(reader.pages))])\n",
    "\n"
   ]
  },
  {
   "cell_type": "code",
   "execution_count": 6,
   "id": "82c4411d-76fb-4e5c-92bf-b9c3d9e381b7",
   "metadata": {},
   "outputs": [
    {
     "data": {
      "text/plain": [
       "['https://doi.org/10.1016/j.chb.2018.12.004',\n",
       " 'https://github.com/DoubleBlindReviewsHCI/LADA/.',\n",
       " 'http://doi.acm.org/10.1145/2858036.2858498.',\n",
       " 'http://www.jstor.org/stable/26388407.']"
      ]
     },
     "execution_count": 6,
     "metadata": {},
     "output_type": "execute_result"
    }
   ],
   "source": [
    "re.findall(r'(https?://\\S+)', full_content)"
   ]
  },
  {
   "cell_type": "code",
   "execution_count": null,
   "id": "bb472ef6-bef9-477d-a548-db1e3c6b4c60",
   "metadata": {},
   "outputs": [],
   "source": []
  }
 ],
 "metadata": {
  "kernelspec": {
   "display_name": "Python 3 (ipykernel)",
   "language": "python",
   "name": "python3"
  },
  "language_info": {
   "codemirror_mode": {
    "name": "ipython",
    "version": 3
   },
   "file_extension": ".py",
   "mimetype": "text/x-python",
   "name": "python",
   "nbconvert_exporter": "python",
   "pygments_lexer": "ipython3",
   "version": "3.11.2"
  }
 },
 "nbformat": 4,
 "nbformat_minor": 5
}
