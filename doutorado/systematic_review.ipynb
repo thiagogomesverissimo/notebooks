{
 "cells": [
  {
   "cell_type": "code",
   "execution_count": 1,
   "id": "bb472ef6-bef9-477d-a548-db1e3c6b4c60",
   "metadata": {},
   "outputs": [],
   "source": [
    "import re\n",
    "import pymupdf\n"
   ]
  },
  {
   "cell_type": "code",
   "execution_count": 2,
   "id": "5bb5534d-793b-424b-bd6b-fb6ead1f0ba6",
   "metadata": {},
   "outputs": [
    {
     "data": {
      "text/plain": [
       "['https://doi.org/10.1016/j.chb.2018.12.004',\n",
       " 'https://github.com/DoubleBlindReviewsHCI/LADA/.',\n",
       " 'http://doi.acm.org/10.1145/2858036.2858498.',\n",
       " 'http://www.jstor.org/stable/26388407.']"
      ]
     },
     "execution_count": 2,
     "metadata": {},
     "output_type": "execute_result"
    }
   ],
   "source": [
    "arquivo='/home/thiago/Downloads/systematic_review/exemplo.pdf'\n",
    "\n",
    "with pymupdf.open(arquivo) as doc:\n",
    "    text = ' '.join([page.get_text() for page in doc])\n",
    "\n",
    "re.findall(r'(https?://\\S+)', text)"
   ]
  },
  {
   "cell_type": "code",
   "execution_count": 1,
   "id": "516ba07b-1837-42fb-88fa-972845530778",
   "metadata": {},
   "outputs": [
    {
     "ename": "AttributeError",
     "evalue": "module 'PyPaperBot' has no attribute 'doi'",
     "output_type": "error",
     "traceback": [
      "\u001b[0;31m---------------------------------------------------------------------------\u001b[0m",
      "\u001b[0;31mAttributeError\u001b[0m                            Traceback (most recent call last)",
      "Cell \u001b[0;32mIn[1], line 3\u001b[0m\n\u001b[1;32m      1\u001b[0m \u001b[38;5;28;01mimport\u001b[39;00m \u001b[38;5;21;01mPyPaperBot\u001b[39;00m \n\u001b[0;32m----> 3\u001b[0m \u001b[43mPyPaperBot\u001b[49m\u001b[38;5;241;43m.\u001b[39;49m\u001b[43mdoi\u001b[49m(\u001b[38;5;124m'\u001b[39m\u001b[38;5;124m10.1016/j.chb.2018.12.004\u001b[39m\u001b[38;5;124m'\u001b[39m)\n",
      "\u001b[0;31mAttributeError\u001b[0m: module 'PyPaperBot' has no attribute 'doi'"
     ]
    }
   ],
   "source": []
  },
  {
   "cell_type": "code",
   "execution_count": null,
   "id": "9993c8d2-6cb5-4fc7-b04a-d16371b2dc86",
   "metadata": {},
   "outputs": [],
   "source": []
  }
 ],
 "metadata": {
  "kernelspec": {
   "display_name": "Python 3 (ipykernel)",
   "language": "python",
   "name": "python3"
  },
  "language_info": {
   "codemirror_mode": {
    "name": "ipython",
    "version": 3
   },
   "file_extension": ".py",
   "mimetype": "text/x-python",
   "name": "python",
   "nbconvert_exporter": "python",
   "pygments_lexer": "ipython3",
   "version": "3.11.2"
  }
 },
 "nbformat": 4,
 "nbformat_minor": 5
}
