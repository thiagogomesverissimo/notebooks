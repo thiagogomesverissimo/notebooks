{
 "cells": [
  {
   "cell_type": "markdown",
   "metadata": {},
   "source": [
    "A distribuição binomial negativa é usada em variáveis discretas e usamos quando queremos descobrir quantos experimento precisamos realizar para obtermos k sucessos, sendo:\n",
    "\n",
    "- k = quantidade de sucessos\n",
    "- x = número de repetições independetes de um experimento até obtermos k sucessos\n",
    "- p = probabilidade de sucesso para 1 experimento (deve ser constante em todas a repetições do experimento)\n",
    "- P(X=x) = probabilidade de ter que realizar x experimentos independetes para obter k sucesso\n",
    "\n",
    "$ P(X=x) = \\frac{(x-1)!}{(k-1)![(x-1)-(k-1)]!} p^k (1-p)^{x-k}$"
   ]
  },
  {
   "cell_type": "code",
   "execution_count": 9,
   "metadata": {},
   "outputs": [
    {
     "name": "stdout",
     "output_type": "stream",
     "text": [
      "2.119388642854168\n",
      "2.7391893689678053\n",
      "2.9894422508403378\n"
     ]
    }
   ],
   "source": [
    "# 1) Em um jogo a probabilidade de ganhar é 11% em cada partida. \n",
    "\n",
    "from math import factorial\n",
    "from scipy.stats import nbinom # nbinom.pmf(number_of_tries, number_of_success, p)\n",
    "p = 0.11\n",
    "\n",
    "# a) qual a probabilidade de que um jogador necessite de 10 jogadas para ganhar 3 vezes?\n",
    "k = 3\n",
    "x = 10\n",
    "P = (factorial(x-1)/(factorial(k-1)*factorial( (x-1)-(k-1) )) ) * (p**k) * ((1-p)**(x-k))\n",
    "print(P*100)\n",
    "\n",
    "# mesmo resultado usando a biblioteca scipy\n",
    "print(nbinom.pmf(x,k, p)*100) # os valores esão diferentes, por que?"
   ]
  },
  {
   "cell_type": "code",
   "execution_count": 12,
   "metadata": {},
   "outputs": [
    {
     "data": {
      "text/plain": [
       "<matplotlib.axes._subplots.AxesSubplot at 0x7fa6bd5ba4e0>"
      ]
     },
     "execution_count": 12,
     "metadata": {},
     "output_type": "execute_result"
    },
    {
     "data": {
      "image/png": "[encoded data removed]",
      "text/plain": [
       "<Figure size 432x288 with 1 Axes>"
      ]
     },
     "metadata": {
      "needs_background": "light"
     },
     "output_type": "display_data"
    }
   ],
   "source": [
    "# É interessante observar como a probabilidade muda em função dos casos de sucessos esperados\n",
    "import seaborn as sns\n",
    "k = 2\n",
    "x = range(2,20)\n",
    "probabilidade = nbinom.pmf(x, k, p)\n",
    "sns.scatterplot(x=x, y=probabilidade)"
   ]
  },
  {
   "cell_type": "code",
   "execution_count": 22,
   "metadata": {},
   "outputs": [
    {
     "data": {
      "text/plain": [
       "<matplotlib.axes._subplots.AxesSubplot at 0x7fa6bcb4f4a8>"
      ]
     },
     "execution_count": 22,
     "metadata": {},
     "output_type": "execute_result"
    },
    {
     "data": {
      "image/png": "[encoded data removed]",
      "text/plain": [
       "<Figure size 432x288 with 1 Axes>"
      ]
     },
     "metadata": {
      "needs_background": "light"
     },
     "output_type": "display_data"
    }
   ],
   "source": [
    "# aumentando a probabilidade para 40%\n",
    "p = 0.18\n",
    "k = 2\n",
    "x = range(2,20)\n",
    "probabilidade = nbinom.pmf(x, k, p)\n",
    "sns.scatterplot(x=x, y=probabilidade)"
   ]
  },
  {
   "cell_type": "code",
   "execution_count": 26,
   "metadata": {},
   "outputs": [
    {
     "data": {
      "text/plain": [
       "<matplotlib.axes._subplots.AxesSubplot at 0x7fa6bcb26cf8>"
      ]
     },
     "execution_count": 26,
     "metadata": {},
     "output_type": "execute_result"
    },
    {
     "data": {
      "image/png": "[encoded data removed]",
      "text/plain": [
       "<Figure size 432x288 with 1 Axes>"
      ]
     },
     "metadata": {
      "needs_background": "light"
     },
     "output_type": "display_data"
    }
   ],
   "source": [
    "# Mistério... as funções estão diferentes\n",
    "def minha_nbinom(x,k,p):\n",
    "    return (factorial(x-1)/(factorial(k-1)*factorial( (x-1)-(k-1) )) ) * (p**k) * ((1-p)**(x-k))\n",
    "p = 0.18\n",
    "k = 2\n",
    "xrange = range(2,20)\n",
    "probabilidade = [minha_nbinom(x, k, p) for x in xrange]\n",
    "sns.scatterplot(x=x, y=probabilidade)"
   ]
  },
  {
   "cell_type": "code",
   "execution_count": null,
   "metadata": {},
   "outputs": [],
   "source": []
  }
 ],
 "metadata": {
  "kernelspec": {
   "display_name": "Python 3",
   "language": "python",
   "name": "python3"
  },
  "language_info": {
   "codemirror_mode": {
    "name": "ipython",
    "version": 3
   },
   "file_extension": ".py",
   "mimetype": "text/x-python",
   "name": "python",
   "nbconvert_exporter": "python",
   "pygments_lexer": "ipython3",
   "version": "3.7.3"
  }
 },
 "nbformat": 4,
 "nbformat_minor": 2
}
