{
 "cells": [
  {
   "cell_type": "markdown",
   "metadata": {},
   "source": [
    "A distribuição binomial negativa é usada em variáveis discretas e usamos quando queremos descobrir quantos experimento precisamos realizar para obtermos k sucessos, sendo:\n",
    "\n",
    "- k = quantidade de sucessos\n",
    "- x = número de repetições independetes de um experimento até obtermos k sucessos\n",
    "- p = probabilidade de sucesso para 1 experimento (deve ser constante em todas a repetições do experimento)\n",
    "- P(X=x) = probabilidade de ter que realizar x experimentos independetes para obter k sucesso\n",
    "\n",
    "$ P(X=x) = \\frac{(x-1)!}{(k-1)![(x-1)-(k-1)]!} p^k (1-p)^{x-k}$\n",
    "\n",
    "sendo\n",
    "\n",
    "$ \\binom{n}{k} = \\frac{n!}{k!(n-k)!}$\n",
    "\n",
    "e portanto:\n",
    "\n",
    "$ \\binom{x-1}{k-1} = \\frac{(x-1)!}{(k-1)![(x-1)-(k-1)]!} $"
   ]
  },
  {
   "cell_type": "code",
   "execution_count": 1,
   "metadata": {},
   "outputs": [
    {
     "name": "stdout",
     "output_type": "stream",
     "text": [
      "2.119388642854168\n",
      "2.1193886428541675\n"
     ]
    }
   ],
   "source": [
    "# 1) Em um jogo a probabilidade de ganhar é 11% em cada partida. \n",
    "\n",
    "from math import factorial\n",
    "from scipy.stats import nbinom # nbinom.pmf(number_of_tries, number_of_success, p)\n",
    "p = 0.11\n",
    "\n",
    "# a) qual a probabilidade de que um jogador necessite de 10 jogadas para ganhar 3 vezes?\n",
    "k = 3\n",
    "x = 10\n",
    "P = (factorial(x-1)/(factorial(k-1)*factorial( (x-1)-(k-1) )) ) * (p**k) * ((1-p)**(x-k))\n",
    "print(P*100)\n",
    "\n",
    "# mesmo resultado usando a biblioteca scipy\n",
    "# com adendo que essa função recebe o número de falhas e não o número total do experimento:\n",
    "# nbinom.pmf(falhas,sucessos, probabilidade_sucesso)\n",
    "print(nbinom.pmf(x-k,k, p)*100)"
   ]
  },
  {
   "cell_type": "code",
   "execution_count": 6,
   "metadata": {},
   "outputs": [
    {
     "data": {
      "text/plain": [
       "<matplotlib.axes._subplots.AxesSubplot at 0x7fac68386860>"
      ]
     },
     "execution_count": 6,
     "metadata": {},
     "output_type": "execute_result"
    },
    {
     "data": {
      "image/png": "[encoded data removed]",
      "text/plain": [
       "<Figure size 432x288 with 1 Axes>"
      ]
     },
     "metadata": {
      "needs_background": "light"
     },
     "output_type": "display_data"
    }
   ],
   "source": [
    "# É interessante observar como a probabilidade muda em função dos casos de sucessos esperados\n",
    "import seaborn as sns\n",
    "k = 2\n",
    "x = range(2,20)\n",
    "falhas = [i-k for i in x]\n",
    "probabilidade = nbinom.pmf(falhas, k, p)\n",
    "sns.scatterplot(x=x, y=probabilidade)"
   ]
  },
  {
   "cell_type": "code",
   "execution_count": 7,
   "metadata": {},
   "outputs": [
    {
     "data": {
      "text/plain": [
       "<matplotlib.axes._subplots.AxesSubplot at 0x7fabfb07a710>"
      ]
     },
     "execution_count": 7,
     "metadata": {},
     "output_type": "execute_result"
    },
    {
     "data": {
      "image/png": "[encoded data removed]",
      "text/plain": [
       "<Figure size 432x288 with 1 Axes>"
      ]
     },
     "metadata": {
      "needs_background": "light"
     },
     "output_type": "display_data"
    }
   ],
   "source": [
    "# aumentando a probabilidade para 40%\n",
    "p = 0.18\n",
    "k = 2\n",
    "falhas = [i-k for i in x]\n",
    "probabilidade = nbinom.pmf(falhas, k, p)\n",
    "sns.scatterplot(x=x, y=probabilidade)"
   ]
  },
  {
   "cell_type": "code",
   "execution_count": 8,
   "metadata": {},
   "outputs": [
    {
     "data": {
      "text/plain": [
       "0.10782347265281372"
      ]
     },
     "execution_count": 8,
     "metadata": {},
     "output_type": "execute_result"
    }
   ],
   "source": [
    "# Suponha que um aluno acerte três questões a cada cinco testes.\n",
    "# Seja X o número de tentativas até o décimo segundo acerto.\n",
    "# Determine a probabilidade de que o aluno precise fazer 20 questões para acertar 12.\n",
    "falhas = 8\n",
    "sucessos = 12\n",
    "probabilidade_sucesso = 3/5\n",
    "nbinom.pmf(falhas, sucessos, probabilidade_sucesso)"
   ]
  },
  {
   "cell_type": "code",
   "execution_count": null,
   "metadata": {},
   "outputs": [],
   "source": []
  }
 ],
 "metadata": {
  "kernelspec": {
   "display_name": "Python 3",
   "language": "python",
   "name": "python3"
  },
  "language_info": {
   "codemirror_mode": {
    "name": "ipython",
    "version": 3
   },
   "file_extension": ".py",
   "mimetype": "text/x-python",
   "name": "python",
   "nbconvert_exporter": "python",
   "pygments_lexer": "ipython3",
   "version": "3.7.3"
  }
 },
 "nbformat": 4,
 "nbformat_minor": 2
}
