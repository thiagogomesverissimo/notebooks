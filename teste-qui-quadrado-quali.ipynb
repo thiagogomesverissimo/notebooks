{
 "cells": [
  {
   "cell_type": "markdown",
   "metadata": {},
   "source": [
    "## Teste de qui-quadrado para avaliar a associação entre duas variáveis qualitativas\n",
    "\n",
    "### 1 - Tabela de contigência com as observações\n",
    "\n",
    "Suponha um questionário no qual as pessoas clientes de 3 empresas A,B e C avaliaram a qualidade do serviço como ruim, médio ou bom. A tabela de contigência sumariza as respostas: "
   ]
  },
  {
   "cell_type": "code",
   "execution_count": 4,
   "metadata": {},
   "outputs": [
    {
     "data": {
      "text/html": [
       "<div>\n",
       "<style scoped>\n",
       "    .dataframe tbody tr th:only-of-type {\n",
       "        vertical-align: middle;\n",
       "    }\n",
       "\n",
       "    .dataframe tbody tr th {\n",
       "        vertical-align: top;\n",
       "    }\n",
       "\n",
       "    .dataframe thead th {\n",
       "        text-align: right;\n",
       "    }\n",
       "</style>\n",
       "<table border=\"1\" class=\"dataframe\">\n",
       "  <thead>\n",
       "    <tr style=\"text-align: right;\">\n",
       "      <th></th>\n",
       "      <th>ruim</th>\n",
       "      <th>medio</th>\n",
       "      <th>bom</th>\n",
       "    </tr>\n",
       "    <tr>\n",
       "      <th>empresa</th>\n",
       "      <th></th>\n",
       "      <th></th>\n",
       "      <th></th>\n",
       "    </tr>\n",
       "  </thead>\n",
       "  <tbody>\n",
       "    <tr>\n",
       "      <th>empresaA</th>\n",
       "      <td>40</td>\n",
       "      <td>16</td>\n",
       "      <td>12</td>\n",
       "    </tr>\n",
       "    <tr>\n",
       "      <th>empresaB</th>\n",
       "      <td>32</td>\n",
       "      <td>34</td>\n",
       "      <td>16</td>\n",
       "    </tr>\n",
       "    <tr>\n",
       "      <th>empresaC</th>\n",
       "      <td>24</td>\n",
       "      <td>32</td>\n",
       "      <td>4</td>\n",
       "    </tr>\n",
       "  </tbody>\n",
       "</table>\n",
       "</div>"
      ],
      "text/plain": [
       "          ruim  medio  bom\n",
       "empresa                   \n",
       "empresaA    40     16   12\n",
       "empresaB    32     34   16\n",
       "empresaC    24     32    4"
      ]
     },
     "execution_count": 4,
     "metadata": {},
     "output_type": "execute_result"
    }
   ],
   "source": [
    "import pandas as pd \n",
    "frequencias_observadas = pd.DataFrame([\n",
    "    ['empresaA', 40, 16, 12], \n",
    "    ['empresaB', 32, 34, 16], \n",
    "    ['empresaC', 24, 32, 4]], \n",
    "    columns = ['empresa','ruim', 'medio','bom'])\n",
    "frequencias_observadas = frequencias_observadas.set_index('empresa')\n",
    "frequencias_observadas"
   ]
  },
  {
   "cell_type": "markdown",
   "metadata": {},
   "source": [
    "### 2 - Tabela com as frequências absolutas esperadas\n",
    "\n",
    "O valor esperado de cada célula na linha $i$ e coluna $j$ da matriz de contigência é dado pela soma de todos elementos da linha $i$ multiplicado por todos elementos da coluna $j$ dividido pela quantidade de observações $n$:\n",
    "\n",
    "$x_{esperado_{ij}} =  \\frac{\\sum_{i} x_{ij} \\sum_{j} x_{ij}}{n}$"
   ]
  },
  {
   "cell_type": "code",
   "execution_count": 18,
   "metadata": {},
   "outputs": [
    {
     "name": "stdout",
     "output_type": "stream",
     "text": [
      "               ruim      medio        bom\n",
      "empresa                                  \n",
      "empresaA  31.085714  26.552381  10.361905\n",
      "empresaB  37.485714  32.019048  12.495238\n",
      "empresaC  27.428571  23.428571   9.142857\n"
     ]
    }
   ],
   "source": [
    "# empty data frame\n",
    "frequencias_absolutas_esperadas = pd.DataFrame().reindex_like(frequencias_observadas)\n",
    "\n",
    "n_linhas  = len(frequencias_observadas.index)\n",
    "n_colunas = len(frequencias_observadas.columns)\n",
    "n = frequencias_observadas.values.sum()\n",
    "\n",
    "\n",
    "for linha in range(n_linhas):\n",
    "    for coluna in range(n_colunas):\n",
    "        soma_linhas = sum(frequencias_observadas.iloc[linha])\n",
    "        soma_colunas = sum(frequencias_observadas.iloc[:,coluna])\n",
    "        frequencias_absolutas_esperadas.iloc[linha,coluna] = (soma_linhas*soma_colunas)/n\n",
    "\n",
    "print(frequencias_absolutas_esperadas)"
   ]
  },
  {
   "cell_type": "markdown",
   "metadata": {},
   "source": [
    "### 3 -  Calculo do resíduo\n",
    "Frequência absoluta observada menos a frequência absoluta esperada"
   ]
  },
  {
   "cell_type": "code",
   "execution_count": 24,
   "metadata": {},
   "outputs": [
    {
     "name": "stdout",
     "output_type": "stream",
     "text": [
      "              ruim      medio       bom\n",
      "empresa                                \n",
      "empresaA  8.914286 -10.552381  1.638095\n",
      "empresaB -5.485714   1.980952  3.504762\n",
      "empresaC -3.428571   8.571429 -5.142857\n"
     ]
    }
   ],
   "source": [
    "residuos = frequencias_observadas - frequencias_absolutas_esperadas\n",
    "print(residuos)"
   ]
  },
  {
   "cell_type": "markdown",
   "metadata": {},
   "source": [
    "### 4 - Cálcudo da matrix de qui-quadrado"
   ]
  },
  {
   "cell_type": "code",
   "execution_count": 28,
   "metadata": {},
   "outputs": [
    {
     "name": "stdout",
     "output_type": "stream",
     "text": [
      "              ruim     medio       bom\n",
      "empresa                               \n",
      "empresaA  2.556303  4.193701  0.258964\n",
      "empresaB  0.802787  0.122557  0.983043\n",
      "empresaC  0.428571  3.135889  2.892857\n"
     ]
    }
   ],
   "source": [
    "tabela_quiquadrado = (residuos*residuos)/frequencias_absolutas_esperadas\n",
    "print(tabela_quiquadrado)"
   ]
  },
  {
   "cell_type": "markdown",
   "metadata": {},
   "source": [
    "### 5 - soma dos qui-quadrados"
   ]
  },
  {
   "cell_type": "code",
   "execution_count": 29,
   "metadata": {},
   "outputs": [
    {
     "name": "stdout",
     "output_type": "stream",
     "text": [
      "15.374671938971902\n"
     ]
    }
   ],
   "source": [
    "qui_quadrado = tabela_quiquadrado.values.sum()\n",
    "print(qui_quadrado)"
   ]
  },
  {
   "cell_type": "markdown",
   "metadata": {},
   "source": [
    "### 6 - significância segundo o p-value da distribuição de $\\chi^2$\n",
    "\n",
    "Para verificação de associação entre as variáveis vamso considerar:\n",
    "\n",
    "$H_0$ (Hipótese Nula): Empresa e nível de satisfação estão associadas aleatoriamente (não estão associadas)\n",
    "\n",
    "$H_1$ (Hipótese Alternativa): Empresa e nível de satisfação não estão associadas aleatoriamente (estão associadas)\n",
    "\n",
    "Vamos olhar numa distribuição qui-quadrado assimétrica a direita com 4 graus de liberdade onde nossa valor de qui-quadrado está. O p-value encontrado foi de 0.003 e considerando-se o nível de significância de 0.05 podemos rejeitra nossa hipótese nula, ou seja, há evidências de associação entre as variáveis:"
   ]
  },
  {
   "cell_type": "code",
   "execution_count": 38,
   "metadata": {},
   "outputs": [
    {
     "name": "stdout",
     "output_type": "stream",
     "text": [
      "0.003983997208317528\n"
     ]
    }
   ],
   "source": [
    "from scipy.stats.distributions import chi2\n",
    "graus_de_liberdade = (n_linhas-1)*(n_linhas-1) # df = degrees of freedom\n",
    "pvalue = chi2.sf(qui_quadrado, df = graus_de_liberdade)\n",
    "print(pvalue)"
   ]
  },
  {
   "cell_type": "markdown",
   "metadata": {},
   "source": [
    "### 7 - significância segundo o valor crítico da distribuição de $\\chi^2$\n",
    "\n",
    "Poderíamos fazer a mesma análise feita anteriormente procurando o valor de $\\chi^2$ de 5% de significância em uma distribuição $\\chi^2$ com 4 graus de liberdade. O valor crítico encontrado foi 9,48. Como entramos 15,37 estamos muita acima do valor crítico e e portanto dentro da região de 5% de significância, podendo-se novamente rejeitar a hipótese nula:"
   ]
  },
  {
   "cell_type": "code",
   "execution_count": 39,
   "metadata": {},
   "outputs": [
    {
     "name": "stdout",
     "output_type": "stream",
     "text": [
      "9.487729036781154\n"
     ]
    }
   ],
   "source": [
    "valor_critico = stats.chi2.ppf(q=0.95, df=graus_de_liberdade)\n",
    "print(valor_critico)"
   ]
  },
  {
   "cell_type": "code",
   "execution_count": null,
   "metadata": {},
   "outputs": [],
   "source": []
  }
 ],
 "metadata": {
  "kernelspec": {
   "display_name": "Python 3",
   "language": "python",
   "name": "python3"
  },
  "language_info": {
   "codemirror_mode": {
    "name": "ipython",
    "version": 3
   },
   "file_extension": ".py",
   "mimetype": "text/x-python",
   "name": "python",
   "nbconvert_exporter": "python",
   "pygments_lexer": "ipython3",
   "version": "3.7.3"
  }
 },
 "nbformat": 4,
 "nbformat_minor": 4
}
