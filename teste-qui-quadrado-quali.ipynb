{
 "cells": [
  {
   "cell_type": "markdown",
   "metadata": {},
   "source": [
    "## Teste de qui-quadrado para avaliar a associação entre duas variáveis qualitativas\n",
    "\n",
    "### 1 - Tabela de contigência com as observações"
   ]
  },
  {
   "cell_type": "code",
   "execution_count": 8,
   "metadata": {},
   "outputs": [
    {
     "data": {
      "text/html": [
       "<div>\n",
       "<style scoped>\n",
       "    .dataframe tbody tr th:only-of-type {\n",
       "        vertical-align: middle;\n",
       "    }\n",
       "\n",
       "    .dataframe tbody tr th {\n",
       "        vertical-align: top;\n",
       "    }\n",
       "\n",
       "    .dataframe thead th {\n",
       "        text-align: right;\n",
       "    }\n",
       "</style>\n",
       "<table border=\"1\" class=\"dataframe\">\n",
       "  <thead>\n",
       "    <tr style=\"text-align: right;\">\n",
       "      <th></th>\n",
       "      <th>ruim</th>\n",
       "      <th>medio</th>\n",
       "      <th>bom</th>\n",
       "    </tr>\n",
       "    <tr>\n",
       "      <th>empresa</th>\n",
       "      <th></th>\n",
       "      <th></th>\n",
       "      <th></th>\n",
       "    </tr>\n",
       "  </thead>\n",
       "  <tbody>\n",
       "    <tr>\n",
       "      <th>empresaA</th>\n",
       "      <td>40</td>\n",
       "      <td>16</td>\n",
       "      <td>12</td>\n",
       "    </tr>\n",
       "    <tr>\n",
       "      <th>empresaB</th>\n",
       "      <td>32</td>\n",
       "      <td>34</td>\n",
       "      <td>16</td>\n",
       "    </tr>\n",
       "    <tr>\n",
       "      <th>empresaC</th>\n",
       "      <td>24</td>\n",
       "      <td>32</td>\n",
       "      <td>4</td>\n",
       "    </tr>\n",
       "  </tbody>\n",
       "</table>\n",
       "</div>"
      ],
      "text/plain": [
       "          ruim  medio  bom\n",
       "empresa                   \n",
       "empresaA    40     16   12\n",
       "empresaB    32     34   16\n",
       "empresaC    24     32    4"
      ]
     },
     "execution_count": 8,
     "metadata": {},
     "output_type": "execute_result"
    }
   ],
   "source": [
    "import pandas as pd \n",
    "frequencias_observadas = pd.DataFrame([\n",
    "    ['empresaA', 40, 16, 12], \n",
    "    ['empresaB', 32, 34, 16], \n",
    "    ['empresaC', 24, 32, 4]], \n",
    "    columns = ['empresa','ruim', 'medio','bom'])\n",
    "frequencias_observadas = frequencias_observadas.set_index('empresa')\n",
    "frequencias_observadas"
   ]
  },
  {
   "cell_type": "markdown",
   "metadata": {},
   "source": [
    "### 2 - Tabela com as frequências absolutas esperadas\n",
    "\n",
    "Cada célula corresponde a soma da linha pela soma da coluna divido por N"
   ]
  },
  {
   "cell_type": "code",
   "execution_count": 55,
   "metadata": {},
   "outputs": [],
   "source": [
    "# empty data frame\n",
    "frequencias_absolutas_esperadas = pd.DataFrame().reindex_like(frequencias_observadas)\n",
    "\n",
    "linhas = len(frequencias_observadas.index)\n",
    "colunas = len(frequencias_observadas.columns)\n",
    "for linha in range(linhas):\n",
    "    for coluna in range(colunas):\n",
    "        frequencias_observadas.iloc[linha,coluna]"
   ]
  },
  {
   "cell_type": "code",
   "execution_count": null,
   "metadata": {},
   "outputs": [],
   "source": []
  }
 ],
 "metadata": {
  "kernelspec": {
   "display_name": "Python 3",
   "language": "python",
   "name": "python3"
  },
  "language_info": {
   "codemirror_mode": {
    "name": "ipython",
    "version": 3
   },
   "file_extension": ".py",
   "mimetype": "text/x-python",
   "name": "python",
   "nbconvert_exporter": "python",
   "pygments_lexer": "ipython3",
   "version": "3.8.5"
  }
 },
 "nbformat": 4,
 "nbformat_minor": 4
}
