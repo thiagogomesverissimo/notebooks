{
 "cells": [
  {
   "cell_type": "code",
   "execution_count": 1,
   "id": "1f4dd3bf-d5c4-4b1e-8215-cacae19117da",
   "metadata": {},
   "outputs": [],
   "source": [
    "tabela = {\n",
    "    'A': 1, 'B': 2, 'C': 3, 'D': 4, 'E': 5, 'F': 6, 'G': 7, 'H': 8, 'I': 9,\n",
    "    'J': 1, 'K': 2, 'L': 3, 'M': 4, 'N': 5, 'O': 6, 'P': 7, 'Q': 8, 'R': 9,\n",
    "    'S': 1, 'T': 2, 'U': 3, 'V': 4, 'W': 5, 'X': 6, 'Y': 7, 'Z': 8\n",
    "}"
   ]
  },
  {
   "cell_type": "code",
   "execution_count": 20,
   "id": "1431f55d-b879-407f-a067-4323618995de",
   "metadata": {},
   "outputs": [
    {
     "name": "stdout",
     "output_type": "stream",
     "text": [
      "THEODORACAMARGOVERISSIMO\n"
     ]
    }
   ],
   "source": [
    "nome = 'Theodora Camargo Verissimo'\n",
    "nome = nome.upper()\n",
    "nome = ''.join(filter(str.isalpha, nome))\n",
    "print(nome)"
   ]
  },
  {
   "cell_type": "code",
   "execution_count": 21,
   "id": "f514a5d9-970e-4430-89b9-2d70e25dde24",
   "metadata": {},
   "outputs": [
    {
     "name": "stdout",
     "output_type": "stream",
     "text": [
      "T 2\n",
      "H 8\n",
      "E 5\n",
      "O 6\n",
      "D 4\n",
      "O 6\n",
      "R 9\n",
      "A 1\n",
      "C 3\n",
      "A 1\n",
      "M 4\n",
      "A 1\n",
      "R 9\n",
      "G 7\n",
      "O 6\n",
      "V 4\n",
      "E 5\n",
      "R 9\n",
      "I 9\n",
      "S 1\n",
      "S 1\n",
      "I 9\n",
      "M 4\n",
      "O 6\n",
      "SOMA:  120\n"
     ]
    }
   ],
   "source": [
    "soma = 0\n",
    "for letra in nome:\n",
    "    print(letra + ' ' + str(tabela[letra]))\n",
    "    soma = soma + tabela[letra]\n",
    "    \n",
    "print('SOMA: ', soma)"
   ]
  },
  {
   "cell_type": "code",
   "execution_count": null,
   "id": "ddd172cd-8431-4aa9-bdc5-83301aa6caca",
   "metadata": {},
   "outputs": [],
   "source": []
  }
 ],
 "metadata": {
  "kernelspec": {
   "display_name": "Python 3 (ipykernel)",
   "language": "python",
   "name": "python3"
  },
  "language_info": {
   "codemirror_mode": {
    "name": "ipython",
    "version": 3
   },
   "file_extension": ".py",
   "mimetype": "text/x-python",
   "name": "python",
   "nbconvert_exporter": "python",
   "pygments_lexer": "ipython3",
   "version": "3.11.2"
  }
 },
 "nbformat": 4,
 "nbformat_minor": 5
}
