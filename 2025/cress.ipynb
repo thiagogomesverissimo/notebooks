{
 "cells": [
  {
   "cell_type": "code",
   "execution_count": 8,
   "id": "821cc528-f54d-4370-bbd6-46434497afeb",
   "metadata": {},
   "outputs": [],
   "source": [
    "#from pyromarc import reader\n",
    "#from pyromarc import readerb\n",
    "#import smc\n",
    "\n",
    "\n",
    "# https://github.com/agrausem/pyromarc\n",
    "\n",
    "# Ao que parece os dados estão em  Iso 2709\n",
    "#mirs = reader('../data/2025/cress/MST.ISO', 'ISO2709')\n",
    "#for mir in mirs:\n",
    "#    do_something_with(mir)\n",
    "\n",
    "\n",
    "\n",
    "#with open('../data/2025/cress/MST.ISO', 'rb') as filehandler:\n",
    "#    mirs = readerb(filehandler, 'ISO2709')\n",
    "#    for mir in mirs:\n",
    "#        do_something_with(mir)\n",
    "\n",
    "\n",
    "import pandas as pd\n",
    "\n",
    "with open('/home/thiago/temp/isis2json/OUTPUT.json', encoding='utf-8') as inputfile:\n",
    "    df = pd.read_json(inputfile)\n",
    "\n",
    "df.to_csv('/home/thiago/temp/isis2json/csvfile.csv', encoding='utf-8', index=False)"
   ]
  },
  {
   "cell_type": "code",
   "execution_count": null,
   "id": "ff9541d3-9f32-459e-a659-9278b4234753",
   "metadata": {},
   "outputs": [],
   "source": []
  }
 ],
 "metadata": {
  "kernelspec": {
   "display_name": "Python 3 (ipykernel)",
   "language": "python",
   "name": "python3"
  },
  "language_info": {
   "codemirror_mode": {
    "name": "ipython",
    "version": 3
   },
   "file_extension": ".py",
   "mimetype": "text/x-python",
   "name": "python",
   "nbconvert_exporter": "python",
   "pygments_lexer": "ipython3",
   "version": "3.11.1"
  }
 },
 "nbformat": 4,
 "nbformat_minor": 5
}
