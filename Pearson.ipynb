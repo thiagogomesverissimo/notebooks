{
 "cells": [
  {
   "cell_type": "code",
   "execution_count": 2,
   "metadata": {
    "scrolled": true
   },
   "outputs": [
    {
     "data": {
      "text/html": [
       "<div>\n",
       "<style scoped>\n",
       "    .dataframe tbody tr th:only-of-type {\n",
       "        vertical-align: middle;\n",
       "    }\n",
       "\n",
       "    .dataframe tbody tr th {\n",
       "        vertical-align: top;\n",
       "    }\n",
       "\n",
       "    .dataframe thead th {\n",
       "        text-align: right;\n",
       "    }\n",
       "</style>\n",
       "<table border=\"1\" class=\"dataframe\">\n",
       "  <thead>\n",
       "    <tr style=\"text-align: right;\">\n",
       "      <th></th>\n",
       "      <th>matematica</th>\n",
       "      <th>fisica</th>\n",
       "      <th>literatura</th>\n",
       "    </tr>\n",
       "  </thead>\n",
       "  <tbody>\n",
       "    <tr>\n",
       "      <th>0</th>\n",
       "      <td>5.5</td>\n",
       "      <td>7.5</td>\n",
       "      <td>9.0</td>\n",
       "    </tr>\n",
       "    <tr>\n",
       "      <th>1</th>\n",
       "      <td>9.0</td>\n",
       "      <td>8.5</td>\n",
       "      <td>5.5</td>\n",
       "    </tr>\n",
       "    <tr>\n",
       "      <th>2</th>\n",
       "      <td>4.5</td>\n",
       "      <td>5.0</td>\n",
       "      <td>6.5</td>\n",
       "    </tr>\n",
       "    <tr>\n",
       "      <th>3</th>\n",
       "      <td>6.5</td>\n",
       "      <td>8.0</td>\n",
       "      <td>6.5</td>\n",
       "    </tr>\n",
       "    <tr>\n",
       "      <th>4</th>\n",
       "      <td>7.5</td>\n",
       "      <td>6.0</td>\n",
       "      <td>5.0</td>\n",
       "    </tr>\n",
       "  </tbody>\n",
       "</table>\n",
       "</div>"
      ],
      "text/plain": [
       "   matematica  fisica  literatura\n",
       "0         5.5     7.5         9.0\n",
       "1         9.0     8.5         5.5\n",
       "2         4.5     5.0         6.5\n",
       "3         6.5     8.0         6.5\n",
       "4         7.5     6.0         5.0"
      ]
     },
     "execution_count": 2,
     "metadata": {},
     "output_type": "execute_result"
    }
   ],
   "source": [
    "import pandas as pd\n",
    "df = pd.read_csv('data/notas.csv')\n",
    "df.head()"
   ]
  },
  {
   "cell_type": "markdown",
   "metadata": {},
   "source": [
    "### Cálculo da convâriância - matemática versus literatura\n",
    "\n",
    "$cov(x,y) = \\frac{\\sum_{i=1}^{n} (x_i-\\overline{x})(y_i-\\overline(y)) }{n-1}$ \n",
    "\n",
    "$pearson = \\frac{cov(x,y)}{\\sigma_x\\sigma_y}$"
   ]
  },
  {
   "cell_type": "code",
   "execution_count": 12,
   "metadata": {},
   "outputs": [
    {
     "name": "stdout",
     "output_type": "stream",
     "text": [
      "6.775\n",
      "2.0535398369812468\n"
     ]
    }
   ],
   "source": [
    "# 1 - média e desvio padrão matemática\n",
    "media_matematica = df['matematica'].mean()\n",
    "sd_matematica = df['matematica'].std()\n",
    "\n",
    "print(media_matematica)\n",
    "print(sd_matematica)"
   ]
  },
  {
   "cell_type": "code",
   "execution_count": 13,
   "metadata": {},
   "outputs": [
    {
     "name": "stdout",
     "output_type": "stream",
     "text": [
      "6.566666666666666\n",
      "1.7157150581957192\n"
     ]
    }
   ],
   "source": [
    "# 2 - média e desvio padrão literatura\n",
    "media_literatura = df['literatura'].mean()\n",
    "sd_literatura = df['literatura'].std()\n",
    "\n",
    "print(media_literatura)\n",
    "print(sd_literatura)"
   ]
  },
  {
   "cell_type": "code",
   "execution_count": 23,
   "metadata": {},
   "outputs": [
    {
     "name": "stdout",
     "output_type": "stream",
     "text": [
      "-1.0879310344827586\n"
     ]
    }
   ],
   "source": [
    "# 3 covariância\n",
    "somatorio = ((df['matematica']-media_matematica)*(df['literatura']-media_literatura)).sum()\n",
    "n=df.shape[0]\n",
    "covariancia = somatorio/(n-1)\n",
    "print(covariancia)"
   ]
  },
  {
   "cell_type": "code",
   "execution_count": 24,
   "metadata": {},
   "outputs": [
    {
     "name": "stdout",
     "output_type": "stream",
     "text": [
      "-0.3087827783268622\n"
     ]
    }
   ],
   "source": [
    "# correlação de pearson\n",
    "pearson = covariancia/(sd_literatura*sd_matematica)\n",
    "print(pearson)"
   ]
  }
 ],
 "metadata": {
  "kernelspec": {
   "display_name": "Python 3",
   "language": "python",
   "name": "python3"
  },
  "language_info": {
   "codemirror_mode": {
    "name": "ipython",
    "version": 3
   },
   "file_extension": ".py",
   "mimetype": "text/x-python",
   "name": "python",
   "nbconvert_exporter": "python",
   "pygments_lexer": "ipython3",
   "version": "3.7.3"
  }
 },
 "nbformat": 4,
 "nbformat_minor": 2
}
