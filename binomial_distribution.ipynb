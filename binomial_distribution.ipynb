{
 "cells": [
  {
   "cell_type": "markdown",
   "metadata": {},
   "source": [
    "Variáveis:\n",
    "\n",
    "- k = quantidade de sucessos\n",
    "- n = número de repetições de um experimento\n",
    "- p = probabilidade de sucesso para 1 experimento (deve ser constante em todas a repetições do experimento)\n",
    "- P(X=k) = probabilidade de sucesso nas n repetições do expimento\n",
    "\n",
    "$ P(X=k) = \\frac{n!}{k!(n-k)!} p^k (1-p)^{n-k}$"
   ]
  },
  {
   "cell_type": "code",
   "execution_count": 14,
   "metadata": {},
   "outputs": [
    {
     "name": "stdout",
     "output_type": "stream",
     "text": [
      "9.300870756448262e+23\n"
     ]
    }
   ],
   "source": [
    "# 1) Em uma industria a probabilidade de encontrar peças defeituosas em um lote é 6,5%. \n",
    "# São produzidos 12 lotes por mês.\n",
    "\n",
    "from math import factorial\n",
    "from scipy import stats\n",
    "p = 6.5\n",
    "n = 12\n",
    "\n",
    "# a) qual a probabilidade de encontrar peças defeituosas em 2 lotes no mês?\n",
    "k=2\n",
    "P = (factorial(n)/factorial(k)*factorial(n-k)) * p**k * ((1-p)**(n-k))\n",
    "print(P)\n",
    "\n",
    "scipy.stats.binom.stats(n, p)\n",
    "\n",
    "https://numpy.org/doc/stable/reference/random/generated/numpy.random.binomial.html"
   ]
  },
  {
   "cell_type": "code",
   "execution_count": null,
   "metadata": {},
   "outputs": [],
   "source": []
  }
 ],
 "metadata": {
  "kernelspec": {
   "display_name": "Python 3",
   "language": "python",
   "name": "python3"
  },
  "language_info": {
   "codemirror_mode": {
    "name": "ipython",
    "version": 3
   },
   "file_extension": ".py",
   "mimetype": "text/x-python",
   "name": "python",
   "nbconvert_exporter": "python",
   "pygments_lexer": "ipython3",
   "version": "3.6.9"
  }
 },
 "nbformat": 4,
 "nbformat_minor": 4
}
