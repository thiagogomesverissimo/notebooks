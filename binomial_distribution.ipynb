{
 "cells": [
  {
   "cell_type": "markdown",
   "metadata": {},
   "source": [
    "A distribuição binomial é usada em variáveis discretas, sendo:\n",
    "\n",
    "- k = quantidade de sucessos\n",
    "- n = número de repetições independentes de um experimento\n",
    "- p = probabilidade de sucesso para 1 experimento (deve ser constante em todas a repetições do experimento)\n",
    "- P(X=k) = probabilidade que eu tenha k sucessos nas n repetições independente do experimento com probabilidade de sucesso constante em cada experimento\n",
    "\n",
    "$ P(X=k) = \\frac{n!}{k!(n-k)!} p^k (1-p)^{n-k}$"
   ]
  },
  {
   "cell_type": "code",
   "execution_count": 18,
   "metadata": {},
   "outputs": [
    {
     "name": "stdout",
     "output_type": "stream",
     "text": [
      "14.239238278959773\n",
      "14.239238278959728\n",
      "0.5161209791123986\n",
      "96.12187970362865\n"
     ]
    }
   ],
   "source": [
    "# 1) Em uma industria a probabilidade de encontrar peças defeituosas em um lote é 6,5%. \n",
    "# São produzidos 12 lotes por mês.\n",
    "\n",
    "from math import factorial\n",
    "from scipy.stats import binom # binom.pmf(k, n, p)\n",
    "p = 0.065\n",
    "n = 12\n",
    "\n",
    "# a) qual a probabilidade de encontrar peças defeituosas em 2 lotes no mês?\n",
    "k=2\n",
    "P = (factorial(n)/(factorial(k)*factorial(n-k))) * (p**k) * ((1-p)**(n-k))\n",
    "print(P*100)\n",
    "\n",
    "# mesmo resultado usando a biblioteca scipy. PMF = probability mass function\n",
    "print(binom.pmf(k, n, p)*100)\n",
    "\n",
    "# b) qual a probabilidade de encontrar peças defeituosas em 4 lotes no mês?\n",
    "print(binom.pmf(4, n, p)*100)\n",
    "\n",
    "# c) qual a probabilidade de encontrar peças defeituosas em no máximo 2 slotes?\n",
    "# será a P(0) ou P(1) ou P(2) que será: P(0)+P(1)+P(2) \n",
    "print( (binom.pmf(0, n, p)+binom.pmf(1, n, p)+binom.pmf(2, n, p))*100 )"
   ]
  },
  {
   "cell_type": "code",
   "execution_count": 23,
   "metadata": {},
   "outputs": [
    {
     "data": {
      "text/plain": [
       "<matplotlib.axes._subplots.AxesSubplot at 0x7fe2c2689780>"
      ]
     },
     "execution_count": 23,
     "metadata": {},
     "output_type": "execute_result"
    },
    {
     "data": {
      "image/png": "[encoded data removed]",
      "text/plain": [
       "<Figure size 432x288 with 1 Axes>"
      ]
     },
     "metadata": {
      "needs_background": "light"
     },
     "output_type": "display_data"
    }
   ],
   "source": [
    "# É interessante observar como a probabilidade muda em função dos casos de sucessos esperados\n",
    "import seaborn as sns\n",
    "k = range(0,20)\n",
    "probabilidade = binom.pmf(k, n, p)\n",
    "sns.scatterplot(x=k, y=probabilidade)"
   ]
  },
  {
   "cell_type": "code",
   "execution_count": 26,
   "metadata": {},
   "outputs": [
    {
     "data": {
      "text/plain": [
       "<matplotlib.axes._subplots.AxesSubplot at 0x7fe2c3712240>"
      ]
     },
     "execution_count": 26,
     "metadata": {},
     "output_type": "execute_result"
    },
    {
     "data": {
      "image/png": "[encoded data removed]",
      "text/plain": [
       "<Figure size 432x288 with 1 Axes>"
      ]
     },
     "metadata": {
      "needs_background": "light"
     },
     "output_type": "display_data"
    }
   ],
   "source": [
    "# Veja a diferença quando aumentamos a probabilidade de 1 caso para 30%\n",
    "p = 0.3\n",
    "k = range(0,20)\n",
    "probabilidade = binom.pmf(k, n, p)\n",
    "sns.scatterplot(x=k, y=probabilidade)"
   ]
  },
  {
   "cell_type": "code",
   "execution_count": 28,
   "metadata": {},
   "outputs": [
    {
     "data": {
      "text/plain": [
       "<matplotlib.axes._subplots.AxesSubplot at 0x7fe2bf5a5da0>"
      ]
     },
     "execution_count": 28,
     "metadata": {},
     "output_type": "execute_result"
    },
    {
     "data": {
      "image/png": "[encoded data removed]",
      "text/plain": [
       "<Figure size 432x288 with 1 Axes>"
      ]
     },
     "metadata": {
      "needs_background": "light"
     },
     "output_type": "display_data"
    }
   ],
   "source": [
    "# E quando aumentamos a probabilidade de 1 caso para 90%\n",
    "p = 0.8\n",
    "k = range(0,20)\n",
    "probabilidade = binom.pmf(k, n, p)\n",
    "sns.scatterplot(x=k, y=probabilidade)"
   ]
  },
  {
   "cell_type": "code",
   "execution_count": 29,
   "metadata": {},
   "outputs": [
    {
     "data": {
      "text/plain": [
       "<matplotlib.axes._subplots.AxesSubplot at 0x7fe2bf57e080>"
      ]
     },
     "execution_count": 29,
     "metadata": {},
     "output_type": "execute_result"
    },
    {
     "data": {
      "image/png": "[encoded data removed]",
      "text/plain": [
       "<Figure size 432x288 with 1 Axes>"
      ]
     },
     "metadata": {
      "needs_background": "light"
     },
     "output_type": "display_data"
    }
   ],
   "source": [
    "# E quando aumentamos a probabilidade de 1 caso para 50%\n",
    "p = 0.5\n",
    "k = range(0,20)\n",
    "probabilidade = binom.pmf(k, n, p)\n",
    "sns.scatterplot(x=k, y=probabilidade)"
   ]
  },
  {
   "cell_type": "code",
   "execution_count": null,
   "metadata": {},
   "outputs": [],
   "source": []
  }
 ],
 "metadata": {
  "kernelspec": {
   "display_name": "Python 3",
   "language": "python",
   "name": "python3"
  },
  "language_info": {
   "codemirror_mode": {
    "name": "ipython",
    "version": 3
   },
   "file_extension": ".py",
   "mimetype": "text/x-python",
   "name": "python",
   "nbconvert_exporter": "python",
   "pygments_lexer": "ipython3",
   "version": "3.7.3"
  }
 },
 "nbformat": 4,
 "nbformat_minor": 4
}
