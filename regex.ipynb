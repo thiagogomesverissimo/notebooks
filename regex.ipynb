{
 "cells": [
  {
   "cell_type": "code",
   "execution_count": 7,
   "metadata": {},
   "outputs": [
    {
     "data": {
      "text/plain": [
       "'Office of Research Administration: (734) 647-6333 | 4325 North Quad\\nOffice of Budget and Financial Administration: (734) 647-8044 | 309 Maynard, Suite 205\\nHealth Informatics Program: (734) 763-2285 | 333 Maynard, Suite 500\\nOffice of the Dean: (734) 647-3576 | 4322 North Quad\\nUMSI Engagement Center: (734) 763-1251 | 777 North University\\nFaculty Adminstrative Support Staff: (734) 764-9376 | 4322 North Quad\\n'"
      ]
     },
     "execution_count": 7,
     "metadata": {},
     "output_type": "execute_result"
    }
   ],
   "source": [
    "# https://regex101.com/\n",
    "import re\n",
    "with open('data//phones.txt') as file:\n",
    "    text=file.read()\n",
    "text"
   ]
  },
  {
   "cell_type": "code",
   "execution_count": 38,
   "metadata": {},
   "outputs": [
    {
     "data": {
      "text/plain": [
       "['(734) 647-6333',\n",
       " '(734) 647-8044',\n",
       " '(734) 763-2285',\n",
       " '(734) 647-3576',\n",
       " '(734) 763-1251',\n",
       " '(734) 764-9376']"
      ]
     },
     "execution_count": 38,
     "metadata": {},
     "output_type": "execute_result"
    }
   ],
   "source": [
    "# Pegando os telefones\n",
    "re.findall('[(]\\d{3}[)]\\s\\d{3}[-]\\d{4}',text)"
   ]
  },
  {
   "cell_type": "code",
   "execution_count": 39,
   "metadata": {},
   "outputs": [],
   "source": [
    "sentence = 'I refer to https://google.com and I never refer http://www.baidu.com if I have to search anything'"
   ]
  },
  {
   "cell_type": "code",
   "execution_count": 54,
   "metadata": {},
   "outputs": [
    {
     "data": {
      "text/plain": [
       "['google.com', 'www.baidu.com']"
      ]
     },
     "execution_count": 54,
     "metadata": {},
     "output_type": "execute_result"
    }
   ],
   "source": [
    "# ?<=a significa Positive Lookbehind: significa ache todas posições de a\n",
    "re.findall('(?<=[https]:\\/\\/)([A-Za-z0-9.]*)',sentence)"
   ]
  },
  {
   "cell_type": "code",
   "execution_count": 55,
   "metadata": {},
   "outputs": [],
   "source": [
    "text=r'''Everyone has the following fundamental freedoms:\n",
    "    (a) freedom of conscience and religion;\n",
    "    (b) freedom of thought, belief, opinion and expression, including freedom of the press and other media of communication;\n",
    "    (c) freedom of peaceful assembly; and\n",
    "    (d) freedom of association.'''"
   ]
  },
  {
   "cell_type": "code",
   "execution_count": 56,
   "metadata": {},
   "outputs": [
    {
     "data": {
      "text/plain": [
       "['(a)', '(b)', '(c)', '(d)']"
      ]
     },
     "execution_count": 56,
     "metadata": {},
     "output_type": "execute_result"
    }
   ],
   "source": [
    "re.findall('\\(.\\)',text)"
   ]
  },
  {
   "cell_type": "code",
   "execution_count": null,
   "metadata": {},
   "outputs": [],
   "source": []
  }
 ],
 "metadata": {
  "kernelspec": {
   "display_name": "Python 3",
   "language": "python",
   "name": "python3"
  },
  "language_info": {
   "codemirror_mode": {
    "name": "ipython",
    "version": 3
   },
   "file_extension": ".py",
   "mimetype": "text/x-python",
   "name": "python",
   "nbconvert_exporter": "python",
   "pygments_lexer": "ipython3",
   "version": "3.7.3"
  }
 },
 "nbformat": 4,
 "nbformat_minor": 2
}
