{
 "cells": [
  {
   "cell_type": "markdown",
   "metadata": {},
   "source": [
    "Um pesquisador em botânica identificou que a variável *X* de seu estudo segue uma distribuição qui-quadrado e tem 7 graus de liberdade. "
   ]
  },
  {
   "cell_type": "code",
   "execution_count": 33,
   "metadata": {},
   "outputs": [
    {
     "name": "stdout",
     "output_type": "stream",
     "text": [
      "0.539749350395557\n",
      "0.6674060974006919\n",
      "14.067140449340169\n",
      "12.017036623780532\n"
     ]
    }
   ],
   "source": [
    "from scipy.stats import chi2\n",
    "# a) qual a probabilidade de encontrar x>6?\n",
    "print(1-chi2.cdf(6, 7))\n",
    "\n",
    "# b) qual a probabilidade de encontrar x<8?\n",
    "print(chi2.cdf(8, 7))\n",
    "\n",
    "# c) qual o valor de x que faz a probabilidade P(X>x) seja 5%?\n",
    "print(chi2.ppf(1-0.05, 7))\n",
    "\n",
    "# d) qual o valor de x que faz a probabilidade P(X<x) seja 90%?\n",
    "print(chi2.ppf(0.9, 7))"
   ]
  },
  {
   "cell_type": "code",
   "execution_count": null,
   "metadata": {},
   "outputs": [],
   "source": []
  }
 ],
 "metadata": {
  "kernelspec": {
   "display_name": "Python 3",
   "language": "python",
   "name": "python3"
  },
  "language_info": {
   "codemirror_mode": {
    "name": "ipython",
    "version": 3
   },
   "file_extension": ".py",
   "mimetype": "text/x-python",
   "name": "python",
   "nbconvert_exporter": "python",
   "pygments_lexer": "ipython3",
   "version": "3.7.3"
  }
 },
 "nbformat": 4,
 "nbformat_minor": 2
}
