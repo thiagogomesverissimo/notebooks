{
 "cells": [
  {
   "cell_type": "code",
   "execution_count": 8,
   "metadata": {},
   "outputs": [
    {
     "name": "stdout",
     "output_type": "stream",
     "text": [
      "0.020496109292876374\n",
      "0.020496109292876437\n",
      "0.7818820043084084\n",
      "1.894578605061305\n"
     ]
    }
   ],
   "source": [
    "# Dada uma variável X com uma distribuição de \n",
    "# t-student com 7 graus de liberdade:\n",
    "\n",
    "from scipy.stats import t\n",
    "\n",
    "# a) probabilidade de X > 2,5\n",
    "print(1-t.cdf(2.5,7))\n",
    "\n",
    "# b) probabilidade de X < -2,5\n",
    "print(t.cdf(-2.5,7))\n",
    "\n",
    "# c) probabilidade de X > -1 e X < 2\n",
    "print(t.cdf(2,7) - t.cdf(-1,7))\n",
    "\n",
    "# d) Valor de X para que P(X>x) seja 5%\n",
    "print(t.ppf(1-0.05,7))"
   ]
  },
  {
   "cell_type": "code",
   "execution_count": null,
   "metadata": {},
   "outputs": [],
   "source": []
  }
 ],
 "metadata": {
  "kernelspec": {
   "display_name": "Python 3",
   "language": "python",
   "name": "python3"
  },
  "language_info": {
   "codemirror_mode": {
    "name": "ipython",
    "version": 3
   },
   "file_extension": ".py",
   "mimetype": "text/x-python",
   "name": "python",
   "nbconvert_exporter": "python",
   "pygments_lexer": "ipython3",
   "version": "3.7.3"
  }
 },
 "nbformat": 4,
 "nbformat_minor": 2
}
