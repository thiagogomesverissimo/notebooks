{
 "cells": [
  {
   "cell_type": "markdown",
   "metadata": {},
   "source": [
    "## string para datetime\n",
    "\n",
    "Lendo uma data de uma string e calculando a diferença com a data de hoje. No final mostramos a quantidade de dias desde o nascimento"
   ]
  },
  {
   "cell_type": "code",
   "execution_count": 2,
   "metadata": {},
   "outputs": [
    {
     "name": "stdout",
     "output_type": "stream",
     "text": [
      "12473 dias desde o nascimento\n"
     ]
    }
   ],
   "source": [
    "from datetime import datetime\n",
    "nascimento = datetime.strptime('10/11/1986 19:36:00','%d/%m/%Y %H:%M:%S')\n",
    "delta = datetime.today() - nascimento\n",
    "texto = '{0:d} dias desde o nascimento'\n",
    "print(texto.format(delta.days))"
   ]
  },
  {
   "cell_type": "markdown",
   "metadata": {},
   "source": [
    "## datatime para string"
   ]
  },
  {
   "cell_type": "code",
   "execution_count": 3,
   "metadata": {},
   "outputs": [
    {
     "name": "stdout",
     "output_type": "stream",
     "text": [
      "03/01/2021 23:50:57\n"
     ]
    }
   ],
   "source": [
    "from datetime import datetime\n",
    "hoje = datetime.today()\n",
    "print(hoje.strftime('%d/%m/%Y %H:%M:%S'))"
   ]
  },
  {
   "cell_type": "code",
   "execution_count": null,
   "metadata": {},
   "outputs": [],
   "source": [
    "%timeit minha_funcao()\n",
    "%matplotlib inline"
   ]
  }
 ],
 "metadata": {
  "kernelspec": {
   "display_name": "Python 3",
   "language": "python",
   "name": "python3"
  },
  "language_info": {
   "codemirror_mode": {
    "name": "ipython",
    "version": 3
   },
   "file_extension": ".py",
   "mimetype": "text/x-python",
   "name": "python",
   "nbconvert_exporter": "python",
   "pygments_lexer": "ipython3",
   "version": "3.7.3"
  }
 },
 "nbformat": 4,
 "nbformat_minor": 4
}
