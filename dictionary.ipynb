{
 "cells": [
  {
   "cell_type": "code",
   "execution_count": 21,
   "metadata": {},
   "outputs": [
    {
     "name": "stdout",
     "output_type": "stream",
     "text": [
      "pedro tem 25 anos\n",
      "maria tem 50 anos\n",
      "jose tem 15 anos\n",
      "alex tem 12 anos\n"
     ]
    }
   ],
   "source": [
    "idades = {\n",
    "    'pedro' : 25,\n",
    "    'maria' : 41,\n",
    "    'jose'  : 15\n",
    "}\n",
    "\n",
    "idades.update({\n",
    "    'maria' : 50,\n",
    "    'alex'  : 12\n",
    "})\n",
    "\n",
    "for key, value in idades.items():\n",
    "    print(str(key) + \" tem \" + str(value) + \" anos\")"
   ]
  },
  {
   "cell_type": "code",
   "execution_count": 22,
   "metadata": {},
   "outputs": [
    {
     "name": "stdout",
     "output_type": "stream",
     "text": [
      "{'pedro': 25, 'maria': 50}\n"
     ]
    }
   ],
   "source": [
    "# dictionary comprehensions\n",
    "maiores = {key:value for key, value in idades.items() if value > 18}\n",
    "print(maiores)"
   ]
  },
  {
   "cell_type": "code",
   "execution_count": null,
   "metadata": {},
   "outputs": [],
   "source": []
  }
 ],
 "metadata": {
  "kernelspec": {
   "display_name": "Python 3",
   "language": "python",
   "name": "python3"
  },
  "language_info": {
   "codemirror_mode": {
    "name": "ipython",
    "version": 3
   },
   "file_extension": ".py",
   "mimetype": "text/x-python",
   "name": "python",
   "nbconvert_exporter": "python",
   "pygments_lexer": "ipython3",
   "version": "3.7.3"
  }
 },
 "nbformat": 4,
 "nbformat_minor": 2
}
