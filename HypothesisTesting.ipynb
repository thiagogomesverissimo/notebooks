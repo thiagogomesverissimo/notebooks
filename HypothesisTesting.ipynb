{
 "cells": [
  {
   "cell_type": "code",
   "execution_count": 81,
   "id": "38124ea0-47d1-4ff2-828c-cfa23834e5ae",
   "metadata": {},
   "outputs": [],
   "source": [
    "import statsmodels.api as sm\n",
    "import numpy as np\n",
    "import pandas as pd\n",
    "import scipy.stats.distributions as dist\n",
    "import statsmodels.api as sm\n",
    "from scipy.stats import t\n",
    "\n",
    "import matplotlib.pyplot as plt\n",
    "import seaborn as sns"
   ]
  },
  {
   "cell_type": "markdown",
   "id": "dcc77f70",
   "metadata": {},
   "source": [
    "## Caso 1: Proporção em uma população\n",
    "\n",
    "Usamos o teste de hipótese para estimar um parâmetro de uma população.\n",
    "Cenário: um estudo prévio mostrou que 52% das pessoas entre 18 e 25 anos de São Paulo votariam no candidato João. Um novo estudo com 1018 pessoas foi realizado e a nova porcentagem foi de 56%. A proporção de pessoas da população (que é o parâmetro) aumentou?\n",
    "\n",
    "- População: População com idade entre 18 e 25 anos de São Paulo\n",
    "- Paramêtro **p** de interesse: proporção de pessoas que votariam em João\n",
    "- Hipótese Nula: A proporção de pessoas que votariam no candidato se menteve em 52%\n",
    "- Hipótese Alternativa: A proporção de pessoas que votariam no candidato João é maior que 52%\n",
    "\n",
    "Erro padrão estimado para proporções:\n",
    "\n",
    "$$SE_{proporção} = \\sqrt{\\frac{p_{nulo}\\ (1 - p_{nulo})}{n}}$$\n",
    "\n",
    "\n",
    "$$\\frac{Medida - H_0}{SE_{proporção}}$$ "
   ]
  },
  {
   "cell_type": "code",
   "execution_count": 94,
   "id": "0bbfa0f0",
   "metadata": {},
   "outputs": [
    {
     "data": {
      "text/plain": [
       "570.08"
      ]
     },
     "execution_count": 94,
     "metadata": {},
     "output_type": "execute_result"
    }
   ],
   "source": [
    "# Cáluco do erro padrão estimado\n",
    "n = 1018\n",
    "p_nulo = .52\n",
    "p_alternativo = .56\n",
    "\n",
    "se = np.sqrt((p_nulo*(1-p_nulo))/n)\n",
    "se"
   ]
  },
  {
   "cell_type": "code",
   "execution_count": 78,
   "id": "efd001d6",
   "metadata": {},
   "outputs": [
    {
     "data": {
      "text/plain": [
       "2.5545334262132955"
      ]
     },
     "execution_count": 78,
     "metadata": {},
     "output_type": "execute_result"
    }
   ],
   "source": [
    "t_value_eixo_x = (p_alternativo-p_nulo)/se\n",
    "t_value_eixo_x"
   ]
  },
  {
   "cell_type": "code",
   "execution_count": 79,
   "id": "bf138348",
   "metadata": {},
   "outputs": [
    {
     "data": {
      "text/plain": [
       "0.005388877461084185"
      ]
     },
     "execution_count": 79,
     "metadata": {},
     "output_type": "execute_result"
    }
   ],
   "source": [
    "area_acima = 1-t.cdf(t_value_eixo_x,n-1)\n",
    "area_acima"
   ]
  },
  {
   "cell_type": "code",
   "execution_count": 85,
   "id": "f230cdf1-109d-45d1-966a-aa6b2a6aad1e",
   "metadata": {},
   "outputs": [
    {
     "data": {
      "text/plain": [
       "0.005316510991822442"
      ]
     },
     "execution_count": 85,
     "metadata": {},
     "output_type": "execute_result"
    }
   ],
   "source": [
    "# 1) usando scipy.stats.distributions\n",
    "t_value = np.abs(t_value_eixo_x) \n",
    "dist.norm.cdf(-t_value)"
   ]
  },
  {
   "cell_type": "code",
   "execution_count": 91,
   "id": "1a7b9bcd",
   "metadata": {},
   "outputs": [
    {
     "data": {
      "text/plain": [
       "(2.5545334262132955, 0.005316510991822442)"
      ]
     },
     "execution_count": 91,
     "metadata": {},
     "output_type": "execute_result"
    }
   ],
   "source": [
    "# 2) usando sm.stats.proportions_ztest\n",
    "\n",
    "sm.stats.proportions_ztest(p_alternativo * n, n, p_nulo, alternative='larger', prop_var=p_nulo)"
   ]
  },
  {
   "cell_type": "code",
   "execution_count": 102,
   "id": "287219ea-7a10-4d9c-81a1-e7f3ddbb6e13",
   "metadata": {},
   "outputs": [
    {
     "data": {
      "text/plain": [
       "0.0058427998666351075"
      ]
     },
     "execution_count": 102,
     "metadata": {},
     "output_type": "execute_result"
    }
   ],
   "source": [
    "# 3) usando binomial\n",
    "sm.stats.binom_test(count = int(p_alternativo*n), nobs = n,prop= p_nulo, alternative='larger')"
   ]
  },
  {
   "cell_type": "markdown",
   "id": "c5d1e9bb",
   "metadata": {},
   "source": [
    "Como p-value (a área sob a curva) foi 0.005388877461084185 e é menor que 0.05, rejeitamos a hipótese nula."
   ]
  },
  {
   "cell_type": "markdown",
   "id": "c05d55ba",
   "metadata": {},
   "source": [
    "## Caso 2: Diferença da proporção entre populações\n",
    "\n",
    "Existe uma diferença significante na proporção populacional de homens e mulheres com idade entre 18 e 25 anos de São Paulo que votariam no candidato João?\n",
    "\n",
    "- População: Mulheres e Homens com idade entre 18 e 25 anos de São Paulo\n",
    "- Paramêtro de interesse: $p_{homens} - p_{mulheres}$ (proporção de homens/mulheres que votariam em João)\n",
    "- Hipótese Nula: $p_{homens} - p_{mulheres} = 0$\n",
    "- Hipótese Alternativa: $p_{homens} - p_{mulheres} \\neq 0$\n"
   ]
  },
  {
   "cell_type": "code",
   "execution_count": 103,
   "id": "855fe537",
   "metadata": {},
   "outputs": [
    {
     "data": {
      "text/plain": [
       "0.368"
      ]
     },
     "execution_count": 103,
     "metadata": {},
     "output_type": "execute_result"
    }
   ],
   "source": [
    "# proporção de homens que votariam no joão\n",
    "n_homens = 247\n",
    "votariam_no_joao_homens = 91\n",
    "p_homens = round(votariam_no_joao_homens/n_homens,3)\n",
    "p_homens"
   ]
  },
  {
   "cell_type": "code",
   "execution_count": 104,
   "id": "1ad5165d-9939-4853-8b9f-0ae8c0cdc5fe",
   "metadata": {},
   "outputs": [
    {
     "data": {
      "text/plain": [
       "0.39"
      ]
     },
     "execution_count": 104,
     "metadata": {},
     "output_type": "execute_result"
    }
   ],
   "source": [
    "# proporção de homens que votariam no joão\n",
    "n_mulheres = 308\n",
    "votariam_no_joao_mulheres = 120\n",
    "votariam_no_joao_mulheres/n_mulheres\n",
    "p_mulheres = round(votariam_no_joao_mulheres/n_mulheres,3)\n",
    "p_mulheres"
   ]
  },
  {
   "cell_type": "code",
   "execution_count": 105,
   "id": "d77174cf-2116-4417-9101-a65c3d2c6e45",
   "metadata": {},
   "outputs": [
    {
     "data": {
      "text/plain": [
       "0.3801801801801802"
      ]
     },
     "execution_count": 105,
     "metadata": {},
     "output_type": "execute_result"
    }
   ],
   "source": [
    "# proporção de homens+mulheres que votariam no joão\n",
    "n = n_homens + n_mulheres\n",
    "votariam_no_joao = votariam_no_joao_homens + votariam_no_joao__mulheres\n",
    "p = votariam_no_joao/n\n",
    "p"
   ]
  },
  {
   "cell_type": "code",
   "execution_count": 48,
   "id": "278743f4",
   "metadata": {},
   "outputs": [
    {
     "data": {
      "text/plain": [
       "0.04146198808473324"
      ]
     },
     "execution_count": 48,
     "metadata": {},
     "output_type": "execute_result"
    }
   ],
   "source": [
    "se_homens = np.sqrt( (p *(1-p))/n_homens )\n",
    "se_mulheres = np.sqrt( (p *(1-p))/n_mulheres )\n",
    "se = np.sqrt( se_homens**2+ se_mulheres**2 )\n",
    "se"
   ]
  },
  {
   "cell_type": "code",
   "execution_count": 49,
   "id": "645b4c77",
   "metadata": {},
   "outputs": [
    {
     "data": {
      "text/plain": [
       "-0.4823695371077548"
      ]
     },
     "execution_count": 49,
     "metadata": {},
     "output_type": "execute_result"
    }
   ],
   "source": [
    "eixo_x = (p_homens - p_mulheres) / se\n",
    "eixo_x"
   ]
  },
  {
   "cell_type": "code",
   "execution_count": 57,
   "id": "68a9aa98",
   "metadata": {},
   "outputs": [
    {
     "data": {
      "text/plain": [
       "0.6295434573871281"
      ]
     },
     "execution_count": 57,
     "metadata": {},
     "output_type": "execute_result"
    }
   ],
   "source": [
    "# area acima do ponto -np.abs(eixo_x) e depois de np.abs(eixo_x)\n",
    "area = 2*dist.norm.cdf(-np.abs(eixo_x))\n",
    "area"
   ]
  },
  {
   "cell_type": "code",
   "execution_count": 42,
   "id": "783e14e0-38ca-4919-82fe-064c07f4a074",
   "metadata": {},
   "outputs": [
    {
     "data": {
      "text/plain": [
       "(-0.3745698585435712, 0.7081239854138348, 553.0)"
      ]
     },
     "execution_count": 42,
     "metadata": {},
     "output_type": "execute_result"
    }
   ],
   "source": [
    "# Um outro jeito de fazer, criando populações para essas proporções\n",
    "np.random.seed(333)\n",
    "population_homens = np.random.binomial(1,p_homens,n_homens)\n",
    "population_mulheres = np.random.binomial(1,p_mulheres,n_mulheres)\n",
    "sm.stats.ttest_ind(population_homens,population_mulheres)"
   ]
  },
  {
   "cell_type": "markdown",
   "id": "594cb4f9",
   "metadata": {},
   "source": [
    "Não temos evidências para rejeitar a hipótese nula de que a diferença da proporções é zero.  "
   ]
  },
  {
   "cell_type": "markdown",
   "id": "fb404f3e",
   "metadata": {},
   "source": [
    "## Caso 3 - Média de uma população\n",
    "\n",
    "A média da distância da cambalhota (cartwheel) para adultos é maior que 80 polegadas?\n",
    "\n",
    "- **População**: todos adultos\n",
    "- **Parâmetro de interesse**: $\\mu$, média populacional da distância da cambalhota\n",
    "- **Hipótese Nula:** $\\mu$ = 80\n",
    "- **Hipótese Alternativa:** $\\mu$ > 80\n",
    "\n",
    "n = 25 Adultos\n",
    "\n",
    "$\\mu = 82.46$\n",
    "\n",
    "$\\sigma = 15.06$"
   ]
  },
  {
   "cell_type": "code",
   "execution_count": 46,
   "id": "eedbf452",
   "metadata": {},
   "outputs": [
    {
     "data": {
      "text/html": [
       "<div>\n",
       "<style scoped>\n",
       "    .dataframe tbody tr th:only-of-type {\n",
       "        vertical-align: middle;\n",
       "    }\n",
       "\n",
       "    .dataframe tbody tr th {\n",
       "        vertical-align: top;\n",
       "    }\n",
       "\n",
       "    .dataframe thead th {\n",
       "        text-align: right;\n",
       "    }\n",
       "</style>\n",
       "<table border=\"1\" class=\"dataframe\">\n",
       "  <thead>\n",
       "    <tr style=\"text-align: right;\">\n",
       "      <th></th>\n",
       "      <th>ID</th>\n",
       "      <th>Age</th>\n",
       "      <th>Gender</th>\n",
       "      <th>GenderGroup</th>\n",
       "      <th>Glasses</th>\n",
       "      <th>GlassesGroup</th>\n",
       "      <th>Height</th>\n",
       "      <th>Wingspan</th>\n",
       "      <th>CWDistance</th>\n",
       "      <th>Complete</th>\n",
       "      <th>CompleteGroup</th>\n",
       "      <th>Score</th>\n",
       "    </tr>\n",
       "  </thead>\n",
       "  <tbody>\n",
       "    <tr>\n",
       "      <th>0</th>\n",
       "      <td>1</td>\n",
       "      <td>56</td>\n",
       "      <td>F</td>\n",
       "      <td>1</td>\n",
       "      <td>Y</td>\n",
       "      <td>1</td>\n",
       "      <td>62.0</td>\n",
       "      <td>61.0</td>\n",
       "      <td>79</td>\n",
       "      <td>Y</td>\n",
       "      <td>1</td>\n",
       "      <td>7</td>\n",
       "    </tr>\n",
       "    <tr>\n",
       "      <th>1</th>\n",
       "      <td>2</td>\n",
       "      <td>26</td>\n",
       "      <td>F</td>\n",
       "      <td>1</td>\n",
       "      <td>Y</td>\n",
       "      <td>1</td>\n",
       "      <td>62.0</td>\n",
       "      <td>60.0</td>\n",
       "      <td>70</td>\n",
       "      <td>Y</td>\n",
       "      <td>1</td>\n",
       "      <td>8</td>\n",
       "    </tr>\n",
       "    <tr>\n",
       "      <th>2</th>\n",
       "      <td>3</td>\n",
       "      <td>33</td>\n",
       "      <td>F</td>\n",
       "      <td>1</td>\n",
       "      <td>Y</td>\n",
       "      <td>1</td>\n",
       "      <td>66.0</td>\n",
       "      <td>64.0</td>\n",
       "      <td>85</td>\n",
       "      <td>Y</td>\n",
       "      <td>1</td>\n",
       "      <td>7</td>\n",
       "    </tr>\n",
       "    <tr>\n",
       "      <th>3</th>\n",
       "      <td>4</td>\n",
       "      <td>39</td>\n",
       "      <td>F</td>\n",
       "      <td>1</td>\n",
       "      <td>N</td>\n",
       "      <td>0</td>\n",
       "      <td>64.0</td>\n",
       "      <td>63.0</td>\n",
       "      <td>87</td>\n",
       "      <td>Y</td>\n",
       "      <td>1</td>\n",
       "      <td>10</td>\n",
       "    </tr>\n",
       "    <tr>\n",
       "      <th>4</th>\n",
       "      <td>5</td>\n",
       "      <td>27</td>\n",
       "      <td>M</td>\n",
       "      <td>2</td>\n",
       "      <td>N</td>\n",
       "      <td>0</td>\n",
       "      <td>73.0</td>\n",
       "      <td>75.0</td>\n",
       "      <td>72</td>\n",
       "      <td>N</td>\n",
       "      <td>0</td>\n",
       "      <td>4</td>\n",
       "    </tr>\n",
       "  </tbody>\n",
       "</table>\n",
       "</div>"
      ],
      "text/plain": [
       "   ID  Age Gender  GenderGroup Glasses  GlassesGroup  Height  Wingspan  \\\n",
       "0   1   56      F            1       Y             1    62.0      61.0   \n",
       "1   2   26      F            1       Y             1    62.0      60.0   \n",
       "2   3   33      F            1       Y             1    66.0      64.0   \n",
       "3   4   39      F            1       N             0    64.0      63.0   \n",
       "4   5   27      M            2       N             0    73.0      75.0   \n",
       "\n",
       "   CWDistance Complete  CompleteGroup  Score  \n",
       "0          79        Y              1      7  \n",
       "1          70        Y              1      8  \n",
       "2          85        Y              1      7  \n",
       "3          87        Y              1     10  \n",
       "4          72        N              0      4  "
      ]
     },
     "execution_count": 46,
     "metadata": {},
     "output_type": "execute_result"
    }
   ],
   "source": [
    "df = pd.read_csv(\"data/Cartwheeldata.csv\")\n",
    "df.head()"
   ]
  },
  {
   "cell_type": "code",
   "execution_count": 48,
   "id": "28f90489-a0fb-463f-a053-a6c4fb214fcf",
   "metadata": {},
   "outputs": [
    {
     "data": {
      "text/plain": [
       "25"
      ]
     },
     "execution_count": 48,
     "metadata": {},
     "output_type": "execute_result"
    }
   ],
   "source": [
    "n = len(df)\n",
    "n"
   ]
  },
  {
   "cell_type": "code",
   "execution_count": 49,
   "id": "bb9c3577",
   "metadata": {},
   "outputs": [
    {
     "data": {
      "text/plain": [
       "82.48"
      ]
     },
     "execution_count": 49,
     "metadata": {},
     "output_type": "execute_result"
    }
   ],
   "source": [
    "media = df['CWDistance'].mean()\n",
    "media"
   ]
  },
  {
   "cell_type": "code",
   "execution_count": 50,
   "id": "8aa1a504",
   "metadata": {},
   "outputs": [
    {
     "data": {
      "text/plain": [
       "15.058552387264852"
      ]
     },
     "execution_count": 50,
     "metadata": {},
     "output_type": "execute_result"
    }
   ],
   "source": [
    "sd = df['CWDistance'].std()\n",
    "sd"
   ]
  },
  {
   "cell_type": "code",
   "execution_count": 65,
   "id": "72ed08b6",
   "metadata": {},
   "outputs": [
    {
     "data": {
      "text/plain": [
       "3.0117104774529704"
      ]
     },
     "execution_count": 65,
     "metadata": {},
     "output_type": "execute_result"
    }
   ],
   "source": [
    "se = sd/np.sqrt(n)\n",
    "se"
   ]
  },
  {
   "cell_type": "code",
   "execution_count": 66,
   "id": "7b41a64c",
   "metadata": {},
   "outputs": [
    {
     "data": {
      "text/plain": [
       "0.8234523266982029"
      ]
     },
     "execution_count": 66,
     "metadata": {},
     "output_type": "execute_result"
    }
   ],
   "source": [
    "eixo_x = (media - 80) / se\n",
    "eixo_x"
   ]
  },
  {
   "cell_type": "code",
   "execution_count": 73,
   "id": "f81eb228",
   "metadata": {},
   "outputs": [
    {
     "data": {
      "text/plain": [
       "0.20512540845395266"
      ]
     },
     "execution_count": 73,
     "metadata": {},
     "output_type": "execute_result"
    }
   ],
   "source": [
    "area_abaixo = 1-dist.norm.cdf(eixo_x)\n",
    "area_abaixo"
   ]
  },
  {
   "cell_type": "code",
   "execution_count": 57,
   "id": "59ba10f4",
   "metadata": {},
   "outputs": [
    {
     "data": {
      "text/plain": [
       "(0.8234523266982029, 0.20512540845395266)"
      ]
     },
     "execution_count": 57,
     "metadata": {},
     "output_type": "execute_result"
    }
   ],
   "source": [
    "# usando a biblioteca stats\n",
    "sm.stats.ztest(df[\"CWDistance\"], value = 80, alternative = \"larger\")"
   ]
  },
  {
   "cell_type": "markdown",
   "id": "49cc4ed9",
   "metadata": {},
   "source": [
    "Não temos evidências para rejeitar a hipótese nula de que a distância da cambalhora é igual 80"
   ]
  },
  {
   "cell_type": "markdown",
   "id": "7174f30c",
   "metadata": {},
   "source": [
    "## Caso 4 - Comparação da média de duas populações INDEPENDENTES\n",
    "\n",
    "Homens tem maior indice de massa coporal que as mulheres?\n",
    "\n",
    "- **População**: todos adultos\n",
    "- **Parâmetro de interesse**: $\\mu_1 - \\mu_2$\n",
    "- **Hipótese Nula:** $\\mu_1 = \\mu_2$  \n",
    "- **Hipótese Alternativa:** $\\mu_1 \\neq \\mu_2$"
   ]
  },
  {
   "cell_type": "code",
   "execution_count": 111,
   "id": "f123fcf6",
   "metadata": {},
   "outputs": [],
   "source": [
    "df = pd.read_csv(\"data/nhanes_2015_2016.csv\")"
   ]
  },
  {
   "cell_type": "code",
   "execution_count": 112,
   "id": "0d142eb4",
   "metadata": {},
   "outputs": [
    {
     "data": {
      "text/html": [
       "<div>\n",
       "<style scoped>\n",
       "    .dataframe tbody tr th:only-of-type {\n",
       "        vertical-align: middle;\n",
       "    }\n",
       "\n",
       "    .dataframe tbody tr th {\n",
       "        vertical-align: top;\n",
       "    }\n",
       "\n",
       "    .dataframe thead th {\n",
       "        text-align: right;\n",
       "    }\n",
       "</style>\n",
       "<table border=\"1\" class=\"dataframe\">\n",
       "  <thead>\n",
       "    <tr style=\"text-align: right;\">\n",
       "      <th></th>\n",
       "      <th>SEQN</th>\n",
       "      <th>ALQ101</th>\n",
       "      <th>ALQ110</th>\n",
       "      <th>ALQ130</th>\n",
       "      <th>SMQ020</th>\n",
       "      <th>RIAGENDR</th>\n",
       "      <th>RIDAGEYR</th>\n",
       "      <th>RIDRETH1</th>\n",
       "      <th>DMDCITZN</th>\n",
       "      <th>DMDEDUC2</th>\n",
       "      <th>...</th>\n",
       "      <th>BPXSY2</th>\n",
       "      <th>BPXDI2</th>\n",
       "      <th>BMXWT</th>\n",
       "      <th>BMXHT</th>\n",
       "      <th>BMXBMI</th>\n",
       "      <th>BMXLEG</th>\n",
       "      <th>BMXARML</th>\n",
       "      <th>BMXARMC</th>\n",
       "      <th>BMXWAIST</th>\n",
       "      <th>HIQ210</th>\n",
       "    </tr>\n",
       "  </thead>\n",
       "  <tbody>\n",
       "    <tr>\n",
       "      <th>3</th>\n",
       "      <td>83735</td>\n",
       "      <td>2.0</td>\n",
       "      <td>1.0</td>\n",
       "      <td>1.0</td>\n",
       "      <td>2</td>\n",
       "      <td>2</td>\n",
       "      <td>56</td>\n",
       "      <td>3</td>\n",
       "      <td>1.0</td>\n",
       "      <td>5.0</td>\n",
       "      <td>...</td>\n",
       "      <td>134.0</td>\n",
       "      <td>68.0</td>\n",
       "      <td>109.8</td>\n",
       "      <td>160.9</td>\n",
       "      <td>42.4</td>\n",
       "      <td>38.5</td>\n",
       "      <td>37.7</td>\n",
       "      <td>38.3</td>\n",
       "      <td>110.1</td>\n",
       "      <td>2.0</td>\n",
       "    </tr>\n",
       "    <tr>\n",
       "      <th>4</th>\n",
       "      <td>83736</td>\n",
       "      <td>2.0</td>\n",
       "      <td>1.0</td>\n",
       "      <td>1.0</td>\n",
       "      <td>2</td>\n",
       "      <td>2</td>\n",
       "      <td>42</td>\n",
       "      <td>4</td>\n",
       "      <td>1.0</td>\n",
       "      <td>4.0</td>\n",
       "      <td>...</td>\n",
       "      <td>114.0</td>\n",
       "      <td>54.0</td>\n",
       "      <td>55.2</td>\n",
       "      <td>164.9</td>\n",
       "      <td>20.3</td>\n",
       "      <td>37.4</td>\n",
       "      <td>36.0</td>\n",
       "      <td>27.2</td>\n",
       "      <td>80.4</td>\n",
       "      <td>2.0</td>\n",
       "    </tr>\n",
       "    <tr>\n",
       "      <th>5</th>\n",
       "      <td>83737</td>\n",
       "      <td>2.0</td>\n",
       "      <td>2.0</td>\n",
       "      <td>NaN</td>\n",
       "      <td>2</td>\n",
       "      <td>2</td>\n",
       "      <td>72</td>\n",
       "      <td>1</td>\n",
       "      <td>2.0</td>\n",
       "      <td>2.0</td>\n",
       "      <td>...</td>\n",
       "      <td>122.0</td>\n",
       "      <td>58.0</td>\n",
       "      <td>64.4</td>\n",
       "      <td>150.0</td>\n",
       "      <td>28.6</td>\n",
       "      <td>34.4</td>\n",
       "      <td>33.5</td>\n",
       "      <td>31.4</td>\n",
       "      <td>92.9</td>\n",
       "      <td>NaN</td>\n",
       "    </tr>\n",
       "    <tr>\n",
       "      <th>7</th>\n",
       "      <td>83742</td>\n",
       "      <td>1.0</td>\n",
       "      <td>NaN</td>\n",
       "      <td>1.0</td>\n",
       "      <td>2</td>\n",
       "      <td>2</td>\n",
       "      <td>32</td>\n",
       "      <td>1</td>\n",
       "      <td>2.0</td>\n",
       "      <td>4.0</td>\n",
       "      <td>...</td>\n",
       "      <td>114.0</td>\n",
       "      <td>70.0</td>\n",
       "      <td>64.5</td>\n",
       "      <td>151.3</td>\n",
       "      <td>28.2</td>\n",
       "      <td>34.1</td>\n",
       "      <td>33.1</td>\n",
       "      <td>31.5</td>\n",
       "      <td>93.3</td>\n",
       "      <td>2.0</td>\n",
       "    </tr>\n",
       "    <tr>\n",
       "      <th>12</th>\n",
       "      <td>83752</td>\n",
       "      <td>1.0</td>\n",
       "      <td>NaN</td>\n",
       "      <td>2.0</td>\n",
       "      <td>1</td>\n",
       "      <td>2</td>\n",
       "      <td>30</td>\n",
       "      <td>2</td>\n",
       "      <td>1.0</td>\n",
       "      <td>4.0</td>\n",
       "      <td>...</td>\n",
       "      <td>104.0</td>\n",
       "      <td>50.0</td>\n",
       "      <td>71.2</td>\n",
       "      <td>163.6</td>\n",
       "      <td>26.6</td>\n",
       "      <td>37.3</td>\n",
       "      <td>35.7</td>\n",
       "      <td>31.0</td>\n",
       "      <td>90.7</td>\n",
       "      <td>2.0</td>\n",
       "    </tr>\n",
       "  </tbody>\n",
       "</table>\n",
       "<p>5 rows × 28 columns</p>\n",
       "</div>"
      ],
      "text/plain": [
       "     SEQN  ALQ101  ALQ110  ALQ130  SMQ020  RIAGENDR  RIDAGEYR  RIDRETH1  \\\n",
       "3   83735     2.0     1.0     1.0       2         2        56         3   \n",
       "4   83736     2.0     1.0     1.0       2         2        42         4   \n",
       "5   83737     2.0     2.0     NaN       2         2        72         1   \n",
       "7   83742     1.0     NaN     1.0       2         2        32         1   \n",
       "12  83752     1.0     NaN     2.0       1         2        30         2   \n",
       "\n",
       "    DMDCITZN  DMDEDUC2  ...  BPXSY2  BPXDI2  BMXWT  BMXHT  BMXBMI  BMXLEG  \\\n",
       "3        1.0       5.0  ...   134.0    68.0  109.8  160.9    42.4    38.5   \n",
       "4        1.0       4.0  ...   114.0    54.0   55.2  164.9    20.3    37.4   \n",
       "5        2.0       2.0  ...   122.0    58.0   64.4  150.0    28.6    34.4   \n",
       "7        2.0       4.0  ...   114.0    70.0   64.5  151.3    28.2    34.1   \n",
       "12       1.0       4.0  ...   104.0    50.0   71.2  163.6    26.6    37.3   \n",
       "\n",
       "    BMXARML  BMXARMC  BMXWAIST  HIQ210  \n",
       "3      37.7     38.3     110.1     2.0  \n",
       "4      36.0     27.2      80.4     2.0  \n",
       "5      33.5     31.4      92.9     NaN  \n",
       "7      33.1     31.5      93.3     2.0  \n",
       "12     35.7     31.0      90.7     2.0  \n",
       "\n",
       "[5 rows x 28 columns]"
      ]
     },
     "execution_count": 112,
     "metadata": {},
     "output_type": "execute_result"
    }
   ],
   "source": [
    "mulheres = df[df['RIAGENDR']==2]\n",
    "mulheres.head()"
   ]
  },
  {
   "cell_type": "code",
   "execution_count": 113,
   "id": "2b02b872-1516-4f69-981c-1935b7671148",
   "metadata": {},
   "outputs": [
    {
     "data": {
      "text/html": [
       "<div>\n",
       "<style scoped>\n",
       "    .dataframe tbody tr th:only-of-type {\n",
       "        vertical-align: middle;\n",
       "    }\n",
       "\n",
       "    .dataframe tbody tr th {\n",
       "        vertical-align: top;\n",
       "    }\n",
       "\n",
       "    .dataframe thead th {\n",
       "        text-align: right;\n",
       "    }\n",
       "</style>\n",
       "<table border=\"1\" class=\"dataframe\">\n",
       "  <thead>\n",
       "    <tr style=\"text-align: right;\">\n",
       "      <th></th>\n",
       "      <th>SEQN</th>\n",
       "      <th>ALQ101</th>\n",
       "      <th>ALQ110</th>\n",
       "      <th>ALQ130</th>\n",
       "      <th>SMQ020</th>\n",
       "      <th>RIAGENDR</th>\n",
       "      <th>RIDAGEYR</th>\n",
       "      <th>RIDRETH1</th>\n",
       "      <th>DMDCITZN</th>\n",
       "      <th>DMDEDUC2</th>\n",
       "      <th>...</th>\n",
       "      <th>BPXSY2</th>\n",
       "      <th>BPXDI2</th>\n",
       "      <th>BMXWT</th>\n",
       "      <th>BMXHT</th>\n",
       "      <th>BMXBMI</th>\n",
       "      <th>BMXLEG</th>\n",
       "      <th>BMXARML</th>\n",
       "      <th>BMXARMC</th>\n",
       "      <th>BMXWAIST</th>\n",
       "      <th>HIQ210</th>\n",
       "    </tr>\n",
       "  </thead>\n",
       "  <tbody>\n",
       "    <tr>\n",
       "      <th>0</th>\n",
       "      <td>83732</td>\n",
       "      <td>1.0</td>\n",
       "      <td>NaN</td>\n",
       "      <td>1.0</td>\n",
       "      <td>1</td>\n",
       "      <td>1</td>\n",
       "      <td>62</td>\n",
       "      <td>3</td>\n",
       "      <td>1.0</td>\n",
       "      <td>5.0</td>\n",
       "      <td>...</td>\n",
       "      <td>124.0</td>\n",
       "      <td>64.0</td>\n",
       "      <td>94.8</td>\n",
       "      <td>184.5</td>\n",
       "      <td>27.8</td>\n",
       "      <td>43.3</td>\n",
       "      <td>43.6</td>\n",
       "      <td>35.9</td>\n",
       "      <td>101.1</td>\n",
       "      <td>2.0</td>\n",
       "    </tr>\n",
       "    <tr>\n",
       "      <th>1</th>\n",
       "      <td>83733</td>\n",
       "      <td>1.0</td>\n",
       "      <td>NaN</td>\n",
       "      <td>6.0</td>\n",
       "      <td>1</td>\n",
       "      <td>1</td>\n",
       "      <td>53</td>\n",
       "      <td>3</td>\n",
       "      <td>2.0</td>\n",
       "      <td>3.0</td>\n",
       "      <td>...</td>\n",
       "      <td>140.0</td>\n",
       "      <td>88.0</td>\n",
       "      <td>90.4</td>\n",
       "      <td>171.4</td>\n",
       "      <td>30.8</td>\n",
       "      <td>38.0</td>\n",
       "      <td>40.0</td>\n",
       "      <td>33.2</td>\n",
       "      <td>107.9</td>\n",
       "      <td>NaN</td>\n",
       "    </tr>\n",
       "    <tr>\n",
       "      <th>2</th>\n",
       "      <td>83734</td>\n",
       "      <td>1.0</td>\n",
       "      <td>NaN</td>\n",
       "      <td>NaN</td>\n",
       "      <td>1</td>\n",
       "      <td>1</td>\n",
       "      <td>78</td>\n",
       "      <td>3</td>\n",
       "      <td>1.0</td>\n",
       "      <td>3.0</td>\n",
       "      <td>...</td>\n",
       "      <td>132.0</td>\n",
       "      <td>44.0</td>\n",
       "      <td>83.4</td>\n",
       "      <td>170.1</td>\n",
       "      <td>28.8</td>\n",
       "      <td>35.6</td>\n",
       "      <td>37.0</td>\n",
       "      <td>31.0</td>\n",
       "      <td>116.5</td>\n",
       "      <td>2.0</td>\n",
       "    </tr>\n",
       "    <tr>\n",
       "      <th>6</th>\n",
       "      <td>83741</td>\n",
       "      <td>1.0</td>\n",
       "      <td>NaN</td>\n",
       "      <td>8.0</td>\n",
       "      <td>1</td>\n",
       "      <td>1</td>\n",
       "      <td>22</td>\n",
       "      <td>4</td>\n",
       "      <td>1.0</td>\n",
       "      <td>4.0</td>\n",
       "      <td>...</td>\n",
       "      <td>112.0</td>\n",
       "      <td>74.0</td>\n",
       "      <td>76.6</td>\n",
       "      <td>165.4</td>\n",
       "      <td>28.0</td>\n",
       "      <td>38.8</td>\n",
       "      <td>38.0</td>\n",
       "      <td>34.0</td>\n",
       "      <td>86.6</td>\n",
       "      <td>NaN</td>\n",
       "    </tr>\n",
       "    <tr>\n",
       "      <th>8</th>\n",
       "      <td>83743</td>\n",
       "      <td>NaN</td>\n",
       "      <td>NaN</td>\n",
       "      <td>NaN</td>\n",
       "      <td>2</td>\n",
       "      <td>1</td>\n",
       "      <td>18</td>\n",
       "      <td>5</td>\n",
       "      <td>1.0</td>\n",
       "      <td>NaN</td>\n",
       "      <td>...</td>\n",
       "      <td>NaN</td>\n",
       "      <td>NaN</td>\n",
       "      <td>72.4</td>\n",
       "      <td>166.1</td>\n",
       "      <td>26.2</td>\n",
       "      <td>NaN</td>\n",
       "      <td>NaN</td>\n",
       "      <td>NaN</td>\n",
       "      <td>NaN</td>\n",
       "      <td>2.0</td>\n",
       "    </tr>\n",
       "  </tbody>\n",
       "</table>\n",
       "<p>5 rows × 28 columns</p>\n",
       "</div>"
      ],
      "text/plain": [
       "    SEQN  ALQ101  ALQ110  ALQ130  SMQ020  RIAGENDR  RIDAGEYR  RIDRETH1  \\\n",
       "0  83732     1.0     NaN     1.0       1         1        62         3   \n",
       "1  83733     1.0     NaN     6.0       1         1        53         3   \n",
       "2  83734     1.0     NaN     NaN       1         1        78         3   \n",
       "6  83741     1.0     NaN     8.0       1         1        22         4   \n",
       "8  83743     NaN     NaN     NaN       2         1        18         5   \n",
       "\n",
       "   DMDCITZN  DMDEDUC2  ...  BPXSY2  BPXDI2  BMXWT  BMXHT  BMXBMI  BMXLEG  \\\n",
       "0       1.0       5.0  ...   124.0    64.0   94.8  184.5    27.8    43.3   \n",
       "1       2.0       3.0  ...   140.0    88.0   90.4  171.4    30.8    38.0   \n",
       "2       1.0       3.0  ...   132.0    44.0   83.4  170.1    28.8    35.6   \n",
       "6       1.0       4.0  ...   112.0    74.0   76.6  165.4    28.0    38.8   \n",
       "8       1.0       NaN  ...     NaN     NaN   72.4  166.1    26.2     NaN   \n",
       "\n",
       "   BMXARML  BMXARMC  BMXWAIST  HIQ210  \n",
       "0     43.6     35.9     101.1     2.0  \n",
       "1     40.0     33.2     107.9     NaN  \n",
       "2     37.0     31.0     116.5     2.0  \n",
       "6     38.0     34.0      86.6     NaN  \n",
       "8      NaN      NaN       NaN     2.0  \n",
       "\n",
       "[5 rows x 28 columns]"
      ]
     },
     "execution_count": 113,
     "metadata": {},
     "output_type": "execute_result"
    }
   ],
   "source": [
    "homens = df[df['RIAGENDR']==1]\n",
    "homens.head()"
   ]
  },
  {
   "cell_type": "code",
   "execution_count": 114,
   "id": "959e9269",
   "metadata": {},
   "outputs": [
    {
     "data": {
      "text/plain": [
       "(29.93994565217392, 7.753318809545674, 2976)"
      ]
     },
     "execution_count": 114,
     "metadata": {},
     "output_type": "execute_result"
    }
   ],
   "source": [
    "media_mulheres = mulheres['BMXBMI'].mean()\n",
    "sd_mulheres = mulheres['BMXBMI'].std()\n",
    "n_mulheres = len(mulheres)\n",
    "(media_mulheres,sd_mulheres,n_mulheres)"
   ]
  },
  {
   "cell_type": "code",
   "execution_count": 115,
   "id": "37fd02d8",
   "metadata": {},
   "outputs": [
    {
     "data": {
      "text/plain": [
       "(28.778072111846942, 6.2525676168014614, 2759)"
      ]
     },
     "execution_count": 115,
     "metadata": {},
     "output_type": "execute_result"
    }
   ],
   "source": [
    "media_homens = homens['BMXBMI'].mean()\n",
    "sd_homens  = homens['BMXBMI'].std()\n",
    "n_homens = len(homens)\n",
    "(media_homens,sd_homens,n_homens)"
   ]
  },
  {
   "cell_type": "code",
   "execution_count": 116,
   "id": "7f7155d1",
   "metadata": {},
   "outputs": [
    {
     "data": {
      "text/plain": [
       "0.18538992862064446"
      ]
     },
     "execution_count": 116,
     "metadata": {},
     "output_type": "execute_result"
    }
   ],
   "source": [
    "se_homens = sd_homens/np.sqrt(n_homens)\n",
    "se_mulheres = sd_mulheres/np.sqrt(n_mulheres)\n",
    "se = np.sqrt( se_homens**2+ se_mulheres**2 )\n",
    "se"
   ]
  },
  {
   "cell_type": "code",
   "execution_count": 117,
   "id": "4cd53c5c",
   "metadata": {},
   "outputs": [
    {
     "data": {
      "text/plain": [
       "1.161873540326976"
      ]
     },
     "execution_count": 117,
     "metadata": {},
     "output_type": "execute_result"
    }
   ],
   "source": [
    "diff = media_mulheres - media_homens\n",
    "diff"
   ]
  },
  {
   "cell_type": "code",
   "execution_count": 118,
   "id": "642ccee6",
   "metadata": {},
   "outputs": [
    {
     "data": {
      "text/plain": [
       "6.267188023490038"
      ]
     },
     "execution_count": 118,
     "metadata": {},
     "output_type": "execute_result"
    }
   ],
   "source": [
    "eixo_x = diff/se\n",
    "eixo_x"
   ]
  },
  {
   "cell_type": "code",
   "execution_count": 119,
   "id": "49d5520b",
   "metadata": {},
   "outputs": [
    {
     "data": {
      "text/plain": [
       "3.6762616158578853e-10"
      ]
     },
     "execution_count": 119,
     "metadata": {},
     "output_type": "execute_result"
    }
   ],
   "source": [
    "# area acima do ponto -np.abs(eixo_x) e depois de np.abs(eixo_x)\n",
    "area = 2*dist.norm.cdf(-np.abs(eixo_x))\n",
    "area"
   ]
  },
  {
   "cell_type": "markdown",
   "id": "8a434d24-b822-4801-bd71-7ef5bc7d446c",
   "metadata": {},
   "source": [
    "There are a number of different variants on the two-sample t-test. \n",
    "two often-encountered variants are the t-test carried out using the t-distribution, and the t-test carried out using the normal approximation to the reference distribution of the test statistic, often called a z-test."
   ]
  },
  {
   "cell_type": "code",
   "execution_count": 120,
   "id": "70868c94",
   "metadata": {},
   "outputs": [
    {
     "data": {
      "text/plain": [
       "(6.1755933531383205, 6.591544431126401e-10)"
      ]
     },
     "execution_count": 120,
     "metadata": {},
     "output_type": "execute_result"
    }
   ],
   "source": [
    "# Usando a biblioteca - levemente diferente, arredondamento?\n",
    "sm.stats.ztest(mulheres[\"BMXBMI\"].dropna(), homens[\"BMXBMI\"].dropna())"
   ]
  },
  {
   "cell_type": "code",
   "execution_count": 123,
   "id": "9d38ad9a-f9a2-49b9-b8d2-7a7e749c4e1a",
   "metadata": {},
   "outputs": [
    {
     "data": {
      "text/plain": [
       "(6.175593353138302, 7.050275578095374e-10, 5660.0)"
      ]
     },
     "execution_count": 123,
     "metadata": {},
     "output_type": "execute_result"
    }
   ],
   "source": [
    "# Usando a biblioteca - abordagem pooled (variância entre os grupos são parecidas)\n",
    "sm.stats.ttest_ind(mulheres[\"BMXBMI\"].dropna(), homens[\"BMXBMI\"].dropna(), usevar='pooled')"
   ]
  },
  {
   "cell_type": "code",
   "execution_count": 124,
   "id": "0c7176ee-2876-40d6-9495-0ef39ddb2726",
   "metadata": {},
   "outputs": [
    {
     "data": {
      "text/plain": [
       "(6.228051375741975, 5.069046249150156e-10, 5560.748006965167)"
      ]
     },
     "execution_count": 124,
     "metadata": {},
     "output_type": "execute_result"
    }
   ],
   "source": [
    "# Usando a biblioteca  - abordagem unpooled (variância entre os grupos são diferente)\n",
    "sm.stats.ttest_ind(mulheres[\"BMXBMI\"].dropna(), homens[\"BMXBMI\"].dropna(), usevar='unequal')\n",
    "\n",
    "# com a abordagem unpooled a p-value é bem menor"
   ]
  },
  {
   "cell_type": "markdown",
   "id": "3052e706-1d55-44ee-92d5-2aea127c2033",
   "metadata": {},
   "source": [
    "heterocedasticidade: há heterocedasticidade quando há diferença nas variâncias dos dois grupos (homens e mulheres)\n",
    "\n",
    "If the variances are equal (i.e. there is no heteroscedasticity)"
   ]
  },
  {
   "cell_type": "markdown",
   "id": "fc58f499",
   "metadata": {},
   "source": [
    "Rejeitamos a hipótese nula, isto é, as médias são diferentes"
   ]
  },
  {
   "cell_type": "markdown",
   "id": "ff66a17d",
   "metadata": {},
   "source": [
    "## Exemplo da distância da cambalhota (one sample test)\n",
    "\n",
    "- população: todos adultos\n",
    "- parâmetro de interesse da população: distância média ($\\mu$) na cambalhota\n",
    "- amostra: 25 adultos\n",
    "\n",
    "Teste: a distância da cambalhota é maior que 80 inches a um nível de significância de 5%?\n",
    "\n",
    "- Hipótese Nula: distância média $\\mu$ na população é 80 ($ H_0: \\mu = 80$)\n",
    "- Hipótese Alternativa: distância média $\\mu$ na população é maior que 80 ($ H_a: \\mu >80$)\n",
    "\n",
    "Condições:\n",
    "\n",
    "1. A amostra em questão é SRS (simple Random Sample)\n",
    "2. A distribuição das distância é normal na população\n",
    "\n",
    "Se as distâncias não seguirem uma distribuição normal, podemos usar a mediana e usar o teste de Wilcoxon Signed Rank Test\n",
    "\n",
    "A média da amostra coletada é 82.48. Se repetirmos esse processo com outra amostra obteremos outra média.\n",
    "\n",
    "Pergunta: a média da amostra de 82.48 é significativamente maior que a média hipotética de 80?\n",
    "\n",
    "2.48 é uma diferença signifcante ou é reflete uma variabilidade natural na média das amostras?"
   ]
  },
  {
   "cell_type": "code",
   "execution_count": 4,
   "id": "1100e2fd",
   "metadata": {},
   "outputs": [
    {
     "data": {
      "text/plain": [
       "count     25.000000\n",
       "mean      82.480000\n",
       "std       15.058552\n",
       "min       63.000000\n",
       "25%       70.000000\n",
       "50%       81.000000\n",
       "75%       92.000000\n",
       "max      115.000000\n",
       "Name: CWDistance, dtype: float64"
      ]
     },
     "execution_count": 4,
     "metadata": {},
     "output_type": "execute_result"
    }
   ],
   "source": [
    "import pandas as pd\n",
    "data = pd.read_csv(\"data/Cartwheeldata.csv\")\n",
    "data.describe()[\"CWDistance\"]"
   ]
  },
  {
   "cell_type": "markdown",
   "id": "d3cec8e0",
   "metadata": {},
   "source": [
    "erro padrão estimado = quão longe a média da amostra tende estar longe da média verdadeira?\n",
    "\n",
    "t = (melhor estimativa - valor nulo)/erro padrão estimado\n",
    "\n",
    "Nossa média amostral (82.48) é apenas 0.82 erros padrões acima do valor null de 80\n",
    "\n",
    "Se a hipótese nula for verdadeira, um teste estatístico de t = 0.82 serua suficiente para rejeitar a hipótese nula?\n",
    "\n",
    "pvalue = probabilidade de ver um teste estatístico de 0,82 (ou maior) assumir que a hipótese nula é verdadeira\n",
    "\n",
    "Se a média da população fosse 80, então observar uma média da amostra de 82.48 ou maior é **bastante provável**, pois em 20% do tempo veremos valores maiores que 80\n",
    "\n",
    "Se o valor do pvalue for maior que o nível de significância, não temos evidência suficiente para rejeitar a hipótese nula"
   ]
  },
  {
   "cell_type": "code",
   "execution_count": 10,
   "id": "74af53b2",
   "metadata": {},
   "outputs": [
    {
     "data": {
      "text/plain": [
       "0.8234523478751489"
      ]
     },
     "execution_count": 10,
     "metadata": {},
     "output_type": "execute_result"
    }
   ],
   "source": [
    "tvalue = (82.48 - 80)/(15.058552/5)\n",
    "tvalue"
   ]
  },
  {
   "cell_type": "code",
   "execution_count": 16,
   "id": "d4565aa2",
   "metadata": {},
   "outputs": [
    {
     "data": {
      "text/plain": [
       "0.20917932695136643"
      ]
     },
     "execution_count": 16,
     "metadata": {},
     "output_type": "execute_result"
    }
   ],
   "source": [
    "from scipy.stats import t\n",
    "grau = 25-1\n",
    "\n",
    "pvalue = 1 - t.cdf(tvalue,grau)\n",
    "pvalue"
   ]
  },
  {
   "cell_type": "markdown",
   "id": "ff68d1cf",
   "metadata": {},
   "source": [
    "## Comparação da diferença da média entre duas populações paired (mesmo individuos medidos duas vezes)\n",
    "\n",
    "Há diferenças nas medidas?\n",
    "\n",
    "Parametro de interesse: diferença média $\\mu_d$\n",
    "\n",
    "diff = medida1-medida2\n",
    "\n",
    "Teste: a distância da cambalhota é maior que 80 inches a um nível de significância de 5%?\n",
    "\n",
    "- Hipótese Nula: diferença média $\\mu_d$ é zero ($ H_0: \\mu_d = 0$)\n",
    "- Hipótese Alternativa: diferença média $\\mu_d$ não é zero ($ H_a: \\mu_d \\neq 0$)\n",
    "\n",
    "Condições:\n",
    "\n",
    " - amostras aleatórias \n",
    " - a diferença (medidas1-medidas2) devem ser normamente distríbuidas (podemos olhar o gráfico QQ)\n"
   ]
  },
  {
   "cell_type": "code",
   "execution_count": 25,
   "id": "6ff6cd5e",
   "metadata": {},
   "outputs": [
    {
     "data": {
      "text/plain": [
       "0    55\n",
       "1    90\n",
       "2     5\n",
       "3    14\n",
       "4    -6\n",
       "5    56\n",
       "dtype: int64"
      ]
     },
     "execution_count": 25,
     "metadata": {},
     "output_type": "execute_result"
    }
   ],
   "source": [
    "medidas1=pd.Series([380,560,425,389,568,651])\n",
    "medidas2=pd.Series([325,470,420,375,574,595])\n",
    "diff=medidas1-medidas2\n",
    "diff"
   ]
  },
  {
   "cell_type": "code",
   "execution_count": 22,
   "id": "fb219792",
   "metadata": {},
   "outputs": [
    {
     "data": {
      "text/plain": [
       "0    380\n",
       "1    560\n",
       "2    425\n",
       "3    389\n",
       "4    568\n",
       "5    651\n",
       "dtype: int64"
      ]
     },
     "execution_count": 22,
     "metadata": {},
     "output_type": "execute_result"
    }
   ],
   "source": [
    "medidas1"
   ]
  },
  {
   "cell_type": "code",
   "execution_count": 28,
   "id": "43808eb6",
   "metadata": {},
   "outputs": [
    {
     "data": {
      "text/plain": [
       "((array([-1.23132171, -0.63003387, -0.19819716,  0.19819716,  0.63003387,\n",
       "          1.23132171]), array([-6,  5, 14, 55, 56, 90])),\n",
       " (40.5824843729534, 35.666666666666664, 0.9664359792939513))"
      ]
     },
     "execution_count": 28,
     "metadata": {},
     "output_type": "execute_result"
    },
    {
     "data": {
      "image/png": "[encoded data removed]",
      "text/plain": [
       "<Figure size 432x288 with 1 Axes>"
      ]
     },
     "metadata": {
      "needs_background": "light"
     },
     "output_type": "display_data"
    }
   ],
   "source": [
    "# verificando se as diferenças são normamente distríbuidas\n",
    "import numpy as np \n",
    "import pylab \n",
    "import scipy.stats as stats\n",
    "\n",
    "stats.probplot(diff, dist=\"norm\", plot=pylab)"
   ]
  },
  {
   "cell_type": "code",
   "execution_count": 37,
   "id": "f94cc001",
   "metadata": {},
   "outputs": [
    {
     "data": {
      "text/plain": [
       "0.06521139673694831"
      ]
     },
     "execution_count": 37,
     "metadata": {},
     "output_type": "execute_result"
    }
   ],
   "source": [
    "import math\n",
    "tvalue = (diff.mean() - 0)/(diff.std() /math.sqrt(6))\n",
    "tvalue\n",
    "\n",
    "from scipy.stats import t\n",
    "grau = 6-1\n",
    "\n",
    "pvalue = 1 - t.cdf(tvalue,grau)\n",
    "2*pvalue # não rejeitamos hipótese nula"
   ]
  },
  {
   "cell_type": "markdown",
   "id": "c83842fa",
   "metadata": {},
   "source": [
    "## Comparação da diferença da média entre duas populações idependentes (não pareadas , ie, com individuos diferentes)\n",
    "\n",
    "Parametro de interesse: diferença média \n",
    "\n",
    "diff = medida1-medida2\n",
    "\n",
    "Teste: a distância da cambalhota é maior que 80 inches a um nível de significância de 5%?\n",
    "\n",
    "- Hipótese Nula: diferença média $\\mu_d$ é zero ($ H_0: \\mu_1 = \\mu_2$)\n",
    "- Hipótese Alternativa: diferença média $\\mu_d$ não é zero ($ H_a: \\mu_1 \\neq \\mu_2$)\n",
    "\n",
    "Condições:\n",
    "\n",
    "1. amostras aleatórias\n",
    "\n",
    "2. amostras independentes\n",
    "\n",
    "3. medidas do BMI normais em ambas pooulações"
   ]
  },
  {
   "cell_type": "code",
   "execution_count": 39,
   "id": "98714a3e",
   "metadata": {},
   "outputs": [],
   "source": [
    "df = pd.read_csv(\"data/nhanes_2015_2016.csv\")\n",
    "\n",
    "mulheres = df[df['RIAGENDR']==2]\n",
    "mulheres = mulheres['BMXBMI']\n",
    "\n",
    "homens = df[df['RIAGENDR']==1]\n",
    "homens = homens['BMXBMI']"
   ]
  },
  {
   "cell_type": "code",
   "execution_count": 50,
   "id": "0c67e54e",
   "metadata": {},
   "outputs": [
    {
     "data": {
      "text/plain": [
       "1.161873540326976"
      ]
     },
     "execution_count": 50,
     "metadata": {},
     "output_type": "execute_result"
    }
   ],
   "source": [
    "diff = mulheres.mean()-homens.mean()\n",
    "diff"
   ]
  },
  {
   "cell_type": "code",
   "execution_count": 47,
   "id": "91fb1ab0",
   "metadata": {},
   "outputs": [
    {
     "data": {
      "text/plain": [
       "((array([-3.49970662, -3.25584018, -3.12097485, ...,  3.12097485,\n",
       "          3.25584018,  3.49970662]),\n",
       "  array([14.5, 14.5, 15.5, ...,  nan,  nan,  nan])),\n",
       " (nan, nan, nan))"
      ]
     },
     "execution_count": 47,
     "metadata": {},
     "output_type": "execute_result"
    },
    {
     "data": {
      "image/png": "[encoded data removed]",
      "text/plain": [
       "<Figure size 432x288 with 1 Axes>"
      ]
     },
     "metadata": {
      "needs_background": "light"
     },
     "output_type": "display_data"
    }
   ],
   "source": [
    "import numpy as np \n",
    "import pylab \n",
    "import scipy.stats as stats\n",
    "\n",
    "stats.probplot(mulheres, dist=\"norm\", plot=pylab)"
   ]
  },
  {
   "cell_type": "code",
   "execution_count": 49,
   "id": "b6851206",
   "metadata": {},
   "outputs": [
    {
     "data": {
      "text/plain": [
       "((array([-3.47947379, -3.23428348, -3.09861303, ...,  3.09861303,\n",
       "          3.23428348,  3.47947379]),\n",
       "  array([15.1, 16. , 16.2, ...,  nan,  nan,  nan])),\n",
       " (nan, nan, nan))"
      ]
     },
     "execution_count": 49,
     "metadata": {},
     "output_type": "execute_result"
    },
    {
     "data": {
      "image/png": "[encoded data removed]",
      "text/plain": [
       "<Figure size 432x288 with 1 Axes>"
      ]
     },
     "metadata": {
      "needs_background": "light"
     },
     "output_type": "display_data"
    }
   ],
   "source": [
    "import numpy as np \n",
    "import pylab \n",
    "import scipy.stats as stats\n",
    "\n",
    "# o QQ plot mostra que as medidas não são normais, porém temos uma amostra \n",
    "# grande e podemos usar o teorema do limite central\n",
    "\n",
    "stats.probplot(homens, dist=\"norm\", plot=pylab)"
   ]
  },
  {
   "cell_type": "code",
   "execution_count": null,
   "id": "c8a76acd",
   "metadata": {},
   "outputs": [],
   "source": []
  },
  {
   "cell_type": "code",
   "execution_count": null,
   "id": "7a3e9690-5379-4978-ba89-12c5f51461c8",
   "metadata": {},
   "outputs": [],
   "source": []
  }
 ],
 "metadata": {
  "kernelspec": {
   "display_name": "Python 3 (ipykernel)",
   "language": "python",
   "name": "python3"
  },
  "language_info": {
   "codemirror_mode": {
    "name": "ipython",
    "version": 3
   },
   "file_extension": ".py",
   "mimetype": "text/x-python",
   "name": "python",
   "nbconvert_exporter": "python",
   "pygments_lexer": "ipython3",
   "version": "3.10.9"
  }
 },
 "nbformat": 4,
 "nbformat_minor": 5
}
