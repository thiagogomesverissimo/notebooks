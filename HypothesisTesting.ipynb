{
 "cells": [
  {
   "cell_type": "markdown",
   "id": "45bcf835",
   "metadata": {},
   "source": [
    "## Caso 1: Proporção em uma população\n",
    "\n",
    "Usamos o teste de hipótese para estimar um parâmetro de uma população.\n",
    "Cenário: um estudo prévio mostrou que 52% das pessoas entre 18 e 25 anos de São Paulo votariam no candidato João. Um novo estudo com 1018 pessoas foi realizado e a nova porcentagem foi de 56%. A proporção de pessoas da população (que é o parâmetro) aumentou?\n",
    "\n",
    "- População: População com idade entre 18 e 25 anos de São Paulo\n",
    "- Paramêtro **p** de interesse: proporção de pessoas que votariam em João\n",
    "- Hipótese Nula: 52% votaria no candidato João\n",
    "- Hipótese Alternativa: A proporção é maior que 52%\n",
    "\n",
    "Erro padrão estimado para proporções:\n",
    "\n",
    "$$SE_{proporção} = \\sqrt{\\frac{p_{nulo}\\ (1 - p_{nulo})}{n}}$$\n",
    "\n",
    "\n",
    "$$\\frac{Medida - H_0}{SE_{proporção}}$$ "
   ]
  },
  {
   "cell_type": "code",
   "execution_count": 29,
   "id": "390a981f",
   "metadata": {},
   "outputs": [
    {
     "data": {
      "text/plain": [
       "0.015658436718635507"
      ]
     },
     "execution_count": 29,
     "metadata": {},
     "output_type": "execute_result"
    }
   ],
   "source": [
    "import statsmodels.api as sm\n",
    "import numpy as np\n",
    "import pandas as pd\n",
    "import scipy.stats.distributions as dist\n",
    "\n",
    "n = 1018\n",
    "p_nulo = .52\n",
    "p_alternativo = .56\n",
    "\n",
    "se = np.sqrt((p_nulo*(1-p_nulo))/n)\n",
    "se"
   ]
  },
  {
   "cell_type": "code",
   "execution_count": 13,
   "id": "749b2cff",
   "metadata": {},
   "outputs": [
    {
     "data": {
      "text/plain": [
       "2.5545334262132955"
      ]
     },
     "execution_count": 13,
     "metadata": {},
     "output_type": "execute_result"
    }
   ],
   "source": [
    "eixo_x = (p_alternativo-p_nulo)/se\n",
    "eixo_x"
   ]
  },
  {
   "cell_type": "code",
   "execution_count": 18,
   "id": "702cfccb",
   "metadata": {},
   "outputs": [
    {
     "data": {
      "text/plain": [
       "0.005388877461084185"
      ]
     },
     "execution_count": 18,
     "metadata": {},
     "output_type": "execute_result"
    }
   ],
   "source": [
    "from scipy.stats import t\n",
    "area_acima = 1-t.cdf(eixo_x,n-1)\n",
    "area_acima"
   ]
  },
  {
   "cell_type": "code",
   "execution_count": 19,
   "id": "c2867526",
   "metadata": {},
   "outputs": [
    {
     "data": {
      "text/plain": [
       "(2.5545334262132955, 0.005316510991822442)"
      ]
     },
     "execution_count": 19,
     "metadata": {},
     "output_type": "execute_result"
    }
   ],
   "source": [
    "# Podemos usar um método diretamente, mas não fica elegante...\n",
    "import statsmodels.api as sm\n",
    "sm.stats.proportions_ztest(p_alternativo * n, n, p_nulo, alternative='larger', prop_var=p_nulo)"
   ]
  },
  {
   "cell_type": "markdown",
   "id": "89cb52d1",
   "metadata": {},
   "source": [
    "Como p-value (a área sob a curva) foi 0.005388877461084185 e é menor que 0.05, rejeitamos a hipótese nula."
   ]
  },
  {
   "cell_type": "markdown",
   "id": "f8050305",
   "metadata": {},
   "source": [
    "## Caso 2: Diferença da proporção entre populações\n",
    "\n",
    "Existe uma diferença significante na proporção populacional de homens e mulheres com idade entre 18 e 25 anos de São Paulo que votariam no candidato João?\n",
    "\n",
    "- População: Mulheres e Homens com idade entre 18 e 25 anos de São Paulo\n",
    "- Paramêtro de interesse: $p_{homens} - p_{mulheres}$ (proporção de homens/mulheres que votariam em João)\n",
    "- Hipótese Nula: $p_{homens} - p_{mulheres} = 0$\n",
    "- Hipótese Alternativa: $p_{homens} - p_{mulheres} \\neq 0$\n"
   ]
  },
  {
   "cell_type": "code",
   "execution_count": 47,
   "id": "c922205e",
   "metadata": {},
   "outputs": [],
   "source": [
    "n_homens = 247\n",
    "n_mulheres = 308\n",
    "n = n_homens + n_mulheres\n",
    "\n",
    "x_homens = 91\n",
    "x_mulheres = 120\n",
    "x = x_homens + x_mulheres\n",
    "\n",
    "p_homens = round(x_homens/n_homens,2)\n",
    "p_mulheres = round(x_mulheres/n_mulheres,2)\n",
    "\n",
    "p = x/n"
   ]
  },
  {
   "cell_type": "code",
   "execution_count": 48,
   "id": "9c7b0d20",
   "metadata": {},
   "outputs": [
    {
     "data": {
      "text/plain": [
       "0.04146198808473324"
      ]
     },
     "execution_count": 48,
     "metadata": {},
     "output_type": "execute_result"
    }
   ],
   "source": [
    "se_homens = np.sqrt( (p *(1-p))/n_homens )\n",
    "se_mulheres = np.sqrt( (p *(1-p))/n_mulheres )\n",
    "se = np.sqrt( se_homens**2+ se_mulheres**2 )\n",
    "se"
   ]
  },
  {
   "cell_type": "code",
   "execution_count": 49,
   "id": "160a74dc",
   "metadata": {},
   "outputs": [
    {
     "data": {
      "text/plain": [
       "-0.4823695371077548"
      ]
     },
     "execution_count": 49,
     "metadata": {},
     "output_type": "execute_result"
    }
   ],
   "source": [
    "eixo_x = (p_homens - p_mulheres) / se\n",
    "eixo_x"
   ]
  },
  {
   "cell_type": "code",
   "execution_count": 57,
   "id": "e964352a",
   "metadata": {},
   "outputs": [
    {
     "data": {
      "text/plain": [
       "0.6295434573871281"
      ]
     },
     "execution_count": 57,
     "metadata": {},
     "output_type": "execute_result"
    }
   ],
   "source": [
    "# area acima do ponto -np.abs(eixo_x) e depois de np.abs(eixo_x)\n",
    "area = 2*dist.norm.cdf(-np.abs(eixo_x))\n",
    "area"
   ]
  },
  {
   "cell_type": "markdown",
   "id": "7863b167",
   "metadata": {},
   "source": [
    "Não temos evidências para rejeitar a hipótese nula de que a diferença da proporções é zero.  "
   ]
  },
  {
   "cell_type": "markdown",
   "id": "372984dd",
   "metadata": {},
   "source": [
    "## Caso 3 - Média de uma população\n",
    "\n",
    "A média da distância da cambalhota (cartwheel) para adultos é maior que 80 polegadas?\n",
    "\n",
    "- **População**: todos adultos\n",
    "- **Parâmetro de interesse**: $\\mu$, média populacional da distância da cambalhota\n",
    "- **Hipótese Nula:** $\\mu$ = 80\n",
    "- **Hipótese Alternativa:** $\\mu$ > 80\n",
    "\n",
    "n = 25 Adultos\n",
    "\n",
    "$\\mu = 82.46$\n",
    "\n",
    "$\\sigma = 15.06$"
   ]
  },
  {
   "cell_type": "code",
   "execution_count": 59,
   "id": "bbb822fb",
   "metadata": {},
   "outputs": [
    {
     "data": {
      "text/plain": [
       "25"
      ]
     },
     "execution_count": 59,
     "metadata": {},
     "output_type": "execute_result"
    }
   ],
   "source": [
    "df = pd.read_csv(\"data/Cartwheeldata.csv\")\n",
    "\n",
    "n = len(df)\n",
    "n"
   ]
  },
  {
   "cell_type": "code",
   "execution_count": 63,
   "id": "cb23d3ad",
   "metadata": {},
   "outputs": [
    {
     "data": {
      "text/plain": [
       "82.48"
      ]
     },
     "execution_count": 63,
     "metadata": {},
     "output_type": "execute_result"
    }
   ],
   "source": [
    "media = df['CWDistance'].mean()\n",
    "media"
   ]
  },
  {
   "cell_type": "code",
   "execution_count": 64,
   "id": "976fa6bc",
   "metadata": {},
   "outputs": [
    {
     "data": {
      "text/plain": [
       "15.058552387264852"
      ]
     },
     "execution_count": 64,
     "metadata": {},
     "output_type": "execute_result"
    }
   ],
   "source": [
    "sd = df['CWDistance'].std()\n",
    "sd"
   ]
  },
  {
   "cell_type": "code",
   "execution_count": 65,
   "id": "43e373ec",
   "metadata": {},
   "outputs": [
    {
     "data": {
      "text/plain": [
       "3.0117104774529704"
      ]
     },
     "execution_count": 65,
     "metadata": {},
     "output_type": "execute_result"
    }
   ],
   "source": [
    "se = sd/np.sqrt(n)\n",
    "se"
   ]
  },
  {
   "cell_type": "code",
   "execution_count": 66,
   "id": "b852e37e",
   "metadata": {},
   "outputs": [
    {
     "data": {
      "text/plain": [
       "0.8234523266982029"
      ]
     },
     "execution_count": 66,
     "metadata": {},
     "output_type": "execute_result"
    }
   ],
   "source": [
    "eixo_x = (media - 80) / se\n",
    "eixo_x"
   ]
  },
  {
   "cell_type": "code",
   "execution_count": 73,
   "id": "6ffb5687",
   "metadata": {},
   "outputs": [
    {
     "data": {
      "text/plain": [
       "0.20512540845395266"
      ]
     },
     "execution_count": 73,
     "metadata": {},
     "output_type": "execute_result"
    }
   ],
   "source": [
    "area_abaixo = 1-dist.norm.cdf(eixo_x)\n",
    "area_abaixo"
   ]
  },
  {
   "cell_type": "code",
   "execution_count": 67,
   "id": "38292a2e",
   "metadata": {},
   "outputs": [
    {
     "data": {
      "text/plain": [
       "(0.8234523266982029, 0.20512540845395266)"
      ]
     },
     "execution_count": 67,
     "metadata": {},
     "output_type": "execute_result"
    }
   ],
   "source": [
    "# usando a biblioteca\n",
    "sm.stats.ztest(df[\"CWDistance\"], value = 80, alternative = \"larger\")"
   ]
  },
  {
   "cell_type": "markdown",
   "id": "b2210b74",
   "metadata": {},
   "source": [
    "Não temos evidências para rejeitar a hipótese nula de que a distância da cambalhora é igual 80"
   ]
  },
  {
   "cell_type": "markdown",
   "id": "ddcd17b5",
   "metadata": {},
   "source": [
    "## Caso 4 - Comparação da média de duas populações\n",
    "\n",
    "Homens tem maior indice de massa coporal que as mulheres?\n",
    "\n",
    "- **População**: todos adultos\n",
    "- **Parâmetro de interesse**: $\\mu_1 - \\mu_2$\n",
    "- **Hipótese Nula:** $\\mu_1 = \\mu_2$  \n",
    "- **Hipótese Alternativa:** $\\mu_1 \\neq \\mu_2$"
   ]
  },
  {
   "cell_type": "code",
   "execution_count": 79,
   "id": "32a60d5b",
   "metadata": {},
   "outputs": [],
   "source": [
    "df = pd.read_csv(\"data/nhanes_2015_2016.csv\")"
   ]
  },
  {
   "cell_type": "code",
   "execution_count": 99,
   "id": "586f99fc",
   "metadata": {},
   "outputs": [],
   "source": [
    "mulheres = df[df['RIAGENDR']==2]\n",
    "homens = df[df['RIAGENDR']==1]"
   ]
  },
  {
   "cell_type": "code",
   "execution_count": 100,
   "id": "25362427",
   "metadata": {},
   "outputs": [
    {
     "data": {
      "text/plain": [
       "(29.93994565217392, 7.753318809545674, 2976)"
      ]
     },
     "execution_count": 100,
     "metadata": {},
     "output_type": "execute_result"
    }
   ],
   "source": [
    "media_mulheres = mulheres['BMXBMI'].mean()\n",
    "sd_mulheres = mulheres['BMXBMI'].std()\n",
    "n_mulheres = len(mulheres)\n",
    "(media_mulheres,sd_mulheres,n_mulheres)"
   ]
  },
  {
   "cell_type": "code",
   "execution_count": 101,
   "id": "1a5391ab",
   "metadata": {},
   "outputs": [
    {
     "data": {
      "text/plain": [
       "(28.778072111846942, 6.2525676168014614, 2759)"
      ]
     },
     "execution_count": 101,
     "metadata": {},
     "output_type": "execute_result"
    }
   ],
   "source": [
    "media_homens = homens['BMXBMI'].mean()\n",
    "sd_homens  = homens['BMXBMI'].std()\n",
    "n_homens = len(homens)\n",
    "(media_homens,sd_homens,n_homens)"
   ]
  },
  {
   "cell_type": "code",
   "execution_count": 102,
   "id": "6d485c5d",
   "metadata": {},
   "outputs": [
    {
     "data": {
      "text/plain": [
       "0.18538992862064446"
      ]
     },
     "execution_count": 102,
     "metadata": {},
     "output_type": "execute_result"
    }
   ],
   "source": [
    "se_homens = sd_homens/np.sqrt(n_homens)\n",
    "se_mulheres = sd_mulheres/np.sqrt(n_mulheres)\n",
    "se = np.sqrt( se_homens**2+ se_mulheres**2 )\n",
    "se"
   ]
  },
  {
   "cell_type": "code",
   "execution_count": 103,
   "id": "8c107836",
   "metadata": {},
   "outputs": [
    {
     "data": {
      "text/plain": [
       "1.161873540326976"
      ]
     },
     "execution_count": 103,
     "metadata": {},
     "output_type": "execute_result"
    }
   ],
   "source": [
    "diff = media_mulheres - media_homens\n",
    "diff"
   ]
  },
  {
   "cell_type": "code",
   "execution_count": 104,
   "id": "160a16a9",
   "metadata": {},
   "outputs": [
    {
     "data": {
      "text/plain": [
       "6.267188023490038"
      ]
     },
     "execution_count": 104,
     "metadata": {},
     "output_type": "execute_result"
    }
   ],
   "source": [
    "eixo_x = diff/se\n",
    "eixo_x"
   ]
  },
  {
   "cell_type": "code",
   "execution_count": 105,
   "id": "3864d430",
   "metadata": {},
   "outputs": [
    {
     "data": {
      "text/plain": [
       "3.6762616158578853e-10"
      ]
     },
     "execution_count": 105,
     "metadata": {},
     "output_type": "execute_result"
    }
   ],
   "source": [
    "# area acima do ponto -np.abs(eixo_x) e depois de np.abs(eixo_x)\n",
    "area = 2*dist.norm.cdf(-np.abs(eixo_x))\n",
    "area"
   ]
  },
  {
   "cell_type": "code",
   "execution_count": 106,
   "id": "d5f6e753",
   "metadata": {},
   "outputs": [
    {
     "data": {
      "text/plain": [
       "(6.1755933531383205, 6.591544431126401e-10)"
      ]
     },
     "execution_count": 106,
     "metadata": {},
     "output_type": "execute_result"
    }
   ],
   "source": [
    "# Usando a biblioteca - levemente diferente, arredondamento?\n",
    "sm.stats.ztest(mulheres[\"BMXBMI\"].dropna(), homens[\"BMXBMI\"].dropna())"
   ]
  },
  {
   "cell_type": "markdown",
   "id": "a1c803b9",
   "metadata": {},
   "source": [
    "Rejeitamos a hipótese nula, isto é, as médias são diferentes"
   ]
  },
  {
   "cell_type": "code",
   "execution_count": null,
   "id": "f08c14a2",
   "metadata": {},
   "outputs": [],
   "source": []
  }
 ],
 "metadata": {
  "kernelspec": {
   "display_name": "Python 3 (ipykernel)",
   "language": "python",
   "name": "python3"
  },
  "language_info": {
   "codemirror_mode": {
    "name": "ipython",
    "version": 3
   },
   "file_extension": ".py",
   "mimetype": "text/x-python",
   "name": "python",
   "nbconvert_exporter": "python",
   "pygments_lexer": "ipython3",
   "version": "3.8.10"
  }
 },
 "nbformat": 4,
 "nbformat_minor": 5
}
