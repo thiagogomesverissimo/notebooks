{
 "cells": [
  {
   "cell_type": "markdown",
   "metadata": {},
   "source": [
    "## Caso 1: Proporção em uma população\n",
    "\n",
    "Usamos o teste de hipótese para estimar um parâmetro de uma população.\n",
    "Cenário: um estudo prévio mostrou que 52% das pessoas entre 18 e 25 anos de São Paulo votariam no candidato João. Um novo estudo com 1018 pessoas foi realizado e a nova porcentagem foi de 56%. A proporção de pessoas da população (que é o parâmetro) aumentou?\n",
    "\n",
    "- População: População com idade entre 18 e 25 anos de São Paulo\n",
    "- Paramêtro **p** de interesse: proporção de pessoas que votariam em João\n",
    "- Hipótese Nula: 52% votaria no candidato João\n",
    "- Hipótese Alternativa: A proporção é maior que 52%\n",
    "\n",
    "Erro padrão estimado para proporções:\n",
    "\n",
    "$$SE_{proporção} = \\sqrt{\\frac{p_{nulo}\\ (1 - p_{nulo})}{n}}$$\n",
    "\n",
    "\n",
    "$$\\frac{Medida - H_0}{SE_{proporção}}$$ "
   ]
  },
  {
   "cell_type": "code",
   "execution_count": 29,
   "metadata": {},
   "outputs": [
    {
     "data": {
      "text/plain": [
       "0.015658436718635507"
      ]
     },
     "execution_count": 29,
     "metadata": {},
     "output_type": "execute_result"
    }
   ],
   "source": [
    "import statsmodels.api as sm\n",
    "import numpy as np\n",
    "import pandas as pd\n",
    "import scipy.stats.distributions as dist\n",
    "\n",
    "n = 1018\n",
    "p_nulo = .52\n",
    "p_alternativo = .56\n",
    "\n",
    "se = np.sqrt((p_nulo*(1-p_nulo))/n)\n",
    "se"
   ]
  },
  {
   "cell_type": "code",
   "execution_count": 13,
   "metadata": {},
   "outputs": [
    {
     "data": {
      "text/plain": [
       "2.5545334262132955"
      ]
     },
     "execution_count": 13,
     "metadata": {},
     "output_type": "execute_result"
    }
   ],
   "source": [
    "eixo_x = (p_alternativo-p_nulo)/se\n",
    "eixo_x"
   ]
  },
  {
   "cell_type": "code",
   "execution_count": 18,
   "metadata": {},
   "outputs": [
    {
     "data": {
      "text/plain": [
       "0.005388877461084185"
      ]
     },
     "execution_count": 18,
     "metadata": {},
     "output_type": "execute_result"
    }
   ],
   "source": [
    "from scipy.stats import t\n",
    "area_acima = 1-t.cdf(eixo_x,n-1)\n",
    "area_acima"
   ]
  },
  {
   "cell_type": "code",
   "execution_count": 19,
   "metadata": {},
   "outputs": [
    {
     "data": {
      "text/plain": [
       "(2.5545334262132955, 0.005316510991822442)"
      ]
     },
     "execution_count": 19,
     "metadata": {},
     "output_type": "execute_result"
    }
   ],
   "source": [
    "# Podemos usar um método diretamente, mas não fica elegante...\n",
    "import statsmodels.api as sm\n",
    "sm.stats.proportions_ztest(p_alternativo * n, n, p_nulo, alternative='larger', prop_var=p_nulo)"
   ]
  },
  {
   "cell_type": "markdown",
   "metadata": {},
   "source": [
    "Como p-value (a área sob a curva) foi 0.005388877461084185 e é menor que 0.05, rejeitamos a hipótese nula."
   ]
  },
  {
   "cell_type": "markdown",
   "metadata": {},
   "source": [
    "## Caso 2: Diferença da proporção entre populações\n",
    "\n",
    "Existe uma diferença significante na proporção populacional de homens e mulheres com idade entre 18 e 25 anos de São Paulo que votariam no candidato João?\n",
    "\n",
    "- População: Mulheres e Homens com idade entre 18 e 25 anos de São Paulo\n",
    "- Paramêtro de interesse: $p_{homens} - p_{mulheres}$ (proporção de homens/mulheres que votariam em João)\n",
    "- Hipótese Nula: $p_{homens} - p_{mulheres} = 0$\n",
    "- Hipótese Alternativa: $p_{homens} - p_{mulheres} \\neq 0$\n"
   ]
  },
  {
   "cell_type": "code",
   "execution_count": 47,
   "metadata": {},
   "outputs": [],
   "source": [
    "n_homens = 247\n",
    "n_mulheres = 308\n",
    "n = n_homens + n_mulheres\n",
    "\n",
    "x_homens = 91\n",
    "x_mulheres = 120\n",
    "x = x_homens + x_mulheres\n",
    "\n",
    "p_homens = round(x_homens/n_homens,2)\n",
    "p_mulheres = round(x_mulheres/n_mulheres,2)\n",
    "\n",
    "p = x/n"
   ]
  },
  {
   "cell_type": "code",
   "execution_count": 48,
   "metadata": {},
   "outputs": [
    {
     "data": {
      "text/plain": [
       "0.04146198808473324"
      ]
     },
     "execution_count": 48,
     "metadata": {},
     "output_type": "execute_result"
    }
   ],
   "source": [
    "se_homens = np.sqrt( (p *(1-p))/n_homens )\n",
    "se_mulheres = np.sqrt( (p *(1-p))/n_mulheres )\n",
    "se = np.sqrt( se_homens**2+ se_mulheres**2 )\n",
    "se"
   ]
  },
  {
   "cell_type": "code",
   "execution_count": 49,
   "metadata": {},
   "outputs": [
    {
     "data": {
      "text/plain": [
       "-0.4823695371077548"
      ]
     },
     "execution_count": 49,
     "metadata": {},
     "output_type": "execute_result"
    }
   ],
   "source": [
    "eixo_x = (p_homens - p_mulheres) / se\n",
    "eixo_x"
   ]
  },
  {
   "cell_type": "code",
   "execution_count": 57,
   "metadata": {},
   "outputs": [
    {
     "data": {
      "text/plain": [
       "0.6295434573871281"
      ]
     },
     "execution_count": 57,
     "metadata": {},
     "output_type": "execute_result"
    }
   ],
   "source": [
    "# area acima do ponto -np.abs(eixo_x) e depois de np.abs(eixo_x)\n",
    "area = 2*dist.norm.cdf(-np.abs(eixo_x))\n",
    "area"
   ]
  },
  {
   "cell_type": "markdown",
   "metadata": {},
   "source": [
    "Não temos evidências para rejeitar a hipótese nula de que a diferença da proporções é zero.  "
   ]
  },
  {
   "cell_type": "markdown",
   "metadata": {},
   "source": [
    "## Caso 3 - Média de uma população\n",
    "\n",
    "A média da distância da cambalhota (cartwheel) para adultos é maior que 80 polegadas?\n",
    "\n",
    "- **População**: todos adultos\n",
    "- **Parâmetro de interesse**: $\\mu$, média populacional da distância da cambalhota\n",
    "- **Hipótese Nula:** $\\mu$ = 80\n",
    "- **Hipótese Alternativa:** $\\mu$ > 80\n",
    "\n",
    "n = 25 Adultos\n",
    "\n",
    "$\\mu = 82.46$\n",
    "\n",
    "$\\sigma = 15.06$"
   ]
  },
  {
   "cell_type": "code",
   "execution_count": 59,
   "metadata": {},
   "outputs": [
    {
     "data": {
      "text/plain": [
       "25"
      ]
     },
     "execution_count": 59,
     "metadata": {},
     "output_type": "execute_result"
    }
   ],
   "source": [
    "df = pd.read_csv(\"data/Cartwheeldata.csv\")\n",
    "\n",
    "n = len(df)\n",
    "n"
   ]
  },
  {
   "cell_type": "code",
   "execution_count": 63,
   "metadata": {},
   "outputs": [
    {
     "data": {
      "text/plain": [
       "82.48"
      ]
     },
     "execution_count": 63,
     "metadata": {},
     "output_type": "execute_result"
    }
   ],
   "source": [
    "media = df['CWDistance'].mean()\n",
    "media"
   ]
  },
  {
   "cell_type": "code",
   "execution_count": 64,
   "metadata": {},
   "outputs": [
    {
     "data": {
      "text/plain": [
       "15.058552387264852"
      ]
     },
     "execution_count": 64,
     "metadata": {},
     "output_type": "execute_result"
    }
   ],
   "source": [
    "sd = df['CWDistance'].std()\n",
    "sd"
   ]
  },
  {
   "cell_type": "code",
   "execution_count": 65,
   "metadata": {},
   "outputs": [
    {
     "data": {
      "text/plain": [
       "3.0117104774529704"
      ]
     },
     "execution_count": 65,
     "metadata": {},
     "output_type": "execute_result"
    }
   ],
   "source": [
    "se = sd/np.sqrt(n)\n",
    "se"
   ]
  },
  {
   "cell_type": "code",
   "execution_count": 66,
   "metadata": {},
   "outputs": [
    {
     "data": {
      "text/plain": [
       "0.8234523266982029"
      ]
     },
     "execution_count": 66,
     "metadata": {},
     "output_type": "execute_result"
    }
   ],
   "source": [
    "eixo_x = (media - 80) / se\n",
    "eixo_x"
   ]
  },
  {
   "cell_type": "code",
   "execution_count": 73,
   "metadata": {},
   "outputs": [
    {
     "data": {
      "text/plain": [
       "0.20512540845395266"
      ]
     },
     "execution_count": 73,
     "metadata": {},
     "output_type": "execute_result"
    }
   ],
   "source": [
    "area_abaixo = 1-dist.norm.cdf(eixo_x)\n",
    "area_abaixo"
   ]
  },
  {
   "cell_type": "code",
   "execution_count": 67,
   "metadata": {},
   "outputs": [
    {
     "data": {
      "text/plain": [
       "(0.8234523266982029, 0.20512540845395266)"
      ]
     },
     "execution_count": 67,
     "metadata": {},
     "output_type": "execute_result"
    }
   ],
   "source": [
    "# usando a biblioteca\n",
    "sm.stats.ztest(df[\"CWDistance\"], value = 80, alternative = \"larger\")"
   ]
  },
  {
   "cell_type": "markdown",
   "metadata": {},
   "source": [
    "Não temos evidências para rejeitar a hipótese nula de que a distância da cambalhora é igual 80"
   ]
  },
  {
   "cell_type": "markdown",
   "metadata": {},
   "source": [
    "## Caso 4 - Comparação da média de duas populações\n",
    "\n",
    "Homens tem maior indice de massa coporal que as mulheres?\n",
    "\n",
    "- **População**: todos adultos\n",
    "- **Parâmetro de interesse**: $\\mu_1 - \\mu_2$\n",
    "- **Hipótese Nula:** $\\mu_1 = \\mu_2$  \n",
    "- **Hipótese Alternativa:** $\\mu_1 \\neq \\mu_2$"
   ]
  },
  {
   "cell_type": "code",
   "execution_count": 79,
   "metadata": {},
   "outputs": [],
   "source": [
    "df = pd.read_csv(\"data/nhanes_2015_2016.csv\")"
   ]
  },
  {
   "cell_type": "code",
   "execution_count": 99,
   "metadata": {},
   "outputs": [],
   "source": [
    "mulheres = df[df['RIAGENDR']==2]\n",
    "homens = df[df['RIAGENDR']==1]"
   ]
  },
  {
   "cell_type": "code",
   "execution_count": 100,
   "metadata": {},
   "outputs": [
    {
     "data": {
      "text/plain": [
       "(29.93994565217392, 7.753318809545674, 2976)"
      ]
     },
     "execution_count": 100,
     "metadata": {},
     "output_type": "execute_result"
    }
   ],
   "source": [
    "media_mulheres = mulheres['BMXBMI'].mean()\n",
    "sd_mulheres = mulheres['BMXBMI'].std()\n",
    "n_mulheres = len(mulheres)\n",
    "(media_mulheres,sd_mulheres,n_mulheres)"
   ]
  },
  {
   "cell_type": "code",
   "execution_count": 101,
   "metadata": {},
   "outputs": [
    {
     "data": {
      "text/plain": [
       "(28.778072111846942, 6.2525676168014614, 2759)"
      ]
     },
     "execution_count": 101,
     "metadata": {},
     "output_type": "execute_result"
    }
   ],
   "source": [
    "media_homens = homens['BMXBMI'].mean()\n",
    "sd_homens  = homens['BMXBMI'].std()\n",
    "n_homens = len(homens)\n",
    "(media_homens,sd_homens,n_homens)"
   ]
  },
  {
   "cell_type": "code",
   "execution_count": 102,
   "metadata": {},
   "outputs": [
    {
     "data": {
      "text/plain": [
       "0.18538992862064446"
      ]
     },
     "execution_count": 102,
     "metadata": {},
     "output_type": "execute_result"
    }
   ],
   "source": [
    "se_homens = sd_homens/np.sqrt(n_homens)\n",
    "se_mulheres = sd_mulheres/np.sqrt(n_mulheres)\n",
    "se = np.sqrt( se_homens**2+ se_mulheres**2 )\n",
    "se"
   ]
  },
  {
   "cell_type": "code",
   "execution_count": 103,
   "metadata": {},
   "outputs": [
    {
     "data": {
      "text/plain": [
       "1.161873540326976"
      ]
     },
     "execution_count": 103,
     "metadata": {},
     "output_type": "execute_result"
    }
   ],
   "source": [
    "diff = media_mulheres - media_homens\n",
    "diff"
   ]
  },
  {
   "cell_type": "code",
   "execution_count": 104,
   "metadata": {},
   "outputs": [
    {
     "data": {
      "text/plain": [
       "6.267188023490038"
      ]
     },
     "execution_count": 104,
     "metadata": {},
     "output_type": "execute_result"
    }
   ],
   "source": [
    "eixo_x = diff/se\n",
    "eixo_x"
   ]
  },
  {
   "cell_type": "code",
   "execution_count": 105,
   "metadata": {},
   "outputs": [
    {
     "data": {
      "text/plain": [
       "3.6762616158578853e-10"
      ]
     },
     "execution_count": 105,
     "metadata": {},
     "output_type": "execute_result"
    }
   ],
   "source": [
    "# area acima do ponto -np.abs(eixo_x) e depois de np.abs(eixo_x)\n",
    "area = 2*dist.norm.cdf(-np.abs(eixo_x))\n",
    "area"
   ]
  },
  {
   "cell_type": "code",
   "execution_count": 106,
   "metadata": {},
   "outputs": [
    {
     "data": {
      "text/plain": [
       "(6.1755933531383205, 6.591544431126401e-10)"
      ]
     },
     "execution_count": 106,
     "metadata": {},
     "output_type": "execute_result"
    }
   ],
   "source": [
    "# Usando a biblioteca - levemente diferente, arredondamento?\n",
    "sm.stats.ztest(mulheres[\"BMXBMI\"].dropna(), homens[\"BMXBMI\"].dropna())"
   ]
  },
  {
   "cell_type": "markdown",
   "metadata": {},
   "source": [
    "Rejeitamos a hipótese nula, isto é, as médias são diferentes"
   ]
  },
  {
   "cell_type": "markdown",
   "metadata": {},
   "source": [
    "## Exemplo da distância da cambalhota (one sample test)\n",
    "\n",
    "- população: todos adultos\n",
    "- parâmetro de interesse da população: distância média ($\\mu$) na cambalhota\n",
    "- amostra: 25 adultos\n",
    "\n",
    "Teste: a distância da cambalhota é maior que 80 inches a um nível de significância de 5%?\n",
    "\n",
    "- Hipótese Nula: distância média $\\mu$ na população é 80 ($ H_0: \\mu = 80$)\n",
    "- Hipótese Alternativa: distância média $\\mu$ na população é maior que 80 ($ H_a: \\mu >80$)\n",
    "\n",
    "Condições:\n",
    "\n",
    "1. A amostra em questão é SRS (simple Random Sample)\n",
    "2. A distribuição das distância é normal na população\n",
    "\n",
    "Se as distâncias não seguirem uma distribuição normal, podemos usar a mediana e usar o teste de Wilcoxon Signed Rank Test\n",
    "\n",
    "A média da amostra coletada é 82.48. Se repetirmos esse processo com outra amostra obteremos outra média.\n",
    "\n",
    "Pergunta: a média da amostra de 82.48 é significativamente maior que a média hipotética de 80?\n",
    "\n",
    "2.48 é uma diferença signifcante ou é reflete uma variabilidade natural na média das amostras?"
   ]
  },
  {
   "cell_type": "code",
   "execution_count": 4,
   "metadata": {},
   "outputs": [
    {
     "data": {
      "text/plain": [
       "count     25.000000\n",
       "mean      82.480000\n",
       "std       15.058552\n",
       "min       63.000000\n",
       "25%       70.000000\n",
       "50%       81.000000\n",
       "75%       92.000000\n",
       "max      115.000000\n",
       "Name: CWDistance, dtype: float64"
      ]
     },
     "execution_count": 4,
     "metadata": {},
     "output_type": "execute_result"
    }
   ],
   "source": [
    "import pandas as pd\n",
    "data = pd.read_csv(\"data/Cartwheeldata.csv\")\n",
    "data.describe()[\"CWDistance\"]"
   ]
  },
  {
   "cell_type": "markdown",
   "metadata": {},
   "source": [
    "erro padrão estimado = quão longe a média da amostra tende estar longe da média verdadeira?\n",
    "\n",
    "t = (melhor estimativa - valor nulo)/erro padrão estimado\n",
    "\n",
    "Nossa média amostral (82.48) é apenas 0.82 erros padrões acima do valor null de 80\n",
    "\n",
    "Se a hipótese nula for verdadeira, um teste estatístico de t = 0.82 serua suficiente para rejeitar a hipótese nula?\n",
    "\n",
    "pvalue = probabilidade de ver um teste estatístico de 0,82 (ou maior) assumir que a hipótese nula é verdadeira\n",
    "\n",
    "Se a média da população fosse 80, então observar uma média da amostra de 82.48 ou maior é **bastante provável**, pois em 20% do tempo veremos valores maiores que 80\n",
    "\n",
    "Se o valor do pvalue for maior que o nível de significância, não temos evidência suficiente para rejeitar a hipótese nula"
   ]
  },
  {
   "cell_type": "code",
   "execution_count": 10,
   "metadata": {},
   "outputs": [
    {
     "data": {
      "text/plain": [
       "0.8234523478751489"
      ]
     },
     "execution_count": 10,
     "metadata": {},
     "output_type": "execute_result"
    }
   ],
   "source": [
    "tvalue = (82.48 - 80)/(15.058552/5)\n",
    "tvalue"
   ]
  },
  {
   "cell_type": "code",
   "execution_count": 16,
   "metadata": {},
   "outputs": [
    {
     "data": {
      "text/plain": [
       "0.20917932695136643"
      ]
     },
     "execution_count": 16,
     "metadata": {},
     "output_type": "execute_result"
    }
   ],
   "source": [
    "from scipy.stats import t\n",
    "grau = 25-1\n",
    "\n",
    "pvalue = 1 - t.cdf(tvalue,grau)\n",
    "pvalue"
   ]
  },
  {
   "cell_type": "markdown",
   "metadata": {},
   "source": [
    "## Comparação da diferença da média entre duas populações pareadas (mesmo individuos medidos duas vezes)\n",
    "\n",
    "Há diferenças nas medidas?\n",
    "\n",
    "Parametro de interesse: diferença média $\\mu_d$\n",
    "\n",
    "diff = medida1-medida2\n",
    "\n",
    "Teste: a distância da cambalhota é maior que 80 inches a um nível de significância de 5%?\n",
    "\n",
    "- Hipótese Nula: diferença média $\\mu_d$ é zero ($ H_0: \\mu_d = 0$)\n",
    "- Hipótese Alternativa: diferença média $\\mu_d$ não é zero ($ H_a: \\mu_d \\neq 0$)\n",
    "\n",
    "Condições:\n",
    "\n",
    " - amostras aleatórias \n",
    " - a diferença (medidas1-medidas2) devem ser normamente distríbuidas (podemos olhar o gráfico QQ)\n"
   ]
  },
  {
   "cell_type": "code",
   "execution_count": 25,
   "metadata": {},
   "outputs": [
    {
     "data": {
      "text/plain": [
       "0    55\n",
       "1    90\n",
       "2     5\n",
       "3    14\n",
       "4    -6\n",
       "5    56\n",
       "dtype: int64"
      ]
     },
     "execution_count": 25,
     "metadata": {},
     "output_type": "execute_result"
    }
   ],
   "source": [
    "medidas1=pd.Series([380,560,425,389,568,651])\n",
    "medidas2=pd.Series([325,470,420,375,574,595])\n",
    "diff=medidas1-medidas2\n",
    "diff"
   ]
  },
  {
   "cell_type": "code",
   "execution_count": 22,
   "metadata": {},
   "outputs": [
    {
     "data": {
      "text/plain": [
       "0    380\n",
       "1    560\n",
       "2    425\n",
       "3    389\n",
       "4    568\n",
       "5    651\n",
       "dtype: int64"
      ]
     },
     "execution_count": 22,
     "metadata": {},
     "output_type": "execute_result"
    }
   ],
   "source": [
    "medidas1"
   ]
  },
  {
   "cell_type": "code",
   "execution_count": 28,
   "metadata": {},
   "outputs": [
    {
     "data": {
      "text/plain": [
       "((array([-1.23132171, -0.63003387, -0.19819716,  0.19819716,  0.63003387,\n",
       "          1.23132171]), array([-6,  5, 14, 55, 56, 90])),\n",
       " (40.5824843729534, 35.666666666666664, 0.9664359792939513))"
      ]
     },
     "execution_count": 28,
     "metadata": {},
     "output_type": "execute_result"
    },
    {
     "data": {
      "image/png": "[encoded data removed]",
      "text/plain": [
       "<Figure size 432x288 with 1 Axes>"
      ]
     },
     "metadata": {
      "needs_background": "light"
     },
     "output_type": "display_data"
    }
   ],
   "source": [
    "# verificando se as diferenças são normamente distríbuidas\n",
    "import numpy as np \n",
    "import pylab \n",
    "import scipy.stats as stats\n",
    "\n",
    "stats.probplot(diff, dist=\"norm\", plot=pylab)"
   ]
  },
  {
   "cell_type": "code",
   "execution_count": 37,
   "metadata": {},
   "outputs": [
    {
     "data": {
      "text/plain": [
       "0.06521139673694831"
      ]
     },
     "execution_count": 37,
     "metadata": {},
     "output_type": "execute_result"
    }
   ],
   "source": [
    "import math\n",
    "tvalue = (diff.mean() - 0)/(diff.std() /math.sqrt(6))\n",
    "tvalue\n",
    "\n",
    "from scipy.stats import t\n",
    "grau = 6-1\n",
    "\n",
    "pvalue = 1 - t.cdf(tvalue,grau)\n",
    "2*pvalue # não rejeitamos hipótese nula"
   ]
  },
  {
   "cell_type": "markdown",
   "metadata": {},
   "source": [
    "## Comparação da diferença da média entre duas populações idependentes (não pareadas , ie, com individuos diferentes)\n",
    "\n",
    "Parametro de interesse: diferença média \n",
    "\n",
    "diff = medida1-medida2\n",
    "\n",
    "Teste: a distância da cambalhota é maior que 80 inches a um nível de significância de 5%?\n",
    "\n",
    "- Hipótese Nula: diferença média $\\mu_d$ é zero ($ H_0: \\mu_1 = \\mu_2$)\n",
    "- Hipótese Alternativa: diferença média $\\mu_d$ não é zero ($ H_a: \\mu_1 \\neq \\mu_2$)\n",
    "\n",
    "Condições:\n",
    "\n",
    "1. amostras aleatórias\n",
    "\n",
    "2. amostras independentes\n",
    "\n",
    "3. medidas do BMI normais em ambas pooulações"
   ]
  },
  {
   "cell_type": "code",
   "execution_count": 39,
   "metadata": {},
   "outputs": [],
   "source": [
    "df = pd.read_csv(\"data/nhanes_2015_2016.csv\")\n",
    "\n",
    "mulheres = df[df['RIAGENDR']==2]\n",
    "mulheres = mulheres['BMXBMI']\n",
    "\n",
    "homens = df[df['RIAGENDR']==1]\n",
    "homens = homens['BMXBMI']"
   ]
  },
  {
   "cell_type": "code",
   "execution_count": 50,
   "metadata": {},
   "outputs": [
    {
     "data": {
      "text/plain": [
       "1.161873540326976"
      ]
     },
     "execution_count": 50,
     "metadata": {},
     "output_type": "execute_result"
    }
   ],
   "source": [
    "diff = mulheres.mean()-homens.mean()\n",
    "diff"
   ]
  },
  {
   "cell_type": "code",
   "execution_count": 47,
   "metadata": {},
   "outputs": [
    {
     "data": {
      "text/plain": [
       "((array([-3.49970662, -3.25584018, -3.12097485, ...,  3.12097485,\n",
       "          3.25584018,  3.49970662]),\n",
       "  array([14.5, 14.5, 15.5, ...,  nan,  nan,  nan])),\n",
       " (nan, nan, nan))"
      ]
     },
     "execution_count": 47,
     "metadata": {},
     "output_type": "execute_result"
    },
    {
     "data": {
      "image/png": "[encoded data removed]",
      "text/plain": [
       "<Figure size 432x288 with 1 Axes>"
      ]
     },
     "metadata": {
      "needs_background": "light"
     },
     "output_type": "display_data"
    }
   ],
   "source": [
    "import numpy as np \n",
    "import pylab \n",
    "import scipy.stats as stats\n",
    "\n",
    "stats.probplot(mulheres, dist=\"norm\", plot=pylab)"
   ]
  },
  {
   "cell_type": "code",
   "execution_count": 49,
   "metadata": {},
   "outputs": [
    {
     "data": {
      "text/plain": [
       "((array([-3.47947379, -3.23428348, -3.09861303, ...,  3.09861303,\n",
       "          3.23428348,  3.47947379]),\n",
       "  array([15.1, 16. , 16.2, ...,  nan,  nan,  nan])),\n",
       " (nan, nan, nan))"
      ]
     },
     "execution_count": 49,
     "metadata": {},
     "output_type": "execute_result"
    },
    {
     "data": {
      "image/png": "[encoded data removed]",
      "text/plain": [
       "<Figure size 432x288 with 1 Axes>"
      ]
     },
     "metadata": {
      "needs_background": "light"
     },
     "output_type": "display_data"
    }
   ],
   "source": [
    "import numpy as np \n",
    "import pylab \n",
    "import scipy.stats as stats\n",
    "\n",
    "# o QQ plot mostra que as medidas não são normais, porém temos uma amostra \n",
    "# grande e podemos usar o teorema do limite central\n",
    "\n",
    "stats.probplot(homens, dist=\"norm\", plot=pylab)"
   ]
  },
  {
   "cell_type": "code",
   "execution_count": null,
   "metadata": {},
   "outputs": [],
   "source": []
  }
 ],
 "metadata": {
  "kernelspec": {
   "display_name": "Python 3",
   "language": "python",
   "name": "python3"
  },
  "language_info": {
   "codemirror_mode": {
    "name": "ipython",
    "version": 3
   },
   "file_extension": ".py",
   "mimetype": "text/x-python",
   "name": "python",
   "nbconvert_exporter": "python",
   "pygments_lexer": "ipython3",
   "version": "3.7.3"
  }
 },
 "nbformat": 4,
 "nbformat_minor": 5
}
