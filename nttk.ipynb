{
 "cells": [
  {
   "cell_type": "code",
   "execution_count": 2,
   "metadata": {},
   "outputs": [
    {
     "name": "stdout",
     "output_type": "stream",
     "text": [
      "showing info https://raw.githubusercontent.com/nltk/nltk_data/gh-pages/index.xml\n"
     ]
    },
    {
     "data": {
      "text/plain": [
       "True"
      ]
     },
     "execution_count": 2,
     "metadata": {},
     "output_type": "execute_result"
    }
   ],
   "source": [
    "import nltk\n",
    "nltk.download()"
   ]
  },
  {
   "cell_type": "code",
   "execution_count": null,
   "metadata": {},
   "outputs": [],
   "source": [
    "# http://www.nltk.org/book/\n",
    "# http://www.nltk.org/howto/portuguese_en.html\n",
    "\n",
    "nltk.corpus.mac_morpho.words()"
   ]
  },
  {
   "cell_type": "code",
   "execution_count": null,
   "metadata": {},
   "outputs": [],
   "source": [
    "nltk.corpus.mac_morpho.sents()"
   ]
  },
  {
   "cell_type": "code",
   "execution_count": null,
   "metadata": {},
   "outputs": [],
   "source": [
    "nltk.corpus.mac_morpho.tagged_words()"
   ]
  },
  {
   "cell_type": "code",
   "execution_count": null,
   "metadata": {},
   "outputs": [],
   "source": [
    "nltk.corpus.mac_morpho.tagged_sents() # sentenças"
   ]
  },
  {
   "cell_type": "code",
   "execution_count": null,
   "metadata": {},
   "outputs": [],
   "source": [
    "arquivo = open('data/cortec_astronomia.txt')\n",
    "#print(arquivo.readlines())\n",
    "texto = arquivo.read()\n",
    "arquivo.close()"
   ]
  },
  {
   "cell_type": "code",
   "execution_count": null,
   "metadata": {},
   "outputs": [],
   "source": [
    "len(cortec)"
   ]
  },
  {
   "cell_type": "code",
   "execution_count": null,
   "metadata": {},
   "outputs": [],
   "source": [
    "import nltk\n",
    "from nltk.tokenize import RegexpTokenizer\n",
    "\n",
    "tokens = nltk.word_tokenize(texto)\n",
    "print(tokens[0:30])\n",
    "print(len(tokens))"
   ]
  },
  {
   "cell_type": "code",
   "execution_count": null,
   "metadata": {},
   "outputs": [],
   "source": [
    "tokenizer =  RegexpTokenizer(r'\\w+')\n",
    "tokens = tokenizer.tokenize(texto)\n",
    "print(tokens[0:30])\n",
    "print(len(tokens))"
   ]
  },
  {
   "cell_type": "code",
   "execution_count": null,
   "metadata": {},
   "outputs": [],
   "source": [
    "tokenizer =  RegexpTokenizer(r'[a-zA-Z]\\w+')\n",
    "tokens = tokenizer.tokenize(texto)\n",
    "print(tokens[1:30])\n",
    "print(len(tokens))"
   ]
  },
  {
   "cell_type": "code",
   "execution_count": null,
   "metadata": {},
   "outputs": [],
   "source": [
    "frequencia = nltk.FreqDist(tokens)\n",
    "print(frequencia.most_common(5))"
   ]
  },
  {
   "cell_type": "code",
   "execution_count": null,
   "metadata": {},
   "outputs": [],
   "source": [
    "frequencia = nltk.FreqDist(tokens)\n",
    "frequencia.most_common()"
   ]
  },
  {
   "cell_type": "code",
   "execution_count": null,
   "metadata": {},
   "outputs": [],
   "source": [
    "frequencia = nltk.FreqDist([palavra.lower() for palavra in tokens])\n",
    "frequencia.most_common(10)"
   ]
  },
  {
   "cell_type": "code",
   "execution_count": null,
   "metadata": {},
   "outputs": [],
   "source": [
    "nltk.corpus.stopwords.words('portuguese')"
   ]
  },
  {
   "cell_type": "code",
   "execution_count": null,
   "metadata": {},
   "outputs": [],
   "source": [
    "stopwords = nltk.corpus.stopwords.words('portuguese')\n",
    "tokens_sem_stopwords = [w.lower() for w in tokens if w.lower() not in stopwords]\n",
    "print(tokens_sem_stopwords)\n",
    "frequencia = nltk.FreqDist(tokens_sem_stopwords)\n",
    "print(frequencia.most_common())"
   ]
  },
  {
   "cell_type": "code",
   "execution_count": null,
   "metadata": {},
   "outputs": [],
   "source": [
    "from nltk import bigrams\n",
    "from nltk import trigrams\n",
    "from nltk import ngrams"
   ]
  },
  {
   "cell_type": "code",
   "execution_count": null,
   "metadata": {},
   "outputs": [],
   "source": [
    "list(bigrams(tokens))"
   ]
  },
  {
   "cell_type": "code",
   "execution_count": null,
   "metadata": {},
   "outputs": [],
   "source": [
    "list(ngrams(tokens,2))"
   ]
  },
  {
   "cell_type": "code",
   "execution_count": null,
   "metadata": {},
   "outputs": [],
   "source": [
    "list(trigrams(tokens))"
   ]
  },
  {
   "cell_type": "code",
   "execution_count": null,
   "metadata": {},
   "outputs": [],
   "source": [
    "# bigramas com as primeiras maisculas\n",
    "bigramas = list(bigrams(tokens))\n",
    "\n",
    "for bigrama in bigramas:\n",
    "  if bigrama[0][0].isupper() and bigrama[1][0].isupper():\n",
    "    print(bigrama)"
   ]
  },
  {
   "cell_type": "code",
   "execution_count": null,
   "metadata": {},
   "outputs": [],
   "source": [
    "import nltk\n",
    "stemmer = nltk.RSLPStemmer()\n",
    "print(stemmer.stem('Amigão'))\n",
    "print(stemmer.stem('amigo'))\n",
    "print(stemmer.stem('amigos'))\n",
    "print(stemmer.stem('propuseram'))\n",
    "print(stemmer.stem('propõem'))\n",
    "print(stemmer.stem('propondo'))"
   ]
  },
  {
   "cell_type": "code",
   "execution_count": 6,
   "metadata": {},
   "outputs": [
    {
     "name": "stdout",
     "output_type": "stream",
     "text": [
      "[('Thiago', 'NPROP'), ('foi', 'VAUX'), ('na', 'NPROP'), ('feira', 'N')]\n"
     ]
    }
   ],
   "source": [
    "from nltk.corpus import mac_morpho\n",
    "from nltk.tag import UnigramTagger\n",
    "from nltk.tag import DefaultTagger\n",
    "from nltk.chunk import RegexpParser\n",
    "\n",
    "tokens = nltk.word_tokenize('Thiago foi na feira')\n",
    "\n",
    "etiq_padrao = DefaultTagger('N')\n",
    "sentencas_treino = mac_morpho.tagged_sents()\n",
    "etiquetador = UnigramTagger(sentencas_treino, backoff=etiq_padrao)\n",
    "etiquetado = etiquetador.tag(tokens)\n",
    "print(etiquetado)"
   ]
  },
  {
   "cell_type": "code",
   "execution_count": 7,
   "metadata": {},
   "outputs": [
    {
     "name": "stdout",
     "output_type": "stream",
     "text": [
      "(S Thiago/NPROP foi/VAUX na/NPROP feira/N)\n"
     ]
    }
   ],
   "source": [
    "pattern = 'NP: {<NPROP><NPROP>} | <N><N>'\n",
    "analise_gramatical = RegexpParser(pattern)\n",
    "arvore = analise_gramatical.parse(etiquetado)\n",
    "print(arvore)\n",
    "arvore.draw()"
   ]
  },
  {
   "cell_type": "code",
   "execution_count": null,
   "metadata": {},
   "outputs": [],
   "source": [
    "# Etiquetador para inglês\n",
    "#nltk.pos_tag(tokens)"
   ]
  },
  {
   "cell_type": "code",
   "execution_count": null,
   "metadata": {},
   "outputs": [],
   "source": []
  },
  {
   "cell_type": "code",
   "execution_count": null,
   "metadata": {},
   "outputs": [],
   "source": []
  }
 ],
 "metadata": {
  "kernelspec": {
   "display_name": "Python 3",
   "language": "python",
   "name": "python3"
  },
  "language_info": {
   "codemirror_mode": {
    "name": "ipython",
    "version": 3
   },
   "file_extension": ".py",
   "mimetype": "text/x-python",
   "name": "python",
   "nbconvert_exporter": "python",
   "pygments_lexer": "ipython3",
   "version": "3.8.5"
  }
 },
 "nbformat": 4,
 "nbformat_minor": 4
}
