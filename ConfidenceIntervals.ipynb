{
 "cells": [
  {
   "cell_type": "markdown",
   "id": "5fd397b9",
   "metadata": {},
   "source": [
    "O intervalo de confiança é dado pela fórmula:\n",
    "\n",
    "$$Best\\ Estimate \\pm Margin\\ of\\ Error$$\n",
    "\n",
    "Onde **Best Estimate** pode ser uma média ou uma proporção de uma amostra da população e a **Margin of Error** é dado por um **t** vezes o erro padrão **(SE)**. **t** depende do nível de confiança desejado.\n",
    "\n",
    "O erro padrão (SE) é calculado direfente para proporção ou média.\n",
    "\n",
    "Para proporção (p), o erro padrão (SE) é dado por:\n",
    "\n",
    "\n",
    "$$SE_{proporção} = \\sqrt{\\frac{p\\ (1 - p)}{n}}$$\n",
    "\n",
    "Sendo $\\sigma$ o Desvio Padrão, Para média o erro padrão (SE) é dado por:\n",
    "\n",
    "$$SE_{média} = \\frac{\\sigma}{\\sqrt{n}}$$\n",
    "\n",
    "Encontrando o **t**. Para encontrar **t** para um nível de confiança de 90% significa que queremos um **t** no qual 90% da densidade da distribuição t está entre -**t** e **t**.\n",
    "\n",
    "\n",
    "Mas como a distribuição t é simétrica, ao invés de acharmos:\n",
    "\n",
    "P($-t^*$ < X < $t^*$) = .90\n",
    "\n",
    "Podemo achar (da para ver desenhando tranquilamente): \n",
    "\n",
    "P(X < $t^*$) = .95\n",
    "\n",
    "grau de liberdade é o tamanho da amostra menos o número de parâmetros.\n",
    "\n",
    "Usando o pacote scipy.stats e definindo o grau de liberdade (df) como 10:"
   ]
  },
  {
   "cell_type": "code",
   "execution_count": 5,
   "id": "dc780c43",
   "metadata": {},
   "outputs": [
    {
     "data": {
      "text/plain": [
       "1.8124611228107335"
      ]
     },
     "execution_count": 5,
     "metadata": {},
     "output_type": "execute_result"
    }
   ],
   "source": [
    "from scipy.stats import t\n",
    "t.ppf(.95, df=10)"
   ]
  },
  {
   "cell_type": "code",
   "execution_count": 33,
   "id": "4db05332",
   "metadata": {},
   "outputs": [],
   "source": [
    "import pandas as pd\n",
    "import numpy as np\n",
    "import matplotlib\n",
    "import seaborn as sns\n",
    "import matplotlib.pyplot as plt\n",
    "import statsmodels.api as sm"
   ]
  },
  {
   "cell_type": "markdown",
   "id": "e8f73d45",
   "metadata": {},
   "source": [
    "# Intervalo de confiança em medidas de proporção para um grupo"
   ]
  },
  {
   "cell_type": "markdown",
   "id": "c13b8fe9",
   "metadata": {},
   "source": [
    "Consideremos um amostra de tamanho 659 e com variável de interesse de proporção 85% (poderia ser de brasileiros que usam óculos). Podemos dizer que a um nível de 95% de confiança a proporção real da população (brasileiros) está entre entre 0,82 e 0,87.\n",
    "\n",
    "Isto é, se selecionarmos outras amostras de mesmo tamanho muitas vezes, e criarmos outros intervalos de confiança, 95% desses intevalos conterão o proporção verdadeira (ou melhor, a proporção da população)"
   ]
  },
  {
   "cell_type": "code",
   "execution_count": 32,
   "id": "f64e264c",
   "metadata": {},
   "outputs": [
    {
     "data": {
      "text/plain": [
       "(0.8227373256215749, 0.8772626743784251)"
      ]
     },
     "execution_count": 32,
     "metadata": {},
     "output_type": "execute_result"
    }
   ],
   "source": [
    "t = 1.96\n",
    "p = .85\n",
    "n = 659\n",
    "\n",
    "se = np.sqrt((p * (1 - p))/n)\n",
    "\n",
    "(p - t * se,p + t * se)"
   ]
  },
  {
   "cell_type": "code",
   "execution_count": 5,
   "id": "8b6523a7",
   "metadata": {},
   "outputs": [
    {
     "data": {
      "text/plain": [
       "(0.8227378265796143, 0.8772621734203857)"
      ]
     },
     "execution_count": 5,
     "metadata": {},
     "output_type": "execute_result"
    }
   ],
   "source": [
    "# usando a biblioteca\n",
    "sm.stats.proportion_confint(n * p, n)"
   ]
  },
  {
   "cell_type": "markdown",
   "id": "e3527253",
   "metadata": {},
   "source": [
    "# Intervalo de confiança em medidas de média para um grupo"
   ]
  },
  {
   "cell_type": "code",
   "execution_count": 34,
   "id": "705ce01e",
   "metadata": {},
   "outputs": [
    {
     "data": {
      "text/plain": [
       "(6.001158177082324, 7.548841822917677)"
      ]
     },
     "execution_count": 34,
     "metadata": {},
     "output_type": "execute_result"
    }
   ],
   "source": [
    "df = pd.read_csv(\"data/notas.csv\")\n",
    "\n",
    "media = df[\"matematica\"].mean()\n",
    "sd = df[\"matematica\"].std()\n",
    "n = len(df)\n",
    "\n",
    "t = 2.064\n",
    "\n",
    "se = sd/np.sqrt(n)\n",
    "(media - t * se,media + t * se)"
   ]
  },
  {
   "cell_type": "code",
   "execution_count": 35,
   "id": "93879d93",
   "metadata": {},
   "outputs": [
    {
     "data": {
      "text/plain": [
       "(6.040163709956654, 7.509836290043347)"
      ]
     },
     "execution_count": 35,
     "metadata": {},
     "output_type": "execute_result"
    }
   ],
   "source": [
    "# podemos usar a biblioteca stats:\n",
    "sm.stats.DescrStatsW(df[\"matematica\"]).zconfint_mean()"
   ]
  },
  {
   "cell_type": "markdown",
   "id": "cc1ba58b",
   "metadata": {},
   "source": [
    "## Intervalo de confiança em medidas proporção comparando-as entre dois grupos\n",
    "\n",
    "A diferença entre duas proporções de amostra com base em dados independentes tem um erro padrão que reflete a incerteza combinada nas duas proporções"
   ]
  },
  {
   "cell_type": "code",
   "execution_count": 21,
   "id": "4e0ceab8",
   "metadata": {},
   "outputs": [],
   "source": [
    "# vamos comparar o a proporção de fumantes entre dois grupos: homens e mulheres\n",
    "# coluna SMQ020: 1 é fumante 2 não é fumante\n",
    "# coluna RIAGENDR: 1 é homem e 2 mulheres\n",
    "data = pd.read_csv('data/nhanes_2015_2016.csv')"
   ]
  },
  {
   "cell_type": "code",
   "execution_count": 22,
   "id": "e287c9e7",
   "metadata": {},
   "outputs": [],
   "source": [
    "homens = data[ data.RIAGENDR==1 ]\n",
    "mulheres  = data[ data.RIAGENDR==2 ]\n",
    "\n",
    "mulheres_fumantes = data[ (data.SMQ020 == 1) & (data.RIAGENDR==2) ]\n",
    "homens_fumantes = data[ (data.SMQ020 == 1) & (data.RIAGENDR==1) ]"
   ]
  },
  {
   "cell_type": "code",
   "execution_count": 24,
   "id": "588165c8",
   "metadata": {},
   "outputs": [
    {
     "data": {
      "text/plain": [
       "0.30443548387096775"
      ]
     },
     "execution_count": 24,
     "metadata": {},
     "output_type": "execute_result"
    }
   ],
   "source": [
    "p_mulheres = len(mulheres_fumantes)/len(mulheres)\n",
    "p_mulheres"
   ]
  },
  {
   "cell_type": "code",
   "execution_count": 25,
   "id": "94221558",
   "metadata": {},
   "outputs": [
    {
     "data": {
      "text/plain": [
       "0.5121420804639362"
      ]
     },
     "execution_count": 25,
     "metadata": {},
     "output_type": "execute_result"
    }
   ],
   "source": [
    "p_homens = len(homens_fumantes)/len(homens)\n",
    "p_homens"
   ]
  },
  {
   "cell_type": "markdown",
   "id": "5fea68b1",
   "metadata": {},
   "source": [
    "Como agora estamos diante de dois grupos e não apenas um, temos que ajustar o erro padrão:\n",
    "\n",
    "$$SE = \\sqrt{(SE_{\\ 1})^2 + (SE_{\\ 2})^2}$$"
   ]
  },
  {
   "cell_type": "code",
   "execution_count": 27,
   "id": "e69fb9d0",
   "metadata": {},
   "outputs": [
    {
     "data": {
      "text/plain": [
       "0.009516254762527675"
      ]
     },
     "execution_count": 27,
     "metadata": {},
     "output_type": "execute_result"
    }
   ],
   "source": [
    "se_homens = np.sqrt( (p_homens * (1-p_homens))/(len(homens)) )\n",
    "se_homens"
   ]
  },
  {
   "cell_type": "code",
   "execution_count": 28,
   "id": "fd4e95ad",
   "metadata": {},
   "outputs": [
    {
     "data": {
      "text/plain": [
       "0.008435287344906213"
      ]
     },
     "execution_count": 28,
     "metadata": {},
     "output_type": "execute_result"
    }
   ],
   "source": [
    "se_mulheres = np.sqrt( (p_mulheres * (1-p_mulheres))/(len(mulheres)) )\n",
    "se_mulheres"
   ]
  },
  {
   "cell_type": "code",
   "execution_count": 29,
   "id": "89871104",
   "metadata": {},
   "outputs": [
    {
     "data": {
      "text/plain": [
       "0.012716649609722899"
      ]
     },
     "execution_count": 29,
     "metadata": {},
     "output_type": "execute_result"
    }
   ],
   "source": [
    "se = np.sqrt(se_homens**2 + se_mulheres**2)\n",
    "se"
   ]
  },
  {
   "cell_type": "markdown",
   "id": "77fe53d6",
   "metadata": {},
   "source": [
    "Considerando 95% de confiança (o mesmo que t igual à 1.96) podemos dizer que proporção de fumantes no grupo de homens e mulheres são diferentes, pois o intervalo de confiança dessa diferença (-0,23 até -0,18) não inclui zero."
   ]
  },
  {
   "cell_type": "code",
   "execution_count": 31,
   "id": "b4fc4b1a",
   "metadata": {},
   "outputs": [
    {
     "data": {
      "text/plain": [
       "(-0.2326312298280253, -0.18278196335791153)"
      ]
     },
     "execution_count": 31,
     "metadata": {},
     "output_type": "execute_result"
    }
   ],
   "source": [
    "diff = p_mulheres - p_homens\n",
    "(diff - 1.96*se,diff + 1.96*se )"
   ]
  },
  {
   "cell_type": "markdown",
   "id": "9549fed9",
   "metadata": {},
   "source": [
    "## Intervalo de confiança em medidas média comparando-as entre dois grupos"
   ]
  },
  {
   "cell_type": "markdown",
   "id": "348fc8ca",
   "metadata": {},
   "source": [
    "Vamos usar o coluna BMXBMI que é uma medida de indice de massa corporal (Body Mass Index). Os grupos que vamos comparar são homens e mulheres:"
   ]
  },
  {
   "cell_type": "code",
   "execution_count": 38,
   "id": "113fab57",
   "metadata": {},
   "outputs": [
    {
     "data": {
      "text/plain": [
       "28.778072111846942"
      ]
     },
     "execution_count": 38,
     "metadata": {},
     "output_type": "execute_result"
    }
   ],
   "source": [
    "media_homens = np.mean(homens.BMXBMI)\n",
    "media_homens"
   ]
  },
  {
   "cell_type": "code",
   "execution_count": 39,
   "id": "eac2ab55",
   "metadata": {},
   "outputs": [
    {
     "data": {
      "text/plain": [
       "29.93994565217392"
      ]
     },
     "execution_count": 39,
     "metadata": {},
     "output_type": "execute_result"
    }
   ],
   "source": [
    "media_mulheres = np.mean(mulheres.BMXBMI)\n",
    "media_mulheres"
   ]
  },
  {
   "cell_type": "code",
   "execution_count": 41,
   "id": "b0dd305b",
   "metadata": {},
   "outputs": [
    {
     "data": {
      "text/plain": [
       "0.1190152572769987"
      ]
     },
     "execution_count": 41,
     "metadata": {},
     "output_type": "execute_result"
    }
   ],
   "source": [
    "se_homens = np.std(homens.BMXBMI)/np.sqrt(len(homens))\n",
    "se_homens"
   ]
  },
  {
   "cell_type": "code",
   "execution_count": 42,
   "id": "b6112552",
   "metadata": {},
   "outputs": [
    {
     "data": {
      "text/plain": [
       "0.14210108924105547"
      ]
     },
     "execution_count": 42,
     "metadata": {},
     "output_type": "execute_result"
    }
   ],
   "source": [
    "se_mulheres = np.std(mulheres.BMXBMI)/np.sqrt(len(mulheres))\n",
    "se_mulheres"
   ]
  },
  {
   "cell_type": "code",
   "execution_count": 45,
   "id": "dfb70790",
   "metadata": {},
   "outputs": [
    {
     "data": {
      "text/plain": [
       "0.18535736032918843"
      ]
     },
     "execution_count": 45,
     "metadata": {},
     "output_type": "execute_result"
    }
   ],
   "source": [
    "se = np.sqrt(se_homens**2 + se_mulheres**2)\n",
    "se"
   ]
  },
  {
   "cell_type": "markdown",
   "id": "ebb74423",
   "metadata": {},
   "source": [
    "A um nível de 95% de confiança podemos dizer que há diferença entre o BMI médio de homens e mulheres pois o intervalo de confiança não inclui o zero: "
   ]
  },
  {
   "cell_type": "code",
   "execution_count": 48,
   "id": "db4e2367",
   "metadata": {},
   "outputs": [
    {
     "data": {
      "text/plain": [
       "(0.7985731140817667, 1.5251739665721853)"
      ]
     },
     "execution_count": 48,
     "metadata": {},
     "output_type": "execute_result"
    }
   ],
   "source": [
    "diff = media_mulheres - media_homens\n",
    "(diff - 1.96*se,diff + 1.96*se )"
   ]
  },
  {
   "cell_type": "markdown",
   "id": "44a5b349",
   "metadata": {},
   "source": [
    "Considerações ou requisitos para aplicar esse técnica:\n",
    "\n",
    "- A amostra deve ser representativa da população alvo, isto é, a amostra deve ser independete e identicamente distribuída na população\n",
    "- Tamanho de amostra grande o suficiente. Grande o suficiente para podermos aproximar nossa distribuição amostral com uma curva normal. A medida que nosso N aumenta, nossa distribuição amostral se tornará cada vez mais mais em forma de sino. No caso de proporção n vezes p deve ser ao menos 10 e n * (1-p) também dever ser ao menos 10.\n",
    "\n",
    "Erro padrão: nos diz o quão esperamos que uma estimativa fique próxima do valor verdadeiro"
   ]
  },
  {
   "cell_type": "code",
   "execution_count": null,
   "id": "a2120139",
   "metadata": {},
   "outputs": [],
   "source": []
  }
 ],
 "metadata": {
  "kernelspec": {
   "display_name": "Python 3 (ipykernel)",
   "language": "python",
   "name": "python3"
  },
  "language_info": {
   "codemirror_mode": {
    "name": "ipython",
    "version": 3
   },
   "file_extension": ".py",
   "mimetype": "text/x-python",
   "name": "python",
   "nbconvert_exporter": "python",
   "pygments_lexer": "ipython3",
   "version": "3.8.10"
  }
 },
 "nbformat": 4,
 "nbformat_minor": 5
}
