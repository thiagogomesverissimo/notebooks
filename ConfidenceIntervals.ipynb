{
 "cells": [
  {
   "cell_type": "markdown",
   "id": "5fd397b9",
   "metadata": {},
   "source": [
    "# Intervalo de confiança em medidas de proporção"
   ]
  },
  {
   "cell_type": "code",
   "execution_count": 5,
   "id": "feb6934f",
   "metadata": {},
   "outputs": [
    {
     "data": {
      "text/plain": [
       "(0.8227373256215749, 0.8772626743784251)"
      ]
     },
     "execution_count": 5,
     "metadata": {},
     "output_type": "execute_result"
    }
   ],
   "source": [
    "\n",
    "import numpy as np\n",
    "t = 1.96\n",
    "p = .85\n",
    "n = 659\n",
    "\n",
    "se = np.sqrt((p * (1 - p))/n)\n",
    "\n",
    "(p - t * se,p + t * se)"
   ]
  },
  {
   "cell_type": "code",
   "execution_count": 6,
   "id": "8b6523a7",
   "metadata": {},
   "outputs": [
    {
     "data": {
      "text/plain": [
       "(0.8227378265796143, 0.8772621734203857)"
      ]
     },
     "execution_count": 6,
     "metadata": {},
     "output_type": "execute_result"
    }
   ],
   "source": [
    "# usando a biblioteca\n",
    "import statsmodels.api as sm\n",
    "sm.stats.proportion_confint(n * p, n)"
   ]
  },
  {
   "cell_type": "markdown",
   "id": "e3527253",
   "metadata": {},
   "source": [
    "# Intervalo de confiança em medidas de média"
   ]
  },
  {
   "cell_type": "code",
   "execution_count": 11,
   "id": "705ce01e",
   "metadata": {},
   "outputs": [
    {
     "data": {
      "text/plain": [
       "(6.001158177082324, 7.548841822917677)"
      ]
     },
     "execution_count": 11,
     "metadata": {},
     "output_type": "execute_result"
    }
   ],
   "source": [
    "\n",
    "import pandas as pd\n",
    "df = pd.read_csv(\"data/notas.csv\")\n",
    "\n",
    "media = df[\"matematica\"].mean()\n",
    "sd = df[\"matematica\"].std()\n",
    "n = len(df)\n",
    "\n",
    "t = 2.064\n",
    "\n",
    "se = sd/np.sqrt(n)\n",
    "(media - t * se,media + t * se)"
   ]
  },
  {
   "cell_type": "code",
   "execution_count": 12,
   "id": "93879d93",
   "metadata": {},
   "outputs": [
    {
     "data": {
      "text/plain": [
       "(6.040163709956654, 7.509836290043347)"
      ]
     },
     "execution_count": 12,
     "metadata": {},
     "output_type": "execute_result"
    }
   ],
   "source": [
    "# usando a biblioteca\n",
    "sm.stats.DescrStatsW(df[\"matematica\"]).zconfint_mean()"
   ]
  },
  {
   "cell_type": "code",
   "execution_count": null,
   "id": "c9d73f9e",
   "metadata": {},
   "outputs": [],
   "source": []
  }
 ],
 "metadata": {
  "kernelspec": {
   "display_name": "Python 3 (ipykernel)",
   "language": "python",
   "name": "python3"
  },
  "language_info": {
   "codemirror_mode": {
    "name": "ipython",
    "version": 3
   },
   "file_extension": ".py",
   "mimetype": "text/x-python",
   "name": "python",
   "nbconvert_exporter": "python",
   "pygments_lexer": "ipython3",
   "version": "3.8.10"
  }
 },
 "nbformat": 4,
 "nbformat_minor": 5
}
