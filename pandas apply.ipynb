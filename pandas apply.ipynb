{
 "cells": [
  {
   "cell_type": "code",
   "execution_count": 15,
   "metadata": {},
   "outputs": [
    {
     "data": {
      "text/html": [
       "<div>\n",
       "<style scoped>\n",
       "    .dataframe tbody tr th:only-of-type {\n",
       "        vertical-align: middle;\n",
       "    }\n",
       "\n",
       "    .dataframe tbody tr th {\n",
       "        vertical-align: top;\n",
       "    }\n",
       "\n",
       "    .dataframe thead th {\n",
       "        text-align: right;\n",
       "    }\n",
       "</style>\n",
       "<table border=\"1\" class=\"dataframe\">\n",
       "  <thead>\n",
       "    <tr style=\"text-align: right;\">\n",
       "      <th></th>\n",
       "      <th>COD_SETOR</th>\n",
       "      <th>COD_GRANDE</th>\n",
       "      <th>NOME_GRAND</th>\n",
       "      <th>COD_UF</th>\n",
       "      <th>NOME_DA_UF</th>\n",
       "      <th>COD_MESO</th>\n",
       "      <th>NOME_DA_ME</th>\n",
       "      <th>COD_MICRO</th>\n",
       "      <th>NOME_DA_MI</th>\n",
       "      <th>COD_RM</th>\n",
       "      <th>...</th>\n",
       "      <th>COD_DISTRI</th>\n",
       "      <th>NOME_DO_DI</th>\n",
       "      <th>COD_SUBDIS</th>\n",
       "      <th>NOME_DO_SU</th>\n",
       "      <th>COD_BAIRRO</th>\n",
       "      <th>NOME_DO_BA</th>\n",
       "      <th>SITUACAO_S</th>\n",
       "      <th>V001</th>\n",
       "      <th>V002</th>\n",
       "      <th>V003</th>\n",
       "    </tr>\n",
       "  </thead>\n",
       "  <tbody>\n",
       "    <tr>\n",
       "      <th>0</th>\n",
       "      <td>355030801000001</td>\n",
       "      <td>3</td>\n",
       "      <td>Região Sudeste</td>\n",
       "      <td>35</td>\n",
       "      <td>São Paulo</td>\n",
       "      <td>3515</td>\n",
       "      <td>Metropolitana de São Paulo</td>\n",
       "      <td>35061</td>\n",
       "      <td>São Paulo</td>\n",
       "      <td>20</td>\n",
       "      <td>...</td>\n",
       "      <td>355030801</td>\n",
       "      <td>ÁGUA RASA</td>\n",
       "      <td>35503080100</td>\n",
       "      <td>ÁGUA RASA</td>\n",
       "      <td>3550308000</td>\n",
       "      <td>SÃO PAULO (todos os setores)</td>\n",
       "      <td>1</td>\n",
       "      <td>266.0</td>\n",
       "      <td>800.0</td>\n",
       "      <td>301.0</td>\n",
       "    </tr>\n",
       "    <tr>\n",
       "      <th>1</th>\n",
       "      <td>355030801000002</td>\n",
       "      <td>3</td>\n",
       "      <td>Região Sudeste</td>\n",
       "      <td>35</td>\n",
       "      <td>São Paulo</td>\n",
       "      <td>3515</td>\n",
       "      <td>Metropolitana de São Paulo</td>\n",
       "      <td>35061</td>\n",
       "      <td>São Paulo</td>\n",
       "      <td>20</td>\n",
       "      <td>...</td>\n",
       "      <td>355030801</td>\n",
       "      <td>ÁGUA RASA</td>\n",
       "      <td>35503080100</td>\n",
       "      <td>ÁGUA RASA</td>\n",
       "      <td>3550308000</td>\n",
       "      <td>SÃO PAULO (todos os setores)</td>\n",
       "      <td>1</td>\n",
       "      <td>306.0</td>\n",
       "      <td>913.0</td>\n",
       "      <td>298.0</td>\n",
       "    </tr>\n",
       "    <tr>\n",
       "      <th>2</th>\n",
       "      <td>355030801000003</td>\n",
       "      <td>3</td>\n",
       "      <td>Região Sudeste</td>\n",
       "      <td>35</td>\n",
       "      <td>São Paulo</td>\n",
       "      <td>3515</td>\n",
       "      <td>Metropolitana de São Paulo</td>\n",
       "      <td>35061</td>\n",
       "      <td>São Paulo</td>\n",
       "      <td>20</td>\n",
       "      <td>...</td>\n",
       "      <td>355030801</td>\n",
       "      <td>ÁGUA RASA</td>\n",
       "      <td>35503080100</td>\n",
       "      <td>ÁGUA RASA</td>\n",
       "      <td>3550308000</td>\n",
       "      <td>SÃO PAULO (todos os setores)</td>\n",
       "      <td>1</td>\n",
       "      <td>189.0</td>\n",
       "      <td>625.0</td>\n",
       "      <td>331.0</td>\n",
       "    </tr>\n",
       "    <tr>\n",
       "      <th>3</th>\n",
       "      <td>355030801000004</td>\n",
       "      <td>3</td>\n",
       "      <td>Região Sudeste</td>\n",
       "      <td>35</td>\n",
       "      <td>São Paulo</td>\n",
       "      <td>3515</td>\n",
       "      <td>Metropolitana de São Paulo</td>\n",
       "      <td>35061</td>\n",
       "      <td>São Paulo</td>\n",
       "      <td>20</td>\n",
       "      <td>...</td>\n",
       "      <td>355030801</td>\n",
       "      <td>ÁGUA RASA</td>\n",
       "      <td>35503080100</td>\n",
       "      <td>ÁGUA RASA</td>\n",
       "      <td>3550308000</td>\n",
       "      <td>SÃO PAULO (todos os setores)</td>\n",
       "      <td>1</td>\n",
       "      <td>181.0</td>\n",
       "      <td>572.0</td>\n",
       "      <td>316.0</td>\n",
       "    </tr>\n",
       "    <tr>\n",
       "      <th>4</th>\n",
       "      <td>355030801000005</td>\n",
       "      <td>3</td>\n",
       "      <td>Região Sudeste</td>\n",
       "      <td>35</td>\n",
       "      <td>São Paulo</td>\n",
       "      <td>3515</td>\n",
       "      <td>Metropolitana de São Paulo</td>\n",
       "      <td>35061</td>\n",
       "      <td>São Paulo</td>\n",
       "      <td>20</td>\n",
       "      <td>...</td>\n",
       "      <td>355030801</td>\n",
       "      <td>ÁGUA RASA</td>\n",
       "      <td>35503080100</td>\n",
       "      <td>ÁGUA RASA</td>\n",
       "      <td>3550308000</td>\n",
       "      <td>SÃO PAULO (todos os setores)</td>\n",
       "      <td>1</td>\n",
       "      <td>240.0</td>\n",
       "      <td>754.0</td>\n",
       "      <td>314.0</td>\n",
       "    </tr>\n",
       "  </tbody>\n",
       "</table>\n",
       "<p>5 rows × 23 columns</p>\n",
       "</div>"
      ],
      "text/plain": [
       "         COD_SETOR  COD_GRANDE      NOME_GRAND  COD_UF NOME_DA_UF  COD_MESO  \\\n",
       "0  355030801000001           3  Região Sudeste      35  São Paulo      3515   \n",
       "1  355030801000002           3  Região Sudeste      35  São Paulo      3515   \n",
       "2  355030801000003           3  Região Sudeste      35  São Paulo      3515   \n",
       "3  355030801000004           3  Região Sudeste      35  São Paulo      3515   \n",
       "4  355030801000005           3  Região Sudeste      35  São Paulo      3515   \n",
       "\n",
       "                   NOME_DA_ME  COD_MICRO NOME_DA_MI  COD_RM  ... COD_DISTRI  \\\n",
       "0  Metropolitana de São Paulo      35061  São Paulo      20  ...  355030801   \n",
       "1  Metropolitana de São Paulo      35061  São Paulo      20  ...  355030801   \n",
       "2  Metropolitana de São Paulo      35061  São Paulo      20  ...  355030801   \n",
       "3  Metropolitana de São Paulo      35061  São Paulo      20  ...  355030801   \n",
       "4  Metropolitana de São Paulo      35061  São Paulo      20  ...  355030801   \n",
       "\n",
       "   NOME_DO_DI   COD_SUBDIS  NOME_DO_SU  COD_BAIRRO  \\\n",
       "0   ÁGUA RASA  35503080100   ÁGUA RASA  3550308000   \n",
       "1   ÁGUA RASA  35503080100   ÁGUA RASA  3550308000   \n",
       "2   ÁGUA RASA  35503080100   ÁGUA RASA  3550308000   \n",
       "3   ÁGUA RASA  35503080100   ÁGUA RASA  3550308000   \n",
       "4   ÁGUA RASA  35503080100   ÁGUA RASA  3550308000   \n",
       "\n",
       "                     NOME_DO_BA SITUACAO_S   V001   V002   V003  \n",
       "0  SÃO PAULO (todos os setores)          1  266.0  800.0  301.0  \n",
       "1  SÃO PAULO (todos os setores)          1  306.0  913.0  298.0  \n",
       "2  SÃO PAULO (todos os setores)          1  189.0  625.0  331.0  \n",
       "3  SÃO PAULO (todos os setores)          1  181.0  572.0  316.0  \n",
       "4  SÃO PAULO (todos os setores)          1  240.0  754.0  314.0  \n",
       "\n",
       "[5 rows x 23 columns]"
      ]
     },
     "execution_count": 15,
     "metadata": {},
     "output_type": "execute_result"
    }
   ],
   "source": [
    "import pandas as pd\n",
    "df = pd.read_csv('data/censo_sp.csv', encoding = \"ISO-8859-1\")\n",
    "df.head()"
   ]
  },
  {
   "cell_type": "code",
   "execution_count": 16,
   "metadata": {},
   "outputs": [],
   "source": [
    "def splitname(row):\n",
    "    row['first'] = row['NOME_DA_ME'].split(\" \")[0]\n",
    "    row['last'] = row['NOME_DA_ME'].split(\" \")[-1]\n",
    "    return row"
   ]
  },
  {
   "cell_type": "code",
   "execution_count": 17,
   "metadata": {},
   "outputs": [
    {
     "data": {
      "text/html": [
       "<div>\n",
       "<style scoped>\n",
       "    .dataframe tbody tr th:only-of-type {\n",
       "        vertical-align: middle;\n",
       "    }\n",
       "\n",
       "    .dataframe tbody tr th {\n",
       "        vertical-align: top;\n",
       "    }\n",
       "\n",
       "    .dataframe thead th {\n",
       "        text-align: right;\n",
       "    }\n",
       "</style>\n",
       "<table border=\"1\" class=\"dataframe\">\n",
       "  <thead>\n",
       "    <tr style=\"text-align: right;\">\n",
       "      <th></th>\n",
       "      <th>COD_SETOR</th>\n",
       "      <th>COD_GRANDE</th>\n",
       "      <th>NOME_GRAND</th>\n",
       "      <th>COD_UF</th>\n",
       "      <th>NOME_DA_UF</th>\n",
       "      <th>COD_MESO</th>\n",
       "      <th>NOME_DA_ME</th>\n",
       "      <th>COD_MICRO</th>\n",
       "      <th>NOME_DA_MI</th>\n",
       "      <th>COD_RM</th>\n",
       "      <th>...</th>\n",
       "      <th>COD_SUBDIS</th>\n",
       "      <th>NOME_DO_SU</th>\n",
       "      <th>COD_BAIRRO</th>\n",
       "      <th>NOME_DO_BA</th>\n",
       "      <th>SITUACAO_S</th>\n",
       "      <th>V001</th>\n",
       "      <th>V002</th>\n",
       "      <th>V003</th>\n",
       "      <th>first</th>\n",
       "      <th>last</th>\n",
       "    </tr>\n",
       "  </thead>\n",
       "  <tbody>\n",
       "    <tr>\n",
       "      <th>0</th>\n",
       "      <td>355030801000001</td>\n",
       "      <td>3</td>\n",
       "      <td>Região Sudeste</td>\n",
       "      <td>35</td>\n",
       "      <td>São Paulo</td>\n",
       "      <td>3515</td>\n",
       "      <td>Metropolitana de São Paulo</td>\n",
       "      <td>35061</td>\n",
       "      <td>São Paulo</td>\n",
       "      <td>20</td>\n",
       "      <td>...</td>\n",
       "      <td>35503080100</td>\n",
       "      <td>ÁGUA RASA</td>\n",
       "      <td>3550308000</td>\n",
       "      <td>SÃO PAULO (todos os setores)</td>\n",
       "      <td>1</td>\n",
       "      <td>266.0</td>\n",
       "      <td>800.0</td>\n",
       "      <td>301.0</td>\n",
       "      <td>Metropolitana</td>\n",
       "      <td>Paulo</td>\n",
       "    </tr>\n",
       "    <tr>\n",
       "      <th>1</th>\n",
       "      <td>355030801000002</td>\n",
       "      <td>3</td>\n",
       "      <td>Região Sudeste</td>\n",
       "      <td>35</td>\n",
       "      <td>São Paulo</td>\n",
       "      <td>3515</td>\n",
       "      <td>Metropolitana de São Paulo</td>\n",
       "      <td>35061</td>\n",
       "      <td>São Paulo</td>\n",
       "      <td>20</td>\n",
       "      <td>...</td>\n",
       "      <td>35503080100</td>\n",
       "      <td>ÁGUA RASA</td>\n",
       "      <td>3550308000</td>\n",
       "      <td>SÃO PAULO (todos os setores)</td>\n",
       "      <td>1</td>\n",
       "      <td>306.0</td>\n",
       "      <td>913.0</td>\n",
       "      <td>298.0</td>\n",
       "      <td>Metropolitana</td>\n",
       "      <td>Paulo</td>\n",
       "    </tr>\n",
       "    <tr>\n",
       "      <th>2</th>\n",
       "      <td>355030801000003</td>\n",
       "      <td>3</td>\n",
       "      <td>Região Sudeste</td>\n",
       "      <td>35</td>\n",
       "      <td>São Paulo</td>\n",
       "      <td>3515</td>\n",
       "      <td>Metropolitana de São Paulo</td>\n",
       "      <td>35061</td>\n",
       "      <td>São Paulo</td>\n",
       "      <td>20</td>\n",
       "      <td>...</td>\n",
       "      <td>35503080100</td>\n",
       "      <td>ÁGUA RASA</td>\n",
       "      <td>3550308000</td>\n",
       "      <td>SÃO PAULO (todos os setores)</td>\n",
       "      <td>1</td>\n",
       "      <td>189.0</td>\n",
       "      <td>625.0</td>\n",
       "      <td>331.0</td>\n",
       "      <td>Metropolitana</td>\n",
       "      <td>Paulo</td>\n",
       "    </tr>\n",
       "    <tr>\n",
       "      <th>3</th>\n",
       "      <td>355030801000004</td>\n",
       "      <td>3</td>\n",
       "      <td>Região Sudeste</td>\n",
       "      <td>35</td>\n",
       "      <td>São Paulo</td>\n",
       "      <td>3515</td>\n",
       "      <td>Metropolitana de São Paulo</td>\n",
       "      <td>35061</td>\n",
       "      <td>São Paulo</td>\n",
       "      <td>20</td>\n",
       "      <td>...</td>\n",
       "      <td>35503080100</td>\n",
       "      <td>ÁGUA RASA</td>\n",
       "      <td>3550308000</td>\n",
       "      <td>SÃO PAULO (todos os setores)</td>\n",
       "      <td>1</td>\n",
       "      <td>181.0</td>\n",
       "      <td>572.0</td>\n",
       "      <td>316.0</td>\n",
       "      <td>Metropolitana</td>\n",
       "      <td>Paulo</td>\n",
       "    </tr>\n",
       "    <tr>\n",
       "      <th>4</th>\n",
       "      <td>355030801000005</td>\n",
       "      <td>3</td>\n",
       "      <td>Região Sudeste</td>\n",
       "      <td>35</td>\n",
       "      <td>São Paulo</td>\n",
       "      <td>3515</td>\n",
       "      <td>Metropolitana de São Paulo</td>\n",
       "      <td>35061</td>\n",
       "      <td>São Paulo</td>\n",
       "      <td>20</td>\n",
       "      <td>...</td>\n",
       "      <td>35503080100</td>\n",
       "      <td>ÁGUA RASA</td>\n",
       "      <td>3550308000</td>\n",
       "      <td>SÃO PAULO (todos os setores)</td>\n",
       "      <td>1</td>\n",
       "      <td>240.0</td>\n",
       "      <td>754.0</td>\n",
       "      <td>314.0</td>\n",
       "      <td>Metropolitana</td>\n",
       "      <td>Paulo</td>\n",
       "    </tr>\n",
       "  </tbody>\n",
       "</table>\n",
       "<p>5 rows × 25 columns</p>\n",
       "</div>"
      ],
      "text/plain": [
       "         COD_SETOR  COD_GRANDE      NOME_GRAND  COD_UF NOME_DA_UF  COD_MESO  \\\n",
       "0  355030801000001           3  Região Sudeste      35  São Paulo      3515   \n",
       "1  355030801000002           3  Região Sudeste      35  São Paulo      3515   \n",
       "2  355030801000003           3  Região Sudeste      35  São Paulo      3515   \n",
       "3  355030801000004           3  Região Sudeste      35  São Paulo      3515   \n",
       "4  355030801000005           3  Região Sudeste      35  São Paulo      3515   \n",
       "\n",
       "                   NOME_DA_ME  COD_MICRO NOME_DA_MI  COD_RM  ...   COD_SUBDIS  \\\n",
       "0  Metropolitana de São Paulo      35061  São Paulo      20  ...  35503080100   \n",
       "1  Metropolitana de São Paulo      35061  São Paulo      20  ...  35503080100   \n",
       "2  Metropolitana de São Paulo      35061  São Paulo      20  ...  35503080100   \n",
       "3  Metropolitana de São Paulo      35061  São Paulo      20  ...  35503080100   \n",
       "4  Metropolitana de São Paulo      35061  São Paulo      20  ...  35503080100   \n",
       "\n",
       "   NOME_DO_SU  COD_BAIRRO                    NOME_DO_BA SITUACAO_S   V001  \\\n",
       "0   ÁGUA RASA  3550308000  SÃO PAULO (todos os setores)          1  266.0   \n",
       "1   ÁGUA RASA  3550308000  SÃO PAULO (todos os setores)          1  306.0   \n",
       "2   ÁGUA RASA  3550308000  SÃO PAULO (todos os setores)          1  189.0   \n",
       "3   ÁGUA RASA  3550308000  SÃO PAULO (todos os setores)          1  181.0   \n",
       "4   ÁGUA RASA  3550308000  SÃO PAULO (todos os setores)          1  240.0   \n",
       "\n",
       "    V002   V003          first   last  \n",
       "0  800.0  301.0  Metropolitana  Paulo  \n",
       "1  913.0  298.0  Metropolitana  Paulo  \n",
       "2  625.0  331.0  Metropolitana  Paulo  \n",
       "3  572.0  316.0  Metropolitana  Paulo  \n",
       "4  754.0  314.0  Metropolitana  Paulo  \n",
       "\n",
       "[5 rows x 25 columns]"
      ]
     },
     "execution_count": 17,
     "metadata": {},
     "output_type": "execute_result"
    }
   ],
   "source": [
    "df=df.apply(splitname,axis='columns')\n",
    "df.head()"
   ]
  },
  {
   "cell_type": "code",
   "execution_count": 18,
   "metadata": {},
   "outputs": [],
   "source": [
    "del(df['first'])\n",
    "del(df['last'])"
   ]
  },
  {
   "cell_type": "code",
   "execution_count": 20,
   "metadata": {},
   "outputs": [
    {
     "data": {
      "text/html": [
       "<div>\n",
       "<style scoped>\n",
       "    .dataframe tbody tr th:only-of-type {\n",
       "        vertical-align: middle;\n",
       "    }\n",
       "\n",
       "    .dataframe tbody tr th {\n",
       "        vertical-align: top;\n",
       "    }\n",
       "\n",
       "    .dataframe thead th {\n",
       "        text-align: right;\n",
       "    }\n",
       "</style>\n",
       "<table border=\"1\" class=\"dataframe\">\n",
       "  <thead>\n",
       "    <tr style=\"text-align: right;\">\n",
       "      <th></th>\n",
       "      <th>First</th>\n",
       "      <th>Last</th>\n",
       "    </tr>\n",
       "  </thead>\n",
       "  <tbody>\n",
       "    <tr>\n",
       "      <th>0</th>\n",
       "      <td>Metropolitana</td>\n",
       "      <td>Paulo</td>\n",
       "    </tr>\n",
       "    <tr>\n",
       "      <th>1</th>\n",
       "      <td>Metropolitana</td>\n",
       "      <td>Paulo</td>\n",
       "    </tr>\n",
       "    <tr>\n",
       "      <th>2</th>\n",
       "      <td>Metropolitana</td>\n",
       "      <td>Paulo</td>\n",
       "    </tr>\n",
       "    <tr>\n",
       "      <th>3</th>\n",
       "      <td>Metropolitana</td>\n",
       "      <td>Paulo</td>\n",
       "    </tr>\n",
       "    <tr>\n",
       "      <th>4</th>\n",
       "      <td>Metropolitana</td>\n",
       "      <td>Paulo</td>\n",
       "    </tr>\n",
       "  </tbody>\n",
       "</table>\n",
       "</div>"
      ],
      "text/plain": [
       "           First   Last\n",
       "0  Metropolitana  Paulo\n",
       "1  Metropolitana  Paulo\n",
       "2  Metropolitana  Paulo\n",
       "3  Metropolitana  Paulo\n",
       "4  Metropolitana  Paulo"
      ]
     },
     "execution_count": 20,
     "metadata": {},
     "output_type": "execute_result"
    }
   ],
   "source": [
    "# pergar só a primeira e a última palavra de NOME_DA_ME\n",
    "pattern=\"(?P<First>^[\\w]*)(?:.* )(?P<Last>[\\w]*$)\"\n",
    "\n",
    "df['NOME_DA_ME'].str.extract(pattern).head()"
   ]
  },
  {
   "cell_type": "code",
   "execution_count": 52,
   "metadata": {},
   "outputs": [
    {
     "data": {
      "text/plain": [
       "Index(['cod_setor', 'cod_grande', 'nome_grand', 'cod_uf', 'nome_da_uf',\n",
       "       'cod_meso', 'nome_da_me', 'cod_micro', 'nome_da_mi', 'cod_rm',\n",
       "       'nome_da_rm', 'cod_munici', 'nome_do_mu', 'cod_distri', 'nome_do_di',\n",
       "       'cod_subdis', 'nome_do_su', 'cod_bairro', 'nome_do_ba', 'situacao_s',\n",
       "       'v001', 'v002', 'v003'],\n",
       "      dtype='object')"
      ]
     },
     "execution_count": 52,
     "metadata": {},
     "output_type": "execute_result"
    }
   ],
   "source": [
    "df = pd.read_csv('data/censo_sp.csv', encoding = \"ISO-8859-1\")\n",
    "\n",
    "df.rename(mapper = lambda x: x.lower(), axis='columns').columns"
   ]
  },
  {
   "cell_type": "code",
   "execution_count": 75,
   "metadata": {},
   "outputs": [
    {
     "data": {
      "text/html": [
       "<div>\n",
       "<style scoped>\n",
       "    .dataframe tbody tr th:only-of-type {\n",
       "        vertical-align: middle;\n",
       "    }\n",
       "\n",
       "    .dataframe tbody tr th {\n",
       "        vertical-align: top;\n",
       "    }\n",
       "\n",
       "    .dataframe thead th {\n",
       "        text-align: right;\n",
       "    }\n",
       "</style>\n",
       "<table border=\"1\" class=\"dataframe\">\n",
       "  <thead>\n",
       "    <tr style=\"text-align: right;\">\n",
       "      <th></th>\n",
       "      <th>gre score</th>\n",
       "      <th>toelf score</th>\n",
       "    </tr>\n",
       "    <tr>\n",
       "      <th>id</th>\n",
       "      <th></th>\n",
       "      <th></th>\n",
       "    </tr>\n",
       "  </thead>\n",
       "  <tbody>\n",
       "    <tr>\n",
       "      <th>1</th>\n",
       "      <td>337</td>\n",
       "      <td>118</td>\n",
       "    </tr>\n",
       "    <tr>\n",
       "      <th>2</th>\n",
       "      <td>324</td>\n",
       "      <td>107</td>\n",
       "    </tr>\n",
       "    <tr>\n",
       "      <th>3</th>\n",
       "      <td>316</td>\n",
       "      <td>104</td>\n",
       "    </tr>\n",
       "    <tr>\n",
       "      <th>4</th>\n",
       "      <td>322</td>\n",
       "      <td>110</td>\n",
       "    </tr>\n",
       "    <tr>\n",
       "      <th>5</th>\n",
       "      <td>314</td>\n",
       "      <td>103</td>\n",
       "    </tr>\n",
       "  </tbody>\n",
       "</table>\n",
       "</div>"
      ],
      "text/plain": [
       "    gre score  toelf score\n",
       "id                        \n",
       "1         337          118\n",
       "2         324          107\n",
       "3         316          104\n",
       "4         322          110\n",
       "5         314          103"
      ]
     },
     "execution_count": 75,
     "metadata": {},
     "output_type": "execute_result"
    }
   ],
   "source": [
    "df = pd.read_csv('data/grades.csv', index_col='id')\n",
    "df"
   ]
  },
  {
   "cell_type": "code",
   "execution_count": 77,
   "metadata": {},
   "outputs": [
    {
     "data": {
      "text/html": [
       "<div>\n",
       "<style scoped>\n",
       "    .dataframe tbody tr th:only-of-type {\n",
       "        vertical-align: middle;\n",
       "    }\n",
       "\n",
       "    .dataframe tbody tr th {\n",
       "        vertical-align: top;\n",
       "    }\n",
       "\n",
       "    .dataframe thead th {\n",
       "        text-align: right;\n",
       "    }\n",
       "</style>\n",
       "<table border=\"1\" class=\"dataframe\">\n",
       "  <thead>\n",
       "    <tr style=\"text-align: right;\">\n",
       "      <th></th>\n",
       "      <th>gre score</th>\n",
       "      <th>toelf score</th>\n",
       "    </tr>\n",
       "    <tr>\n",
       "      <th>id</th>\n",
       "      <th></th>\n",
       "      <th></th>\n",
       "    </tr>\n",
       "  </thead>\n",
       "  <tbody>\n",
       "    <tr>\n",
       "      <th>1</th>\n",
       "      <td>337.0</td>\n",
       "      <td>118.0</td>\n",
       "    </tr>\n",
       "    <tr>\n",
       "      <th>2</th>\n",
       "      <td>324.0</td>\n",
       "      <td>107.0</td>\n",
       "    </tr>\n",
       "    <tr>\n",
       "      <th>4</th>\n",
       "      <td>322.0</td>\n",
       "      <td>110.0</td>\n",
       "    </tr>\n",
       "  </tbody>\n",
       "</table>\n",
       "</div>"
      ],
      "text/plain": [
       "    gre score  toelf score\n",
       "id                        \n",
       "1       337.0        118.0\n",
       "2       324.0        107.0\n",
       "4       322.0        110.0"
      ]
     },
     "execution_count": 77,
     "metadata": {},
     "output_type": "execute_result"
    }
   ],
   "source": [
    "df.where(df['toelf score']>105).dropna()"
   ]
  },
  {
   "cell_type": "code",
   "execution_count": 78,
   "metadata": {},
   "outputs": [
    {
     "data": {
      "text/html": [
       "<div>\n",
       "<style scoped>\n",
       "    .dataframe tbody tr th:only-of-type {\n",
       "        vertical-align: middle;\n",
       "    }\n",
       "\n",
       "    .dataframe tbody tr th {\n",
       "        vertical-align: top;\n",
       "    }\n",
       "\n",
       "    .dataframe thead th {\n",
       "        text-align: right;\n",
       "    }\n",
       "</style>\n",
       "<table border=\"1\" class=\"dataframe\">\n",
       "  <thead>\n",
       "    <tr style=\"text-align: right;\">\n",
       "      <th></th>\n",
       "      <th>gre score</th>\n",
       "      <th>toelf score</th>\n",
       "    </tr>\n",
       "    <tr>\n",
       "      <th>id</th>\n",
       "      <th></th>\n",
       "      <th></th>\n",
       "    </tr>\n",
       "  </thead>\n",
       "  <tbody>\n",
       "    <tr>\n",
       "      <th>1</th>\n",
       "      <td>337</td>\n",
       "      <td>118</td>\n",
       "    </tr>\n",
       "    <tr>\n",
       "      <th>2</th>\n",
       "      <td>324</td>\n",
       "      <td>107</td>\n",
       "    </tr>\n",
       "    <tr>\n",
       "      <th>4</th>\n",
       "      <td>322</td>\n",
       "      <td>110</td>\n",
       "    </tr>\n",
       "  </tbody>\n",
       "</table>\n",
       "</div>"
      ],
      "text/plain": [
       "    gre score  toelf score\n",
       "id                        \n",
       "1         337          118\n",
       "2         324          107\n",
       "4         322          110"
      ]
     },
     "execution_count": 78,
     "metadata": {},
     "output_type": "execute_result"
    }
   ],
   "source": [
    "df[df['toelf score']>105]"
   ]
  },
  {
   "cell_type": "code",
   "execution_count": 85,
   "metadata": {},
   "outputs": [
    {
     "data": {
      "text/html": [
       "<div>\n",
       "<style scoped>\n",
       "    .dataframe tbody tr th:only-of-type {\n",
       "        vertical-align: middle;\n",
       "    }\n",
       "\n",
       "    .dataframe tbody tr th {\n",
       "        vertical-align: top;\n",
       "    }\n",
       "\n",
       "    .dataframe thead th {\n",
       "        text-align: right;\n",
       "    }\n",
       "</style>\n",
       "<table border=\"1\" class=\"dataframe\">\n",
       "  <thead>\n",
       "    <tr style=\"text-align: right;\">\n",
       "      <th></th>\n",
       "      <th>toelf score</th>\n",
       "    </tr>\n",
       "    <tr>\n",
       "      <th>id</th>\n",
       "      <th></th>\n",
       "    </tr>\n",
       "  </thead>\n",
       "  <tbody>\n",
       "    <tr>\n",
       "      <th>1</th>\n",
       "      <td>118</td>\n",
       "    </tr>\n",
       "    <tr>\n",
       "      <th>2</th>\n",
       "      <td>107</td>\n",
       "    </tr>\n",
       "    <tr>\n",
       "      <th>3</th>\n",
       "      <td>104</td>\n",
       "    </tr>\n",
       "    <tr>\n",
       "      <th>4</th>\n",
       "      <td>110</td>\n",
       "    </tr>\n",
       "    <tr>\n",
       "      <th>5</th>\n",
       "      <td>103</td>\n",
       "    </tr>\n",
       "  </tbody>\n",
       "</table>\n",
       "</div>"
      ],
      "text/plain": [
       "    toelf score\n",
       "id             \n",
       "1           118\n",
       "2           107\n",
       "3           104\n",
       "4           110\n",
       "5           103"
      ]
     },
     "execution_count": 85,
     "metadata": {},
     "output_type": "execute_result"
    }
   ],
   "source": [
    "df.drop('gre score',axis=1)"
   ]
  },
  {
   "cell_type": "code",
   "execution_count": 86,
   "metadata": {},
   "outputs": [],
   "source": [
    "s1 = pd.Series({1: 'Alice', 2: 'Jack', 3: 'Molly'})\n",
    "s2 = pd.Series({'Alice': 1, 'Jack': 2, 'Molly': 3})"
   ]
  },
  {
   "cell_type": "code",
   "execution_count": 88,
   "metadata": {},
   "outputs": [
    {
     "data": {
      "text/plain": [
       "1    Alice\n",
       "2     Jack\n",
       "3    Molly\n",
       "dtype: object"
      ]
     },
     "execution_count": 88,
     "metadata": {},
     "output_type": "execute_result"
    }
   ],
   "source": [
    "s1"
   ]
  },
  {
   "cell_type": "code",
   "execution_count": 89,
   "metadata": {},
   "outputs": [
    {
     "data": {
      "text/plain": [
       "Alice    1\n",
       "Jack     2\n",
       "Molly    3\n",
       "dtype: int64"
      ]
     },
     "execution_count": 89,
     "metadata": {},
     "output_type": "execute_result"
    }
   ],
   "source": [
    "s2"
   ]
  },
  {
   "cell_type": "code",
   "execution_count": 90,
   "metadata": {},
   "outputs": [
    {
     "data": {
      "text/plain": [
       "2"
      ]
     },
     "execution_count": 90,
     "metadata": {},
     "output_type": "execute_result"
    }
   ],
   "source": [
    "s2[1]"
   ]
  },
  {
   "cell_type": "code",
   "execution_count": 91,
   "metadata": {},
   "outputs": [
    {
     "data": {
      "text/plain": [
       "2"
      ]
     },
     "execution_count": 91,
     "metadata": {},
     "output_type": "execute_result"
    }
   ],
   "source": [
    "s2.iloc[1]"
   ]
  },
  {
   "cell_type": "code",
   "execution_count": 97,
   "metadata": {},
   "outputs": [
    {
     "name": "stdout",
     "output_type": "stream",
     "text": [
      "(1, 'Alice')\n",
      "(2, 'Jack')\n",
      "(3, 'Molly')\n"
     ]
    }
   ],
   "source": [
    "for a in s1.iteritems():\n",
    "    print (a)"
   ]
  },
  {
   "cell_type": "code",
   "execution_count": 99,
   "metadata": {},
   "outputs": [
    {
     "data": {
      "text/plain": [
       "1        Alice\n",
       "2         Jack\n",
       "3        Molly\n",
       "Alice        1\n",
       "Jack         2\n",
       "Molly        3\n",
       "dtype: object"
      ]
     },
     "execution_count": 99,
     "metadata": {},
     "output_type": "execute_result"
    }
   ],
   "source": [
    "s1.append(s2)"
   ]
  },
  {
   "cell_type": "code",
   "execution_count": 101,
   "metadata": {},
   "outputs": [
    {
     "data": {
      "text/html": [
       "<div>\n",
       "<style scoped>\n",
       "    .dataframe tbody tr th:only-of-type {\n",
       "        vertical-align: middle;\n",
       "    }\n",
       "\n",
       "    .dataframe tbody tr th {\n",
       "        vertical-align: top;\n",
       "    }\n",
       "\n",
       "    .dataframe thead th {\n",
       "        text-align: right;\n",
       "    }\n",
       "</style>\n",
       "<table border=\"1\" class=\"dataframe\">\n",
       "  <thead>\n",
       "    <tr style=\"text-align: right;\">\n",
       "      <th></th>\n",
       "      <th>gre score</th>\n",
       "      <th>toelf score</th>\n",
       "    </tr>\n",
       "    <tr>\n",
       "      <th>id</th>\n",
       "      <th></th>\n",
       "      <th></th>\n",
       "    </tr>\n",
       "  </thead>\n",
       "  <tbody>\n",
       "    <tr>\n",
       "      <th>1</th>\n",
       "      <td>337</td>\n",
       "      <td>118</td>\n",
       "    </tr>\n",
       "    <tr>\n",
       "      <th>2</th>\n",
       "      <td>324</td>\n",
       "      <td>107</td>\n",
       "    </tr>\n",
       "    <tr>\n",
       "      <th>3</th>\n",
       "      <td>316</td>\n",
       "      <td>104</td>\n",
       "    </tr>\n",
       "    <tr>\n",
       "      <th>4</th>\n",
       "      <td>322</td>\n",
       "      <td>110</td>\n",
       "    </tr>\n",
       "    <tr>\n",
       "      <th>5</th>\n",
       "      <td>314</td>\n",
       "      <td>103</td>\n",
       "    </tr>\n",
       "  </tbody>\n",
       "</table>\n",
       "</div>"
      ],
      "text/plain": [
       "    gre score  toelf score\n",
       "id                        \n",
       "1         337          118\n",
       "2         324          107\n",
       "3         316          104\n",
       "4         322          110\n",
       "5         314          103"
      ]
     },
     "execution_count": 101,
     "metadata": {},
     "output_type": "execute_result"
    }
   ],
   "source": [
    "df = pd.read_csv('data/grades.csv', index_col='id')\n",
    "df"
   ]
  },
  {
   "cell_type": "code",
   "execution_count": 104,
   "metadata": {},
   "outputs": [
    {
     "data": {
      "text/html": [
       "<div>\n",
       "<style scoped>\n",
       "    .dataframe tbody tr th:only-of-type {\n",
       "        vertical-align: middle;\n",
       "    }\n",
       "\n",
       "    .dataframe tbody tr th {\n",
       "        vertical-align: top;\n",
       "    }\n",
       "\n",
       "    .dataframe thead th {\n",
       "        text-align: right;\n",
       "    }\n",
       "</style>\n",
       "<table border=\"1\" class=\"dataframe\">\n",
       "  <thead>\n",
       "    <tr style=\"text-align: right;\">\n",
       "      <th></th>\n",
       "      <th>gre score</th>\n",
       "      <th>toelf score</th>\n",
       "    </tr>\n",
       "    <tr>\n",
       "      <th>id</th>\n",
       "      <th></th>\n",
       "      <th></th>\n",
       "    </tr>\n",
       "  </thead>\n",
       "  <tbody>\n",
       "    <tr>\n",
       "      <th>2</th>\n",
       "      <td>324</td>\n",
       "      <td>107</td>\n",
       "    </tr>\n",
       "    <tr>\n",
       "      <th>4</th>\n",
       "      <td>322</td>\n",
       "      <td>110</td>\n",
       "    </tr>\n",
       "  </tbody>\n",
       "</table>\n",
       "</div>"
      ],
      "text/plain": [
       "    gre score  toelf score\n",
       "id                        \n",
       "2         324          107\n",
       "4         322          110"
      ]
     },
     "execution_count": 104,
     "metadata": {},
     "output_type": "execute_result"
    }
   ],
   "source": [
    "df[(df['toelf score']>105) & (df['toelf score']<115)]"
   ]
  },
  {
   "cell_type": "code",
   "execution_count": 110,
   "metadata": {},
   "outputs": [
    {
     "data": {
      "text/plain": [
       "id\n",
       "1    False\n",
       "2     True\n",
       "3    False\n",
       "4     True\n",
       "5    False\n",
       "Name: toelf score, dtype: bool"
      ]
     },
     "execution_count": 110,
     "metadata": {},
     "output_type": "execute_result"
    }
   ],
   "source": [
    "df['toelf score'].isin(range(106, 115))"
   ]
  },
  {
   "cell_type": "code",
   "execution_count": 111,
   "metadata": {},
   "outputs": [
    {
     "data": {
      "text/html": [
       "<div>\n",
       "<style scoped>\n",
       "    .dataframe tbody tr th:only-of-type {\n",
       "        vertical-align: middle;\n",
       "    }\n",
       "\n",
       "    .dataframe tbody tr th {\n",
       "        vertical-align: top;\n",
       "    }\n",
       "\n",
       "    .dataframe thead th {\n",
       "        text-align: right;\n",
       "    }\n",
       "</style>\n",
       "<table border=\"1\" class=\"dataframe\">\n",
       "  <thead>\n",
       "    <tr style=\"text-align: right;\">\n",
       "      <th></th>\n",
       "      <th>gre score</th>\n",
       "      <th>toelf score</th>\n",
       "    </tr>\n",
       "    <tr>\n",
       "      <th>id</th>\n",
       "      <th></th>\n",
       "      <th></th>\n",
       "    </tr>\n",
       "  </thead>\n",
       "  <tbody>\n",
       "    <tr>\n",
       "      <th>1</th>\n",
       "      <td>337</td>\n",
       "      <td>118</td>\n",
       "    </tr>\n",
       "    <tr>\n",
       "      <th>2</th>\n",
       "      <td>324</td>\n",
       "      <td>107</td>\n",
       "    </tr>\n",
       "    <tr>\n",
       "      <th>3</th>\n",
       "      <td>316</td>\n",
       "      <td>104</td>\n",
       "    </tr>\n",
       "    <tr>\n",
       "      <th>4</th>\n",
       "      <td>322</td>\n",
       "      <td>110</td>\n",
       "    </tr>\n",
       "    <tr>\n",
       "      <th>5</th>\n",
       "      <td>314</td>\n",
       "      <td>103</td>\n",
       "    </tr>\n",
       "  </tbody>\n",
       "</table>\n",
       "</div>"
      ],
      "text/plain": [
       "    gre score  toelf score\n",
       "id                        \n",
       "1         337          118\n",
       "2         324          107\n",
       "3         316          104\n",
       "4         322          110\n",
       "5         314          103"
      ]
     },
     "execution_count": 111,
     "metadata": {},
     "output_type": "execute_result"
    }
   ],
   "source": [
    "df"
   ]
  },
  {
   "cell_type": "code",
   "execution_count": 117,
   "metadata": {},
   "outputs": [
    {
     "data": {
      "text/plain": [
       "gre score      337\n",
       "toelf score    118\n",
       "Name: 1, dtype: int64"
      ]
     },
     "execution_count": 117,
     "metadata": {},
     "output_type": "execute_result"
    }
   ],
   "source": [
    "df.T[1]"
   ]
  },
  {
   "cell_type": "code",
   "execution_count": null,
   "metadata": {},
   "outputs": [],
   "source": []
  }
 ],
 "metadata": {
  "kernelspec": {
   "display_name": "Python 3",
   "language": "python",
   "name": "python3"
  },
  "language_info": {
   "codemirror_mode": {
    "name": "ipython",
    "version": 3
   },
   "file_extension": ".py",
   "mimetype": "text/x-python",
   "name": "python",
   "nbconvert_exporter": "python",
   "pygments_lexer": "ipython3",
   "version": "3.7.3"
  }
 },
 "nbformat": 4,
 "nbformat_minor": 2
}
