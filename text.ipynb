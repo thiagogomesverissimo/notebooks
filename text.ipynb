{
 "cells": [
  {
   "cell_type": "code",
   "execution_count": 1,
   "metadata": {},
   "outputs": [],
   "source": [
    "import re\n",
    "text = 'Cada qual sabe amar a seu modo; o modo, pouco importa; o essencial é que saiba amar'"
   ]
  },
  {
   "cell_type": "code",
   "execution_count": 5,
   "metadata": {},
   "outputs": [
    {
     "name": "stdout",
     "output_type": "stream",
     "text": [
      "Tem modo, mas quantos?\n"
     ]
    }
   ],
   "source": [
    "if re.search(\"modo\",text):\n",
    "    print(\"Tem modo, mas quantos?\")"
   ]
  },
  {
   "cell_type": "code",
   "execution_count": 8,
   "metadata": {},
   "outputs": [
    {
     "data": {
      "text/plain": [
       "['modo', 'modo']"
      ]
     },
     "execution_count": 8,
     "metadata": {},
     "output_type": "execute_result"
    }
   ],
   "source": [
    "re.findall('modo',text)"
   ]
  },
  {
   "cell_type": "code",
   "execution_count": 11,
   "metadata": {},
   "outputs": [
    {
     "data": {
      "text/plain": [
       "<re.Match object; span=(0, 1), match='C'>"
      ]
     },
     "execution_count": 11,
     "metadata": {},
     "output_type": "execute_result"
    }
   ],
   "source": [
    "re.search(\"^C\",text)"
   ]
  },
  {
   "cell_type": "code",
   "execution_count": 13,
   "metadata": {},
   "outputs": [
    {
     "data": {
      "text/plain": [
       "['amar', 'modo', 'modo', 'amar']"
      ]
     },
     "execution_count": 13,
     "metadata": {},
     "output_type": "execute_result"
    }
   ],
   "source": [
    "re.findall('modo|amar',text)"
   ]
  },
  {
   "cell_type": "code",
   "execution_count": 17,
   "metadata": {},
   "outputs": [],
   "source": [
    "with open('data//dom_casmurro.txt') as file:\n",
    "    dom=file.read()"
   ]
  },
  {
   "cell_type": "code",
   "execution_count": 31,
   "metadata": {},
   "outputs": [
    {
     "data": {
      "text/plain": [
       "[('CAPI TULO', ' VI '),\n",
       " ('CAPI TULO', ' IX '),\n",
       " ('CAPI TULO', ' X '),\n",
       " ('CAPI TULO', ' XII '),\n",
       " ('CAPI TULO', ' XVI '),\n",
       " ('CAPI TULO', ' XXI '),\n",
       " ('CAPI TULO', ' XXIV '),\n",
       " ('CAPI TULO', ' XXV '),\n",
       " ('CAPI TULO', ' XXVI '),\n",
       " ('CAPI TULO', ' XXIX '),\n",
       " ('CAPI TULO', ' XXX '),\n",
       " ('CAPI TULO', ' XXXIV '),\n",
       " ('CAPI TULO', ' XXXIX '),\n",
       " ('CAPI TULO', ' XLI '),\n",
       " ('CAPI TULO', ' XLI I '),\n",
       " ('CAPI TULO', ' XLIII '),\n",
       " ('CAPI TULO', ' LIV '),\n",
       " ('CAPI TULO', ' LV '),\n",
       " ('CAPI TULO', ' LIX '),\n",
       " ('CAPI TULO', ' LXI '),\n",
       " ('CAPI TULO', ' LXVII '),\n",
       " ('CAPI TULO', ' LXXIX '),\n",
       " ('CAPI TULO', ' LXXXI V '),\n",
       " ('CAPI TULO', ' LXXXV '),\n",
       " ('CAPI TULO', ' LXXXVI I '),\n",
       " ('CAPI TULO', ' LXXXIX '),\n",
       " ('CAPI TULO', ' XC '),\n",
       " ('CAPI TULO', ' XCI '),\n",
       " ('CAPI TULO', ' C '),\n",
       " ('CAPI TULO', ' Cl I '),\n",
       " ('CAPI TULO', ' CVI I '),\n",
       " ('CAPI TULO', ' CIX '),\n",
       " ('CAPI TULO', ' CXXXI '),\n",
       " ('CAPI TULO', ' CXLI I '),\n",
       " ('CAPI TULO', ' CXLVI '),\n",
       " ('CAPI TULO', ' CXLVI I '),\n",
       " ('CAPI TULO', ' CXLVI 1 1 ')]"
      ]
     },
     "execution_count": 31,
     "metadata": {},
     "output_type": "execute_result"
    }
   ],
   "source": [
    "re.findall(\"(CAPI TULO)([\\w ]*)\",dom)"
   ]
  },
  {
   "cell_type": "code",
   "execution_count": 33,
   "metadata": {},
   "outputs": [
    {
     "name": "stdout",
     "output_type": "stream",
     "text": [
      "('CAPI TULO', ' VI ')\n",
      "('CAPI TULO', ' IX ')\n",
      "('CAPI TULO', ' X ')\n",
      "('CAPI TULO', ' XII ')\n",
      "('CAPI TULO', ' XVI ')\n",
      "('CAPI TULO', ' XXI ')\n",
      "('CAPI TULO', ' XXIV ')\n",
      "('CAPI TULO', ' XXV ')\n",
      "('CAPI TULO', ' XXVI ')\n",
      "('CAPI TULO', ' XXIX ')\n",
      "('CAPI TULO', ' XXX ')\n",
      "('CAPI TULO', ' XXXIV ')\n",
      "('CAPI TULO', ' XXXIX ')\n",
      "('CAPI TULO', ' XLI ')\n",
      "('CAPI TULO', ' XLI I ')\n",
      "('CAPI TULO', ' XLIII ')\n",
      "('CAPI TULO', ' LIV ')\n",
      "('CAPI TULO', ' LV ')\n",
      "('CAPI TULO', ' LIX ')\n",
      "('CAPI TULO', ' LXI ')\n",
      "('CAPI TULO', ' LXVII ')\n",
      "('CAPI TULO', ' LXXIX ')\n",
      "('CAPI TULO', ' LXXXI V ')\n",
      "('CAPI TULO', ' LXXXV ')\n",
      "('CAPI TULO', ' LXXXVI I ')\n",
      "('CAPI TULO', ' LXXXIX ')\n",
      "('CAPI TULO', ' XC ')\n",
      "('CAPI TULO', ' XCI ')\n",
      "('CAPI TULO', ' C ')\n",
      "('CAPI TULO', ' Cl I ')\n",
      "('CAPI TULO', ' CVI I ')\n",
      "('CAPI TULO', ' CIX ')\n",
      "('CAPI TULO', ' CXXXI ')\n",
      "('CAPI TULO', ' CXLI I ')\n",
      "('CAPI TULO', ' CXLVI ')\n",
      "('CAPI TULO', ' CXLVI I ')\n",
      "('CAPI TULO', ' CXLVI 1 1 ')\n"
     ]
    }
   ],
   "source": [
    "for item in re.finditer(\"(CAPI TULO)([\\w ]*)\",dom):\n",
    "    print(item.groups())"
   ]
  },
  {
   "cell_type": "code",
   "execution_count": 35,
   "metadata": {},
   "outputs": [
    {
     "name": "stdout",
     "output_type": "stream",
     "text": [
      " VI \n",
      " IX \n",
      " X \n",
      " XII \n",
      " XVI \n",
      " XXI \n",
      " XXIV \n",
      " XXV \n",
      " XXVI \n",
      " XXIX \n",
      " XXX \n",
      " XXXIV \n",
      " XXXIX \n",
      " XLI \n",
      " XLI I \n",
      " XLIII \n",
      " LIV \n",
      " LV \n",
      " LIX \n",
      " LXI \n",
      " LXVII \n",
      " LXXIX \n",
      " LXXXI V \n",
      " LXXXV \n",
      " LXXXVI I \n",
      " LXXXIX \n",
      " XC \n",
      " XCI \n",
      " C \n",
      " Cl I \n",
      " CVI I \n",
      " CIX \n",
      " CXXXI \n",
      " CXLI I \n",
      " CXLVI \n",
      " CXLVI I \n",
      " CXLVI 1 1 \n"
     ]
    }
   ],
   "source": [
    "for item in re.finditer(\"(CAPI TULO)([\\w ]*)\",dom):\n",
    "    print(item.group(2))"
   ]
  },
  {
   "cell_type": "code",
   "execution_count": 44,
   "metadata": {},
   "outputs": [
    {
     "name": "stdout",
     "output_type": "stream",
     "text": [
      "(None, 'verso')\n",
      "(None, 'verso')\n",
      "(None, 'verso')\n",
      "(None, 'verso')\n",
      "(None, 'verso')\n",
      "(None, 'verso')\n",
      "(None, 'verso')\n",
      "(None, 'verso')\n",
      "(None, 'verso')\n",
      "(None, 'verso')\n",
      "(None, 'verso')\n",
      "(None, 'verso')\n",
      "(None, 'verso')\n",
      "(None, 'verso')\n",
      "(None, 'verso')\n",
      "(None, 'verso')\n",
      "(None, 'verso')\n",
      "(None, 'verso')\n",
      "(None, 'verso')\n",
      "(None, 'verso')\n",
      "(None, 'verso')\n",
      "(None, 'verso')\n",
      "(None, 'verso')\n",
      "(None, 'verso')\n",
      "(None, 'verso')\n",
      "(None, 'verso')\n",
      "(None, 'verso')\n",
      "(None, 'verso')\n",
      "(None, 'verso')\n",
      "(None, 'verso')\n",
      "(None, 'verso')\n",
      "(None, 'verso')\n",
      "(None, 'verso')\n",
      "(None, 'verso')\n",
      "(None, 'verso')\n",
      "(None, 'verso')\n",
      "(None, 'verso')\n",
      "(None, 'verso')\n",
      "(None, 'verso')\n",
      "(None, 'verso')\n",
      "(None, 'verso')\n",
      "(None, 'verso')\n",
      "(None, 'verso')\n",
      "(None, 'verso')\n"
     ]
    }
   ],
   "source": [
    "pattern=\"\"\"\n",
    "(trem)*\n",
    "(verso)\n",
    "\"\"\"\n",
    "for item in re.finditer(pattern,dom,re.VERBOSE):\n",
    "    print(item.groups())"
   ]
  },
  {
   "cell_type": "code",
   "execution_count": null,
   "metadata": {},
   "outputs": [],
   "source": []
  }
 ],
 "metadata": {
  "kernelspec": {
   "display_name": "Python 3",
   "language": "python",
   "name": "python3"
  },
  "language_info": {
   "codemirror_mode": {
    "name": "ipython",
    "version": 3
   },
   "file_extension": ".py",
   "mimetype": "text/x-python",
   "name": "python",
   "nbconvert_exporter": "python",
   "pygments_lexer": "ipython3",
   "version": "3.7.3"
  }
 },
 "nbformat": 4,
 "nbformat_minor": 2
}
