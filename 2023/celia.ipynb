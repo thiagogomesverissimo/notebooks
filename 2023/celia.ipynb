{
 "cells": [
  {
   "cell_type": "code",
   "execution_count": 3,
   "id": "548e9aff-0b03-432d-9779-e902f4cd2dbf",
   "metadata": {},
   "outputs": [],
   "source": [
    "import bs4\n",
    "import re\n",
    "import requests\n",
    "import pandas as pd\n",
    "\n",
    "# results\n",
    "df = pd.DataFrame(columns = ['link', 'title','author', 'cc'])\n",
    "\n",
    "# arquivo baixado de: http://books.uc.pt/catalogo?all\n",
    "text_file = open(\"../data/2023/celia/celia.html\", \"r\")\n",
    "data = text_file.read()\n",
    "text_file.close()"
   ]
  },
  {
   "cell_type": "code",
   "execution_count": 2,
   "id": "311e18d5-701a-45d9-9bbe-6ecf408d336f",
   "metadata": {},
   "outputs": [],
   "source": [
    "soup = bs4.BeautifulSoup(data)\n",
    "\n",
    "# links para livros\n",
    "links = soup.find_all(\"a\", string = \"LER +\")\n",
    "\n",
    "for link in links:\n",
    "    href = link.get('href')\n",
    "    url = 'http://books.uc.pt/' + href\n",
    "    res = requests.get(url)\n",
    "    book = bs4.BeautifulSoup(res.text)\n",
    "    \n",
    "    # pega titulos\n",
    "    title = book.find('h1').text\n",
    "    \n",
    "    # pega autores\n",
    "    author = ''\n",
    "    if book.find('a', {'href': re.compile('author\\?author')}) is not None:\n",
    "        author = book.find('a', {'href': re.compile('author\\?author')}).text \n",
    "    \n",
    "    # verifica se é creative commons\n",
    "    has_cc = book.find('svg', {'id': 'CC'})\n",
    "    cc = 0\n",
    "    if has_cc is not None:\n",
    "        cc = 1\n",
    "    \n",
    "    # Monta dicionário com todos campos coletados\n",
    "    dict = {'link' : url, \n",
    "            'title' : title,\n",
    "            'author': author,\n",
    "            'cc' : cc}\n",
    "    \n",
    "    # Adiciona no dataframe\n",
    "    row = pd.DataFrame([dict])\n",
    "    df = pd.concat([df, row])\n",
    "    \n",
    "df.to_csv('/tmp/celia.csv', index=False)"
   ]
  },
  {
   "cell_type": "code",
   "execution_count": 100,
   "id": "4515ae3d-19a0-4618-ac68-cf74d3f7b06b",
   "metadata": {},
   "outputs": [
    {
     "data": {
      "text/plain": [
       "470"
      ]
     },
     "execution_count": 100,
     "metadata": {},
     "output_type": "execute_result"
    }
   ],
   "source": [
    "import pandas as pd\n",
    "df = pd.read_csv ('../data/2023/celia/result.csv')\n",
    "\n",
    "# Total de livros sem CC\n",
    "sum(df['cc'] == 0.0) "
   ]
  },
  {
   "cell_type": "code",
   "execution_count": 101,
   "id": "2c2f38b8-2d9d-4296-89f6-dfc96429cfbf",
   "metadata": {},
   "outputs": [
    {
     "data": {
      "text/plain": [
       "824.0"
      ]
     },
     "execution_count": 101,
     "metadata": {},
     "output_type": "execute_result"
    }
   ],
   "source": [
    "# total de livros com CC\n",
    "df['cc'].sum()"
   ]
  },
  {
   "cell_type": "code",
   "execution_count": 102,
   "id": "d283a9db-e0c6-4da0-8b88-a492415e2fe0",
   "metadata": {},
   "outputs": [
    {
     "data": {
      "text/plain": [
       "1295"
      ]
     },
     "execution_count": 102,
     "metadata": {},
     "output_type": "execute_result"
    }
   ],
   "source": [
    "len(df)"
   ]
  },
  {
   "cell_type": "code",
   "execution_count": 80,
   "id": "dac6892b-961b-4404-887d-03184f588dd4",
   "metadata": {},
   "outputs": [
    {
     "name": "stdout",
     "output_type": "stream",
     "text": [
      "http://monographs.uc.pt/iuc/catalog/book/411\n",
      "{'tilulo': 'Deficiência em Portugal: Lugares, corpos e lutas', 'autores': ';Fernando Fontes;Bruno Sena Martins', 'afiliacao': ';Centro de Estudos Sociais da Universidade de Coimbra;Centro de Estudos Sociais da Universidade de Coimbra', 'edicao': '1.ª Edição', 'isbn': 'ISBN: 978-989-26-2423-5', 'eisbn,': 'eISBN: 978-989-26-2424-2', 'doi': '10.14195/978-989-26-2424-2', 'serie': 'Série: Coleção CES', 'data': 'Data: Dezembro, 2023', 'cc': 0, 'keywords': 'Deficiência Portugal Direitos Humanos Lutas sociais Experiência   \\n\\t  '}\n"
     ]
    }
   ],
   "source": [
    "def coleta(url):\n",
    "    res = requests.get(url)\n",
    "    book = bs4.BeautifulSoup(res.text)\n",
    "\n",
    "    # Título \n",
    "    title = book.find('h1').text\n",
    "\n",
    "    # bloquinho direita\n",
    "    bloquinho = book.find(\"p\", {\"class\": [\"small\"] }).text\n",
    "    linhas = bloquinho.splitlines()\n",
    "    edicao = linhas[0]\n",
    "    isbn = linhas[1]\n",
    "    eisbn = linhas[2]\n",
    "    doi = linhas[3]\n",
    "    serie = linhas[4]\n",
    "    data = linhas[6]\n",
    "\n",
    "    # Palavras Chave\n",
    "    keywords = book.find_all(\"p\", {\"class\": [\"small\"] })[1].text\n",
    "    keywords = keywords.replace(\"Palavras-Chaves\", \"\")\n",
    "\n",
    "    # Autores\n",
    "    #authors = book.find('a', {'href': re.compile('author\\?author')}).text \n",
    "    authors = book.find_all('a', {'href': re.compile('author\\?author')})\n",
    "    authors_string = ''\n",
    "    afiliacao_string = ''\n",
    "    for author in authors:\n",
    "        authors_string = authors_string + ';' + author.text\n",
    "        url_author = author.get('href')\n",
    "        \n",
    "        # Visitando a paǵina do autor para pegar a afiliação\n",
    "        res_author = requests.get('http://books.uc.pt/' + url_author)\n",
    "        author_page = bs4.BeautifulSoup(res_author.text)\n",
    "        afiliacao = author_page.find('span', {\"class\": [\"text-md\",\"font-medium\"] }).text\n",
    "        afiliacao_string = afiliacao_string + ';' + afiliacao        \n",
    "\n",
    "    # 0 não é CC e 1 é CC\n",
    "    has_cc = book.find('svg', {'id': 'CC'})\n",
    "    cc = 0 \n",
    "\n",
    "    doi =  doi.replace(\"DOI: \", \"\")\n",
    "    url_doi = requests.head('https://doi.org/'+doi, allow_redirects=True)\n",
    "    url_redirected = url_doi.url\n",
    "    if 'monographs' in url_redirected:\n",
    "        print(url_redirected)\n",
    "    # PARAMOS AQUI: pegar a informação se tem google play e Amazon    \n",
    "    #teste = requests.get(, allow_redirects=True)\n",
    "    #xx = bs4.BeautifulSoup(teste)\n",
    "    #yy = xx.find('a', {\"class\": [\"cmp_download_link\"] })\n",
    "    #print(yy)\n",
    "\n",
    "    \n",
    "    return {\n",
    "        'tilulo':    title,\n",
    "        'autores':   authors_string,\n",
    "        'afiliacao': afiliacao_string,\n",
    "        'edicao': edicao,\n",
    "        'isbn': isbn,\n",
    "        'eisbn,': eisbn,\n",
    "        'doi': doi,\n",
    "        'serie': serie, \n",
    "        'data': data,\n",
    "        'cc': cc,\n",
    "        'keywords': keywords\n",
    "    }\n",
    "\n",
    "url = 'http://books.uc.pt/book?book=1324'\n",
    "print(coleta(url))\n",
    "\n",
    "#print(title)\n",
    "#print(authors)"
   ]
  },
  {
   "cell_type": "code",
   "execution_count": null,
   "id": "fae1d9c1-3289-476a-8170-ebf558f99c22",
   "metadata": {},
   "outputs": [],
   "source": []
  }
 ],
 "metadata": {
  "kernelspec": {
   "display_name": "Python 3 (ipykernel)",
   "language": "python",
   "name": "python3"
  },
  "language_info": {
   "codemirror_mode": {
    "name": "ipython",
    "version": 3
   },
   "file_extension": ".py",
   "mimetype": "text/x-python",
   "name": "python",
   "nbconvert_exporter": "python",
   "pygments_lexer": "ipython3",
   "version": "3.11.2"
  }
 },
 "nbformat": 4,
 "nbformat_minor": 5
}
