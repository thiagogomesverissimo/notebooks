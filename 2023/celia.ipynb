{
 "cells": [
  {
   "cell_type": "code",
   "execution_count": 75,
   "id": "548e9aff-0b03-432d-9779-e902f4cd2dbf",
   "metadata": {},
   "outputs": [],
   "source": [
    "import bs4\n",
    "import re\n",
    "import requests\n",
    "import pandas as pd\n",
    "\n",
    "# results\n",
    "df = pd.DataFrame(columns = ['link', 'title', 'cc'])\n",
    "\n",
    "# arquivo baixado de: http://books.uc.pt/catalogo?all\n",
    "text_file = open(\"../data/2023/celia/celia.html\", \"r\")\n",
    "data = text_file.read()\n",
    "text_file.close()"
   ]
  },
  {
   "cell_type": "code",
   "execution_count": 95,
   "id": "311e18d5-701a-45d9-9bbe-6ecf408d336f",
   "metadata": {},
   "outputs": [],
   "source": [
    "soup = bs4.BeautifulSoup(data)\n",
    "\n",
    "# links para livros\n",
    "links = soup.find_all(\"a\", string = \"LER +\")\n",
    "\n",
    "for link in links:\n",
    "    href = link.get('href')\n",
    "    url = 'http://books.uc.pt/' + href\n",
    "    res = requests.get(url)\n",
    "    book = bs4.BeautifulSoup(res.text)\n",
    "    title = book.find('h1').text\n",
    "    has_cc = book.find('svg', {'id': 'CC'})\n",
    "    cc = 0 \n",
    "    if has_cc is not None:\n",
    "        cc = 1\n",
    "    \n",
    "    dict = {'link' : url, \n",
    "            'title' : title, \n",
    "            'cc' : cc}\n",
    "    row = pd.DataFrame([dict])\n",
    "    df = pd.concat([df, row])\n",
    "    \n",
    "df.to_csv('/tmp/celia.csv', index=False)"
   ]
  },
  {
   "cell_type": "code",
   "execution_count": 100,
   "id": "4515ae3d-19a0-4618-ac68-cf74d3f7b06b",
   "metadata": {},
   "outputs": [
    {
     "data": {
      "text/plain": [
       "470"
      ]
     },
     "execution_count": 100,
     "metadata": {},
     "output_type": "execute_result"
    }
   ],
   "source": [
    "import pandas as pd\n",
    "df = pd.read_csv ('../data/2023/celia/result.csv')\n",
    "\n",
    "# Total de livros sem CC\n",
    "sum(df['cc'] == 0.0) "
   ]
  },
  {
   "cell_type": "code",
   "execution_count": 101,
   "id": "2c2f38b8-2d9d-4296-89f6-dfc96429cfbf",
   "metadata": {},
   "outputs": [
    {
     "data": {
      "text/plain": [
       "824.0"
      ]
     },
     "execution_count": 101,
     "metadata": {},
     "output_type": "execute_result"
    }
   ],
   "source": [
    "# total de livros com CC\n",
    "df['cc'].sum()"
   ]
  },
  {
   "cell_type": "code",
   "execution_count": 102,
   "id": "d283a9db-e0c6-4da0-8b88-a492415e2fe0",
   "metadata": {},
   "outputs": [
    {
     "data": {
      "text/plain": [
       "1295"
      ]
     },
     "execution_count": 102,
     "metadata": {},
     "output_type": "execute_result"
    }
   ],
   "source": [
    "len(df)"
   ]
  },
  {
   "cell_type": "code",
   "execution_count": null,
   "id": "dac6892b-961b-4404-887d-03184f588dd4",
   "metadata": {},
   "outputs": [],
   "source": []
  },
  {
   "cell_type": "code",
   "execution_count": null,
   "id": "e1cb5689-23de-490c-a1e3-a384c13e516f",
   "metadata": {},
   "outputs": [],
   "source": []
  }
 ],
 "metadata": {
  "kernelspec": {
   "display_name": "Python 3 (ipykernel)",
   "language": "python",
   "name": "python3"
  },
  "language_info": {
   "codemirror_mode": {
    "name": "ipython",
    "version": 3
   },
   "file_extension": ".py",
   "mimetype": "text/x-python",
   "name": "python",
   "nbconvert_exporter": "python",
   "pygments_lexer": "ipython3",
   "version": "3.10.9"
  }
 },
 "nbformat": 4,
 "nbformat_minor": 5
}
